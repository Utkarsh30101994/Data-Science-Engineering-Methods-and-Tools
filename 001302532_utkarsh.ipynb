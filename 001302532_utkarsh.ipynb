{
 "cells": [
  {
   "cell_type": "markdown",
   "metadata": {},
   "source": [
    "<div style=\"text-align: right\">INFO 6105 Data Science Eng Methods and Tools, Spring 20 midterm, Section 7</div>\n",
    "<div style=\"text-align: right\">Dino Konstantopoulos, 26 February 2020</div>\n",
    "<div style=\"text-align: right\">100 points total</div>\n",
    "\n",
    "# INFO 6105 Spring 20 Midterm\n",
    "\n",
    "You have up to an hour. There is a *lot* of coding in this midterm. It is meant to simulate a real interview so you are *pressed for time*. Be mindful what you spend your time working on. Good luck!\n",
    "\n",
    ">**NO CHEATING**: If you cheat by emailing or messaging during the midterm (and we can see you from behind), we will close your laptop and ask you to leave in front of everyone, you *will* get an F for the midterm, and have a nice little chat with director Kal. You are only allowed to browse, not to communicate in any shape or form, via email, messaging, or posting. Also, you are not allowed to post or share this midterm with anyone, not now, nor in the future. The other section is taking the midterm *after* spring break."
   ]
  },
  {
   "cell_type": "markdown",
   "metadata": {},
   "source": [
    "<div style=\"text-align: right\">50 points</div>\n",
    "\n",
    "# 1. Blackjack\n",
    "\n",
    "[Blackjack](https://en.wikipedia.org/wiki/Blackjack) is the American version of a popular global banking game known as **Twenty-One**, whose relatives include *Pontoon* and *Vingt-et-Un*. It is a comparing card game between one or more players and a dealer, where each player in turn competes against the dealer. Players do not compete against each other, they compete against the dealer. It is played with one or more decks of 52 cards, and is the *most widely played casino banking game in the world*.\n",
    "\n",
    "<br />\n",
    "<center>\n",
    "<img src = ipynb.images/bj.jpg width = 500 />\n",
    "</center>\n",
    "\n",
    "Players are each dealt two cards, face up or down depending on the casino and the table. In the U.S., the dealer is also dealt two cards, normally one up (exposed) and one down (hidden). In most other countries, the dealer only receives one card face up. The value of cards two through ten is their pip value (2 through 10). Face cards (Jack, Queen, and King) are all worth ten. Aces can be worth one *or* eleven. A hand's value is the sum of the card values. Players are allowed to draw additional cards to improve their hands. A hand with an ace valued as 11 is called \"*soft*\", meaning that the hand will not bust by taking an additional card. The value of the ace will become one to prevent the hand from exceeding 21.\n",
    "\n",
    "<br />\n",
    "<center>\n",
    "<img src = ipynb.images/bj.webp width = 300 />\n",
    "</center>\n",
    "\n",
    "Once all the players have completed their hands, it is the dealer's turn. The dealer hand will not be completed if all players have either busted or received *blackjacks* (=21). The dealer then reveals the hidden card and must hit (draw another card) until the cards total up to 17 points. At 17 points or higher the dealer *must* stay (at most tables the dealer also hits on a \"*soft*\" 17, i.e. a hand containing an ace and one or more other cards totaling six). You are betting that you have a better hand than the dealer. The better hand is the hand where the sum of the card values is closer to 21 without exceeding 21. The detailed outcome of the hand follows:\n",
    "\n",
    "- If the player is dealt an Ace and a ten-value card (called a \"*blackjack*\" or \"*natural*\"), and the dealer does not, the player wins and usually receives a bonus.\n",
    "- If the player exceeds a sum of 21 (\"*busts*\"); the player loses, even if the dealer also exceeds 21.\n",
    "- If the dealer exceeds 21 (\"*busts*\") and the player does not; the player wins.\n",
    "- If the player attains a final sum higher than the dealer and does not bust; the player wins.\n",
    "- If both dealer and player receive a blackjack or any other hands with the same sum, called a \"*push*\", *no one* wins.\n",
    "\n",
    "Here's a game of blackjack in code:"
   ]
  },
  {
   "cell_type": "code",
   "execution_count": 20,
   "metadata": {},
   "outputs": [],
   "source": [
    "from random import random\n",
    "from random import choice\n",
    "\n",
    "# available card colours\n",
    "card_colours = [\"diamonds\", \"heart\", \"spades\", \"clubs\"]\n",
    "\n",
    "# match the number or name of the card with its value inside the game\n",
    "card_value = {\n",
    "    'A': 11,\n",
    "    '2': 2,\n",
    "    '3': 3,\n",
    "    '4': 4,\n",
    "    '5': 5,\n",
    "    '6': 6,\n",
    "    '7': 7,\n",
    "    '8': 8,\n",
    "    '9': 9,\n",
    "    '10': 10,\n",
    "    'J': 10,\n",
    "    'Q': 10,\n",
    "    'K': 10\n",
    "}\n",
    "\n",
    "\n",
    "def calculate_score(card_list):\n",
    "    \"\"\"Calculate the score based on a list of cards\n",
    "    Args:\n",
    "        card_list: list of cards\n",
    "    Returns:\n",
    "        total score of the list of cards\n",
    "    \"\"\"\n",
    "    total = 0\n",
    "    for card in card_list:\n",
    "        # Normally 'A' card is 11 points, but user can decide in case the sum of the score is above 21, to count\n",
    "        # 'A' as 1 instead of 11, so if we find an ace and we are at 11 or more score, it will count as 1 point.\n",
    "        if total >= 11 and card == 'A':\n",
    "            total += 1\n",
    "        else:\n",
    "            total += card_value[card]\n",
    "    return total\n",
    "\n",
    "\n",
    "def play_turn(deck):\n",
    "    \"\"\"Run a turn of Blackjack for a player\n",
    "    Args:\n",
    "        deck: list of cards available\n",
    "    Returns:\n",
    "        total score of the turn\n",
    "    \"\"\"\n",
    "    # We will store all the cards that come out in the following list\n",
    "    table_cards = []\n",
    "    user_input = 'y'\n",
    "    \n",
    "    # While user says 'y' and the player hasn't lost, cards will come out\n",
    "    while user_input == 'y':\n",
    "        \n",
    "        # Calculate random card position\n",
    "        position = int(random() * len(deck))\n",
    "        \n",
    "        # Give card\n",
    "        print (deck[position])\n",
    "        table_cards.append(deck[position][0])\n",
    "        del deck[position]\n",
    "        \n",
    "        # Check if you lost, if you did the cycle will break\n",
    "        if calculate_score(table_cards) >= 21:\n",
    "            break\n",
    "            \n",
    "        # We ask the user through raw_input function if he wants another card\n",
    "        #user_input = raw_input('Do you want another card? (Y)')\n",
    "        # Here we randomly pick 'y' or 'n':\n",
    "        user_input = choice(['y', 'n'])\n",
    "        \n",
    "    print (\"Your score is: %d\" % calculate_score(table_cards))\n",
    "    \n",
    "    # Return the round total score\n",
    "    return calculate_score(table_cards)\n",
    "\n",
    "\n",
    "def game():\n",
    "    # Define an empty deck\n",
    "    deck = []\n",
    "    \n",
    "    # Populate the deck with all the 52 cards\n",
    "    # For each colour...\n",
    "    for colour in card_colours:\n",
    "        # And for each card\n",
    "        for card in card_value:\n",
    "            # Append a card-colour couple in form of a tuple, the deck will look like this:\n",
    "            # [('A', 'diamonds'), ('2', 'diamonds'), ('3', 'diamonds')...]\n",
    "            deck.append((card, colour))\n",
    "\n",
    "    # Create a list of players, in this case 2 players will play\n",
    "    players = ['player ', 'Dealer']\n",
    "\n",
    "    max_score = 0\n",
    "    winner = None\n",
    "\n",
    "    # run the game one time per player\n",
    "    for player in players:\n",
    "        print (\"\\n%s, your turn starts now!\" % player)\n",
    "        score = play_turn(deck)\n",
    "        \n",
    "        # We check who is winning the match, if the current player score is above previous highest,\n",
    "        # he is the new winner\n",
    "        if 21 >= score > max_score:\n",
    "            max_score = score\n",
    "            winner = player\n",
    "            \n",
    "    # run the game one time per dealer\n",
    "    for player in players:\n",
    "        print (\"\\n%s, your turn starts now!\" % player)\n",
    "        score = play_turn(deck)\n",
    "        \n",
    "        # We check who is winning the match, if the current player score is above previous highest,\n",
    "        # he is the new winner\n",
    "        if 21 >= score > max_score:\n",
    "            max_score = score\n",
    "            winner = player\n",
    "\n",
    "    print (\"Winner is %s\" % winner)"
   ]
  },
  {
   "cell_type": "markdown",
   "metadata": {},
   "source": [
    "Go ahead, play a game of blackjack:"
   ]
  },
  {
   "cell_type": "code",
   "execution_count": 2,
   "metadata": {},
   "outputs": [],
   "source": [
    "from random import random\n",
    "from random import choice\n",
    "\n",
    "# available card colours\n",
    "card_colours = [\"diamonds\", \"heart\", \"spades\", \"clubs\"]\n",
    "\n",
    "# match the number or name of the card with its value inside the game\n",
    "card_value = {\n",
    "    'A': 11,\n",
    "    '2': 2,\n",
    "    '3': 3,\n",
    "    '4': 4,\n",
    "    '5': 5,\n",
    "    '6': 6,\n",
    "    '7': 7,\n",
    "    '8': 8,\n",
    "    '9': 9,\n",
    "    '10': 10,\n",
    "    'J': 10,\n",
    "    'Q': 10,\n",
    "    'K': 10\n",
    "}\n"
   ]
  },
  {
   "cell_type": "code",
   "execution_count": 4,
   "metadata": {},
   "outputs": [
    {
     "data": {
      "text/plain": [
       "{'A': 11,\n",
       " '2': 2,\n",
       " '3': 3,\n",
       " '4': 4,\n",
       " '5': 5,\n",
       " '6': 6,\n",
       " '7': 7,\n",
       " '8': 8,\n",
       " '9': 9,\n",
       " '10': 10,\n",
       " 'J': 10,\n",
       " 'Q': 10,\n",
       " 'K': 10}"
      ]
     },
     "execution_count": 4,
     "metadata": {},
     "output_type": "execute_result"
    }
   ],
   "source": [
    "card_value"
   ]
  },
  {
   "cell_type": "code",
   "execution_count": 3,
   "metadata": {},
   "outputs": [
    {
     "data": {
      "text/plain": [
       "['diamonds', 'heart', 'spades', 'clubs']"
      ]
     },
     "execution_count": 3,
     "metadata": {},
     "output_type": "execute_result"
    }
   ],
   "source": [
    "card_colours"
   ]
  },
  {
   "cell_type": "code",
   "execution_count": 7,
   "metadata": {},
   "outputs": [],
   "source": [
    "def calculate_score(card_list):\n",
    "    \"\"\"Calculate the score based on a list of cards\n",
    "    Args:\n",
    "        card_list: list of cards\n",
    "    Returns:\n",
    "        total score of the list of cards\n",
    "    \"\"\"\n",
    "    total = 0\n",
    "    for card in card_list:\n",
    "        # Normally 'A' card is 11 points, but user can decide in case the sum of the score is above 21, to count\n",
    "        # 'A' as 1 instead of 11, so if we find an ace and we are at 11 or more score, it will count as 1 point.\n",
    "        if total >= 11 and card == 'A':\n",
    "            total += 1\n",
    "        else:\n",
    "            total += card_value[card]\n",
    "    return total"
   ]
  },
  {
   "cell_type": "code",
   "execution_count": 8,
   "metadata": {},
   "outputs": [],
   "source": [
    "def play_turn(deck):\n",
    "    \"\"\"Run a turn of Blackjack for a player\n",
    "    Args:\n",
    "        deck: list of cards available\n",
    "    Returns:\n",
    "        total score of the turn\n",
    "    \"\"\"\n",
    "    # We will store all the cards that come out in the following list\n",
    "    table_cards = []\n",
    "    user_input = 'y'\n",
    "    \n",
    "    # While user says 'y' and the player hasn't lost, cards will come out\n",
    "    while user_input == 'y':\n",
    "        \n",
    "        # Calculate random card position\n",
    "        position = int(random() * len(deck))\n",
    "        \n",
    "        # Give card\n",
    "        print (deck[position])\n",
    "        table_cards.append(deck[position][0])\n",
    "        del deck[position]\n",
    "        \n",
    "        # Check if you lost, if you did the cycle will break\n",
    "        if calculate_score(table_cards) >= 21:\n",
    "            break\n",
    "            \n",
    "        # We ask the user through raw_input function if he wants another card\n",
    "        #user_input = raw_input('Do you want another card? (Y)')\n",
    "        # Here we randomly pick 'y' or 'n':\n",
    "        user_input = choice(['y', 'n'])\n",
    "        \n",
    "    print (\"Your score is: %d\" % calculate_score(table_cards))\n",
    "    \n",
    "    # Return the round total score\n",
    "    return calculate_score(table_cards)"
   ]
  },
  {
   "cell_type": "code",
   "execution_count": 9,
   "metadata": {},
   "outputs": [],
   "source": [
    "def game():\n",
    "    # Define an empty deck\n",
    "    deck = []\n",
    "    \n",
    "    # Populate the deck with all the 52 cards\n",
    "    # For each colour...\n",
    "    for colour in card_colours:\n",
    "        # And for each card\n",
    "        for card in card_value:\n",
    "            # Append a card-colour couple in form of a tuple, the deck will look like this:\n",
    "            # [('A', 'diamonds'), ('2', 'diamonds'), ('3', 'diamonds')...]\n",
    "            deck.append((card, colour))\n",
    "\n",
    "    # Create a list of players, in this case 2 players will play\n",
    "    players = ['player ', 'dealer']\n",
    "\n",
    "    max_score = 0\n",
    "    winner = None\n",
    "\n",
    "    # run the game one time per player\n",
    "    for player in players:\n",
    "        print (\"\\n%s, your turn starts now!\" % player)\n",
    "        score = play_turn(deck)\n",
    "        \n",
    "        # We check who is winning the match, if the current player score is above previous highest,\n",
    "        # he is the new winner\n",
    "        if 21 >= score > max_score:\n",
    "            max_score = score\n",
    "            winner = player\n",
    "            \n",
    "     # run the game one time per dealer\n",
    "    for player in players:\n",
    "        print (\"\\n%s, your turn starts now!\" % player)\n",
    "        score = play_turn(deck)\n",
    "        \n",
    "        # We check who is winning the match, if the current player score is above previous highest,\n",
    "        # he is the new winner\n",
    "        if 21 >= score > max_score:\n",
    "            max_score = score\n",
    "            winner = player\n",
    "\n",
    "    print (\"Winner is %s\" % winner)"
   ]
  },
  {
   "cell_type": "markdown",
   "metadata": {},
   "source": [
    "### Question 1\n",
    "Now, *modify* the code above to follow the *american* rules of blackjack described above, so that player 1 is **you** and player 2 is the **dealer**. You have to modify the code *above*, not any other package.\n",
    "\n",
    "### Question 2\n",
    "*Then*, adopt this simple strategy:\n",
    "- If your hand ≥ 18, 'stick' with a probability of 80%, else 'hit' with a probability of 80%. \n",
    "\n",
    "This isn’t an amazing policy but it is simple and you will still be able to win some games. Now, do a Monte Carlo simulation of this strategy and figure out its winning **Expectation** (by playing through thousands of games).\n",
    "\n",
    "### Question 3\n",
    "Now let's say that you want to know the value of holding a hand of 15 while the dealer is showing, let's say, a 10. This is an example of a **prediction** problem. Each time the agent carries out action A in state S for the first time in that game, it will calculate the reward of the game from that point onwards. By doing this, you can determine how valuable it is to be in that current state.\n",
    "\n",
    "Suppose you run this Monte Carlo simulation many times and you come up with the followind strategy table:\n",
    "\n",
    "<br />\n",
    "<center>\n",
    "<img src = ipynb.images/strategy.png width = 500 />\n",
    "</center>\n",
    "\n",
    "Now *implement* this strategy in code, run a Monte Carlo simulation, and compare the winning percentage with the previous strategy. `S` is **stick** (*no more cards, please*), `H` is **hit** (*please give me another card Mr. Dealer*), and assume `D` is **hit** as well. Which is a better strategy and by how much?"
   ]
  },
  {
   "cell_type": "markdown",
   "metadata": {},
   "source": [
    "<div style=\"text-align: right\">50 points</div>\n",
    "\n",
    "# 2. Fair or Crooked?\n",
    "\n",
    "We have a coin and we don't know if it's fair or not. Let's see if it's **fair**, with a little bit of help from Data Science! We will compute a **p-value**, but using **Bayesian estimation** instead of a t-test! This is a ***real*** test statistic, where we visit parallel universes, but we use real Bayesian simulations instead of assuming that the data is *pretty* or that we have a Student-T distribution.\n",
    "\n",
    "<br />\n",
    "<center>\n",
    "<img src = ipynb.images/coin-toss.jpg width = 300 />\n",
    "</center>\n",
    "\n",
    "So we toss the coin a thousand times and record the following tosses: "
   ]
  },
  {
   "cell_type": "code",
   "execution_count": 5,
   "metadata": {},
   "outputs": [],
   "source": [
    "alltosses = '''TTTTHTHHTHHTTHHHHTTHHHTHHTHTTHHHHHTHTTTTHHTTHHTHHTTTHTHHHTHTHHTTTHHHHTHHTTHTHTHHTHHTTHHTHTHTHHHHHHHTT\n",
    "HTHHTTTTTHHTHTTTTTHHTHHHTTHTHHTHHTTHHTHTHTHTHHHTTTTHTTHTTHTTHHHTHHTHTHTTHHHHHTTHHHHHTHHTHHTTHHTTTTTHTTHHHHHTTTTTTHHH\n",
    "THTHHTTTTHTHTHHTTHTHHHHHHHTTHTTHTTTHHTTTHHTTHHHHHHTTTHTHHHHTHTHHTTTHHTHHTHTHTHHTHHTTHHHHHTTTTHTTHHTHTHHTHTHTHHHHHHTT\n",
    "TTTHTTHTTHHHTTHHTHTTHHTHHHTTTTTHHHTHTHTTTHHHHTTTTHTTTHTTTHHTHHHHTHTHHHTHHTHTTHTTTHTHHTTTHHHHHTTHHHTTHHTTTHHTTTTHHHHT\n",
    "HTTTHHHTTTHTHHTHHTHTHHHTHTHTTTHTHTHTTHTTTHHHTTHTTHHTTHHHTHHHHHTTTTHTTHTHHHHTTHHHTTTHHHHTTHHTTTTTHHTTTHHHTTTTTTHTHHTH\n",
    "HHHTHHHTHTHTTTTTTTHTTHHTHHHTHHTTTTTTHHTHTHHTTTTHTHTTTTHTHHHTTHHTTTHTHTTTHHTHHHTTTTHHHHHTTTHHHTTTHTHHTTTTHTHHHHHHTHHH\n",
    "TTHTHHHHHTHTHTTHHTHHTTHTHTHTHHTTHTTHHTHHTTHTTHHHHHHTTTHTTHHHHHTTTHHTHHHTTHTHHTTHHTTTTHTTHTTTHHHTHHTTHTTHHTTTTHHTTTHH\n",
    "HHHTTTTHHHTHTHHHTTTTTHTHTHTHHTHTTHHHHTTHTTTHTTHHHTHTHTTHHHHTHHTHTHTHHTTTHHHTHTTHHTTHTTHTTTTHHHHHTHHHHTTTHHHHTTHHHHHT\n",
    "HHTHTTHTTHHHTTHTHTTTTTHTTTTTHHHTTTHTTHTHTHHHTHHTHTTHHHTHTHTTTTTTHTTHHHHTHHHHHHHTHHTTTHH'''"
   ]
  },
  {
   "cell_type": "markdown",
   "metadata": {},
   "source": [
    "Use this cell to remove carriage returns:"
   ]
  },
  {
   "cell_type": "code",
   "execution_count": 6,
   "metadata": {},
   "outputs": [
    {
     "data": {
      "text/plain": [
       "'TTTTHTHHTHHTTHHHHTTHHHTHHTHTTHHHHHTHTTTTHHTTHHTHHTTTHTHHHTHTHHTTTHHHHTHHTTHTHTHHTHHTTHHTHTHTHHHHHHHTTHTHHTTTTTHHTHTTTTTHHTHHHTTHTHHTHHTTHHTHTHTHTHHHTTTTHTTHTTHTTHHHTHHTHTHTTHHHHHTTHHHHHTHHTHHTTHHTTTTTHTTHHHHHTTTTTTHHHTHTHHTTTTHTHTHHTTHTHHHHHHHTTHTTHTTTHHTTTHHTTHHHHHHTTTHTHHHHTHTHHTTTHHTHHTHTHTHHTHHTTHHHHHTTTTHTTHHTHTHHTHTHTHHHHHHTTTTTHTTHTTHHHTTHHTHTTHHTHHHTTTTTHHHTHTHTTTHHHHTTTTHTTTHTTTHHTHHHHTHTHHHTHHTHTTHTTTHTHHTTTHHHHHTTHHHTTHHTTTHHTTTTHHHHTHTTTHHHTTTHTHHTHHTHTHHHTHTHTTTHTHTHTTHTTTHHHTTHTTHHTTHHHTHHHHHTTTTHTTHTHHHHTTHHHTTTHHHHTTHHTTTTTHHTTTHHHTTTTTTHTHHTHHHHTHHHTHTHTTTTTTTHTTHHTHHHTHHTTTTTTHHTHTHHTTTTHTHTTTTHTHHHTTHHTTTHTHTTTHHTHHHTTTTHHHHHTTTHHHTTTHTHHTTTTHTHHHHHHTHHHTTHTHHHHHTHTHTTHHTHHTTHTHTHTHHTTHTTHHTHHTTHTTHHHHHHTTTHTTHHHHHTTTHHTHHHTTHTHHTTHHTTTTHTTHTTTHHHTHHTTHTTHHTTTTHHTTTHHHHHTTTTHHHTHTHHHTTTTTHTHTHTHHTHTTHHHHTTHTTTHTTHHHTHTHTTHHHHTHHTHTHTHHTTTHHHTHTTHHTTHTTHTTTTHHHHHTHHHHTTTHHHHTTHHHHHTHHTHTTHTTHHHTTHTHTTTTTHTTTTTHHHTTTHTTHTHTHHHTHHTHTTHHHTHTHTTTTTTHTTHHHHTHHHHHHHTHHTTTHH'"
      ]
     },
     "execution_count": 6,
     "metadata": {},
     "output_type": "execute_result"
    }
   ],
   "source": [
    "alltosses = alltosses.replace('\\n', '')\n",
    "alltosses "
   ]
  },
  {
   "cell_type": "code",
   "execution_count": 12,
   "metadata": {},
   "outputs": [
    {
     "data": {
      "text/plain": [
       "1000"
      ]
     },
     "execution_count": 12,
     "metadata": {},
     "output_type": "execute_result"
    }
   ],
   "source": [
    "len(alltosses)"
   ]
  },
  {
   "cell_type": "markdown",
   "metadata": {},
   "source": [
    "For the remainder of the problem, let's assume that `T` is modelled as a `0`, and `H` as a `1`."
   ]
  },
  {
   "cell_type": "markdown",
   "metadata": {},
   "source": [
    "### Question 1\n",
    "\n",
    "Based on the `alltosses` roll above, what is the frequency for each side of the coin? Write this down in the cell below in the form of a `pandas` Series, then a `pandas` dataframe. \n",
    "\n",
    "Call `sides` your pandas series, and `toss_df` your pandas dataframe.\n",
    "\n",
    ">**HINT**: Use a python `Counter` to get `T` and `H` frequencies.\n",
    "```(python)\n",
    "import pandas as pd\n",
    "from collections import Counter\n",
    "sides = pd.Series(...\n",
    "```"
   ]
  },
  {
   "cell_type": "markdown",
   "metadata": {},
   "source": [
    "Now plot the histogram."
   ]
  },
  {
   "cell_type": "code",
   "execution_count": 23,
   "metadata": {},
   "outputs": [],
   "source": [
    "import pandas as pd\n",
    "from collections import Counter\n",
    "sides = pd.Series(Counter(list(alltosses)))"
   ]
  },
  {
   "cell_type": "code",
   "execution_count": 24,
   "metadata": {},
   "outputs": [
    {
     "data": {
      "text/plain": [
       "T    484\n",
       "H    516\n",
       "dtype: int64"
      ]
     },
     "execution_count": 24,
     "metadata": {},
     "output_type": "execute_result"
    }
   ],
   "source": [
    "sides"
   ]
  },
  {
   "cell_type": "code",
   "execution_count": 25,
   "metadata": {},
   "outputs": [],
   "source": [
    "toss = {\"heads\": {\"H\": \"516\"}, \"tails\": {\"T\": \"484\"}}"
   ]
  },
  {
   "cell_type": "code",
   "execution_count": 26,
   "metadata": {},
   "outputs": [],
   "source": [
    "toss_df = pd.DataFrame(toss)"
   ]
  },
  {
   "cell_type": "code",
   "execution_count": 27,
   "metadata": {},
   "outputs": [
    {
     "data": {
      "text/html": [
       "<div>\n",
       "<style scoped>\n",
       "    .dataframe tbody tr th:only-of-type {\n",
       "        vertical-align: middle;\n",
       "    }\n",
       "\n",
       "    .dataframe tbody tr th {\n",
       "        vertical-align: top;\n",
       "    }\n",
       "\n",
       "    .dataframe thead th {\n",
       "        text-align: right;\n",
       "    }\n",
       "</style>\n",
       "<table border=\"1\" class=\"dataframe\">\n",
       "  <thead>\n",
       "    <tr style=\"text-align: right;\">\n",
       "      <th></th>\n",
       "      <th>heads</th>\n",
       "      <th>tails</th>\n",
       "    </tr>\n",
       "  </thead>\n",
       "  <tbody>\n",
       "    <tr>\n",
       "      <td>H</td>\n",
       "      <td>516</td>\n",
       "      <td>NaN</td>\n",
       "    </tr>\n",
       "    <tr>\n",
       "      <td>T</td>\n",
       "      <td>NaN</td>\n",
       "      <td>484</td>\n",
       "    </tr>\n",
       "  </tbody>\n",
       "</table>\n",
       "</div>"
      ],
      "text/plain": [
       "  heads tails\n",
       "H   516   NaN\n",
       "T   NaN   484"
      ]
     },
     "execution_count": 27,
     "metadata": {},
     "output_type": "execute_result"
    }
   ],
   "source": [
    "toss_df"
   ]
  },
  {
   "cell_type": "code",
   "execution_count": 30,
   "metadata": {},
   "outputs": [],
   "source": [
    "import matplotlib.pyplot as plt\n",
    "%matplotlib inline"
   ]
  },
  {
   "cell_type": "code",
   "execution_count": 31,
   "metadata": {},
   "outputs": [
    {
     "data": {
      "text/plain": [
       "516"
      ]
     },
     "execution_count": 31,
     "metadata": {},
     "output_type": "execute_result"
    }
   ],
   "source": [
    "import pandas as pd\n",
    "[str(x) for x in alltosses].count('H')"
   ]
  },
  {
   "cell_type": "code",
   "execution_count": 39,
   "metadata": {},
   "outputs": [
    {
     "data": {
      "text/plain": [
       "T    484\n",
       "H    516\n",
       "dtype: int64"
      ]
     },
     "execution_count": 39,
     "metadata": {},
     "output_type": "execute_result"
    }
   ],
   "source": [
    "import pandas as pd\n",
    "from collections import Counter\n",
    "digits = pd.Series(Counter(list(alltosses)))\n",
    "digits"
   ]
  },
  {
   "cell_type": "code",
   "execution_count": 36,
   "metadata": {},
   "outputs": [
    {
     "data": {
      "text/plain": [
       "(array([0., 0., 0., 0., 0., 1., 0., 0., 0., 0.]),\n",
       " array([-0.5, -0.4, -0.3, -0.2, -0.1,  0. ,  0.1,  0.2,  0.3,  0.4,  0.5]),\n",
       " <a list of 10 Patch objects>)"
      ]
     },
     "execution_count": 36,
     "metadata": {},
     "output_type": "execute_result"
    },
    {
     "data": {
      "image/png": "[encoded data removed]",
      "text/plain": [
       "<Figure size 432x288 with 1 Axes>"
      ]
     },
     "metadata": {
      "needs_background": "light"
     },
     "output_type": "display_data"
    }
   ],
   "source": [
    "plt.hist(alltosses, alpha=1.0)"
   ]
  },
  {
   "cell_type": "code",
   "execution_count": 37,
   "metadata": {},
   "outputs": [
    {
     "ename": "TypeError",
     "evalue": "Could not convert TTTTHTHHTHHTTHHHHTTHHHTHHTHTTHHHHHTHTTTTHHTTHHTHHTTTHTHHHTHTHHTTTHHHHTHHTTHTHTHHTHHTTHHTHTHTHHHHHHHTTHTHHTTTTTHHTHTTTTTHHTHHHTTHTHHTHHTTHHTHTHTHTHHHTTTTHTTHTTHTTHHHTHHTHTHTTHHHHHTTHHHHHTHHTHHTTHHTTTTTHTTHHHHHTTTTTTHHHTHTHHTTTTHTHTHHTTHTHHHHHHHTTHTTHTTTHHTTTHHTTHHHHHHTTTHTHHHHTHTHHTTTHHTHHTHTHTHHTHHTTHHHHHTTTTHTTHHTHTHHTHTHTHHHHHHTTTTTHTTHTTHHHTTHHTHTTHHTHHHTTTTTHHHTHTHTTTHHHHTTTTHTTTHTTTHHTHHHHTHTHHHTHHTHTTHTTTHTHHTTTHHHHHTTHHHTTHHTTTHHTTTTHHHHTHTTTHHHTTTHTHHTHHTHTHHHTHTHTTTHTHTHTTHTTTHHHTTHTTHHTTHHHTHHHHHTTTTHTTHTHHHHTTHHHTTTHHHHTTHHTTTTTHHTTTHHHTTTTTTHTHHTHHHHTHHHTHTHTTTTTTTHTTHHTHHHTHHTTTTTTHHTHTHHTTTTHTHTTTTHTHHHTTHHTTTHTHTTTHHTHHHTTTTHHHHHTTTHHHTTTHTHHTTTTHTHHHHHHTHHHTTHTHHHHHTHTHTTHHTHHTTHTHTHTHHTTHTTHHTHHTTHTTHHHHHHTTTHTTHHHHHTTTHHTHHHTTHTHHTTHHTTTTHTTHTTTHHHTHHTTHTTHHTTTTHHTTTHHHHHTTTTHHHTHTHHHTTTTTHTHTHTHHTHTTHHHHTTHTTTHTTHHHTHTHTTHHHHTHHTHTHTHHTTTHHHTHTTHHTTHTTHTTTTHHHHHTHHHHTTTHHHHTTHHHHHTHHTHTTHTTHHHTTHTHTTTTTHTTTTTHHHTTTHTTHTHTHHHTHHTHTTHHHTHTHTTTTTTHTTHHHHTHHHHHHHTHHTTTHH to numeric",
     "output_type": "error",
     "traceback": [
      "\u001b[1;31m---------------------------------------------------------------------------\u001b[0m",
      "\u001b[1;31mValueError\u001b[0m                                Traceback (most recent call last)",
      "\u001b[1;32m~\\Anaconda3\\lib\\site-packages\\pandas\\core\\nanops.py\u001b[0m in \u001b[0;36m_ensure_numeric\u001b[1;34m(x)\u001b[0m\n\u001b[0;32m   1303\u001b[0m         \u001b[1;32mtry\u001b[0m\u001b[1;33m:\u001b[0m\u001b[1;33m\u001b[0m\u001b[1;33m\u001b[0m\u001b[0m\n\u001b[1;32m-> 1304\u001b[1;33m             \u001b[0mx\u001b[0m \u001b[1;33m=\u001b[0m \u001b[0mfloat\u001b[0m\u001b[1;33m(\u001b[0m\u001b[0mx\u001b[0m\u001b[1;33m)\u001b[0m\u001b[1;33m\u001b[0m\u001b[1;33m\u001b[0m\u001b[0m\n\u001b[0m\u001b[0;32m   1305\u001b[0m         \u001b[1;32mexcept\u001b[0m \u001b[0mException\u001b[0m\u001b[1;33m:\u001b[0m\u001b[1;33m\u001b[0m\u001b[1;33m\u001b[0m\u001b[0m\n",
      "\u001b[1;31mValueError\u001b[0m: could not convert string to float: 'TTTTHTHHTHHTTHHHHTTHHHTHHTHTTHHHHHTHTTTTHHTTHHTHHTTTHTHHHTHTHHTTTHHHHTHHTTHTHTHHTHHTTHHTHTHTHHHHHHHTTHTHHTTTTTHHTHTTTTTHHTHHHTTHTHHTHHTTHHTHTHTHTHHHTTTTHTTHTTHTTHHHTHHTHTHTTHHHHHTTHHHHHTHHTHHTTHHTTTTTHTTHHHHHTTTTTTHHHTHTHHTTTTHTHTHHTTHTHHHHHHHTTHTTHTTTHHTTTHHTTHHHHHHTTTHTHHHHTHTHHTTTHHTHHTHTHTHHTHHTTHHHHHTTTTHTTHHTHTHHTHTHTHHHHHHTTTTTHTTHTTHHHTTHHTHTTHHTHHHTTTTTHHHTHTHTTTHHHHTTTTHTTTHTTTHHTHHHHTHTHHHTHHTHTTHTTTHTHHTTTHHHHHTTHHHTTHHTTTHHTTTTHHHHTHTTTHHHTTTHTHHTHHTHTHHHTHTHTTTHTHTHTTHTTTHHHTTHTTHHTTHHHTHHHHHTTTTHTTHTHHHHTTHHHTTTHHHHTTHHTTTTTHHTTTHHHTTTTTTHTHHTHHHHTHHHTHTHTTTTTTTHTTHHTHHHTHHTTTTTTHHTHTHHTTTTHTHTTTTHTHHHTTHHTTTHTHTTTHHTHHHTTTTHHHHHTTTHHHTTTHTHHTTTTHTHHHHHHTHHHTTHTHHHHHTHTHTTHHTHHTTHTHTHTHHTTHTTHHTHHTTHTTHHHHHHTTTHTTHHHHHTTTHHTHHHTTHTHHTTHHTTTTHTTHTTTHHHTHHTTHTTHHTTTTHHTTTHHHHHTTTTHHHTHTHHHTTTTTHTHTHTHHTHTTHHHHTTHTTTHTTHHHTHTHTTHHHHTHHTHTHTHHTTTHHHTHTTHHTTHTTHTTTTHHHHHTHHHHTTTHHHHTTHHHHHTHHTHTTHTTHHHTTHTHTTTTTHTTTTTHHHTTTHTTHTHTHHHTHHTHTTHHHTHTHTTTTTTHTTHHHHTHHHHHHHTHHTTTHH'",
      "\nDuring handling of the above exception, another exception occurred:\n",
      "\u001b[1;31mValueError\u001b[0m                                Traceback (most recent call last)",
      "\u001b[1;32m~\\Anaconda3\\lib\\site-packages\\pandas\\core\\nanops.py\u001b[0m in \u001b[0;36m_ensure_numeric\u001b[1;34m(x)\u001b[0m\n\u001b[0;32m   1306\u001b[0m             \u001b[1;32mtry\u001b[0m\u001b[1;33m:\u001b[0m\u001b[1;33m\u001b[0m\u001b[1;33m\u001b[0m\u001b[0m\n\u001b[1;32m-> 1307\u001b[1;33m                 \u001b[0mx\u001b[0m \u001b[1;33m=\u001b[0m \u001b[0mcomplex\u001b[0m\u001b[1;33m(\u001b[0m\u001b[0mx\u001b[0m\u001b[1;33m)\u001b[0m\u001b[1;33m\u001b[0m\u001b[1;33m\u001b[0m\u001b[0m\n\u001b[0m\u001b[0;32m   1308\u001b[0m             \u001b[1;32mexcept\u001b[0m \u001b[0mException\u001b[0m\u001b[1;33m:\u001b[0m\u001b[1;33m\u001b[0m\u001b[1;33m\u001b[0m\u001b[0m\n",
      "\u001b[1;31mValueError\u001b[0m: complex() arg is a malformed string",
      "\nDuring handling of the above exception, another exception occurred:\n",
      "\u001b[1;31mTypeError\u001b[0m                                 Traceback (most recent call last)",
      "\u001b[1;32m~\\Anaconda3\\lib\\site-packages\\pandas\\core\\nanops.py\u001b[0m in \u001b[0;36mf\u001b[1;34m(values, axis, skipna, **kwds)\u001b[0m\n\u001b[0;32m    119\u001b[0m                 \u001b[1;32melse\u001b[0m\u001b[1;33m:\u001b[0m\u001b[1;33m\u001b[0m\u001b[1;33m\u001b[0m\u001b[0m\n\u001b[1;32m--> 120\u001b[1;33m                     \u001b[0mresult\u001b[0m \u001b[1;33m=\u001b[0m \u001b[0malt\u001b[0m\u001b[1;33m(\u001b[0m\u001b[0mvalues\u001b[0m\u001b[1;33m,\u001b[0m \u001b[0maxis\u001b[0m\u001b[1;33m=\u001b[0m\u001b[0maxis\u001b[0m\u001b[1;33m,\u001b[0m \u001b[0mskipna\u001b[0m\u001b[1;33m=\u001b[0m\u001b[0mskipna\u001b[0m\u001b[1;33m,\u001b[0m \u001b[1;33m**\u001b[0m\u001b[0mkwds\u001b[0m\u001b[1;33m)\u001b[0m\u001b[1;33m\u001b[0m\u001b[1;33m\u001b[0m\u001b[0m\n\u001b[0m\u001b[0;32m    121\u001b[0m             \u001b[1;32mexcept\u001b[0m \u001b[0mException\u001b[0m\u001b[1;33m:\u001b[0m\u001b[1;33m\u001b[0m\u001b[1;33m\u001b[0m\u001b[0m\n",
      "\u001b[1;32m~\\Anaconda3\\lib\\site-packages\\pandas\\core\\nanops.py\u001b[0m in \u001b[0;36mnanmean\u001b[1;34m(values, axis, skipna, mask)\u001b[0m\n\u001b[0;32m    550\u001b[0m     \u001b[0mcount\u001b[0m \u001b[1;33m=\u001b[0m \u001b[0m_get_counts\u001b[0m\u001b[1;33m(\u001b[0m\u001b[0mvalues\u001b[0m\u001b[1;33m.\u001b[0m\u001b[0mshape\u001b[0m\u001b[1;33m,\u001b[0m \u001b[0mmask\u001b[0m\u001b[1;33m,\u001b[0m \u001b[0maxis\u001b[0m\u001b[1;33m,\u001b[0m \u001b[0mdtype\u001b[0m\u001b[1;33m=\u001b[0m\u001b[0mdtype_count\u001b[0m\u001b[1;33m)\u001b[0m\u001b[1;33m\u001b[0m\u001b[1;33m\u001b[0m\u001b[0m\n\u001b[1;32m--> 551\u001b[1;33m     \u001b[0mthe_sum\u001b[0m \u001b[1;33m=\u001b[0m \u001b[0m_ensure_numeric\u001b[0m\u001b[1;33m(\u001b[0m\u001b[0mvalues\u001b[0m\u001b[1;33m.\u001b[0m\u001b[0msum\u001b[0m\u001b[1;33m(\u001b[0m\u001b[0maxis\u001b[0m\u001b[1;33m,\u001b[0m \u001b[0mdtype\u001b[0m\u001b[1;33m=\u001b[0m\u001b[0mdtype_sum\u001b[0m\u001b[1;33m)\u001b[0m\u001b[1;33m)\u001b[0m\u001b[1;33m\u001b[0m\u001b[1;33m\u001b[0m\u001b[0m\n\u001b[0m\u001b[0;32m    552\u001b[0m \u001b[1;33m\u001b[0m\u001b[0m\n",
      "\u001b[1;32m~\\Anaconda3\\lib\\site-packages\\pandas\\core\\nanops.py\u001b[0m in \u001b[0;36m_ensure_numeric\u001b[1;34m(x)\u001b[0m\n\u001b[0;32m   1309\u001b[0m                 raise TypeError(\n\u001b[1;32m-> 1310\u001b[1;33m                     \u001b[1;34m\"Could not convert {value!s} to numeric\"\u001b[0m\u001b[1;33m.\u001b[0m\u001b[0mformat\u001b[0m\u001b[1;33m(\u001b[0m\u001b[0mvalue\u001b[0m\u001b[1;33m=\u001b[0m\u001b[0mx\u001b[0m\u001b[1;33m)\u001b[0m\u001b[1;33m\u001b[0m\u001b[1;33m\u001b[0m\u001b[0m\n\u001b[0m\u001b[0;32m   1311\u001b[0m                 )\n",
      "\u001b[1;31mTypeError\u001b[0m: Could not convert TTTTHTHHTHHTTHHHHTTHHHTHHTHTTHHHHHTHTTTTHHTTHHTHHTTTHTHHHTHTHHTTTHHHHTHHTTHTHTHHTHHTTHHTHTHTHHHHHHHTTHTHHTTTTTHHTHTTTTTHHTHHHTTHTHHTHHTTHHTHTHTHTHHHTTTTHTTHTTHTTHHHTHHTHTHTTHHHHHTTHHHHHTHHTHHTTHHTTTTTHTTHHHHHTTTTTTHHHTHTHHTTTTHTHTHHTTHTHHHHHHHTTHTTHTTTHHTTTHHTTHHHHHHTTTHTHHHHTHTHHTTTHHTHHTHTHTHHTHHTTHHHHHTTTTHTTHHTHTHHTHTHTHHHHHHTTTTTHTTHTTHHHTTHHTHTTHHTHHHTTTTTHHHTHTHTTTHHHHTTTTHTTTHTTTHHTHHHHTHTHHHTHHTHTTHTTTHTHHTTTHHHHHTTHHHTTHHTTTHHTTTTHHHHTHTTTHHHTTTHTHHTHHTHTHHHTHTHTTTHTHTHTTHTTTHHHTTHTTHHTTHHHTHHHHHTTTTHTTHTHHHHTTHHHTTTHHHHTTHHTTTTTHHTTTHHHTTTTTTHTHHTHHHHTHHHTHTHTTTTTTTHTTHHTHHHTHHTTTTTTHHTHTHHTTTTHTHTTTTHTHHHTTHHTTTHTHTTTHHTHHHTTTTHHHHHTTTHHHTTTHTHHTTTTHTHHHHHHTHHHTTHTHHHHHTHTHTTHHTHHTTHTHTHTHHTTHTTHHTHHTTHTTHHHHHHTTTHTTHHHHHTTTHHTHHHTTHTHHTTHHTTTTHTTHTTTHHHTHHTTHTTHHTTTTHHTTTHHHHHTTTTHHHTHTHHHTTTTTHTHTHTHHTHTTHHHHTTHTTTHTTHHHTHTHTTHHHHTHHTHTHTHHTTTHHHTHTTHHTTHTTHTTTTHHHHHTHHHHTTTHHHHTTHHHHHTHHTHTTHTTHHHTTHTHTTTTTHTTTTTHHHTTTHTTHTHTHHHTHHTHTTHHHTHTHTTTTTTHTTHHHHTHHHHHHHTHHTTTHH to numeric",
      "\nDuring handling of the above exception, another exception occurred:\n",
      "\u001b[1;31mValueError\u001b[0m                                Traceback (most recent call last)",
      "\u001b[1;32m~\\Anaconda3\\lib\\site-packages\\pandas\\core\\nanops.py\u001b[0m in \u001b[0;36m_ensure_numeric\u001b[1;34m(x)\u001b[0m\n\u001b[0;32m   1303\u001b[0m         \u001b[1;32mtry\u001b[0m\u001b[1;33m:\u001b[0m\u001b[1;33m\u001b[0m\u001b[1;33m\u001b[0m\u001b[0m\n\u001b[1;32m-> 1304\u001b[1;33m             \u001b[0mx\u001b[0m \u001b[1;33m=\u001b[0m \u001b[0mfloat\u001b[0m\u001b[1;33m(\u001b[0m\u001b[0mx\u001b[0m\u001b[1;33m)\u001b[0m\u001b[1;33m\u001b[0m\u001b[1;33m\u001b[0m\u001b[0m\n\u001b[0m\u001b[0;32m   1305\u001b[0m         \u001b[1;32mexcept\u001b[0m \u001b[0mException\u001b[0m\u001b[1;33m:\u001b[0m\u001b[1;33m\u001b[0m\u001b[1;33m\u001b[0m\u001b[0m\n",
      "\u001b[1;31mValueError\u001b[0m: could not convert string to float: 'TTTTHTHHTHHTTHHHHTTHHHTHHTHTTHHHHHTHTTTTHHTTHHTHHTTTHTHHHTHTHHTTTHHHHTHHTTHTHTHHTHHTTHHTHTHTHHHHHHHTTHTHHTTTTTHHTHTTTTTHHTHHHTTHTHHTHHTTHHTHTHTHTHHHTTTTHTTHTTHTTHHHTHHTHTHTTHHHHHTTHHHHHTHHTHHTTHHTTTTTHTTHHHHHTTTTTTHHHTHTHHTTTTHTHTHHTTHTHHHHHHHTTHTTHTTTHHTTTHHTTHHHHHHTTTHTHHHHTHTHHTTTHHTHHTHTHTHHTHHTTHHHHHTTTTHTTHHTHTHHTHTHTHHHHHHTTTTTHTTHTTHHHTTHHTHTTHHTHHHTTTTTHHHTHTHTTTHHHHTTTTHTTTHTTTHHTHHHHTHTHHHTHHTHTTHTTTHTHHTTTHHHHHTTHHHTTHHTTTHHTTTTHHHHTHTTTHHHTTTHTHHTHHTHTHHHTHTHTTTHTHTHTTHTTTHHHTTHTTHHTTHHHTHHHHHTTTTHTTHTHHHHTTHHHTTTHHHHTTHHTTTTTHHTTTHHHTTTTTTHTHHTHHHHTHHHTHTHTTTTTTTHTTHHTHHHTHHTTTTTTHHTHTHHTTTTHTHTTTTHTHHHTTHHTTTHTHTTTHHTHHHTTTTHHHHHTTTHHHTTTHTHHTTTTHTHHHHHHTHHHTTHTHHHHHTHTHTTHHTHHTTHTHTHTHHTTHTTHHTHHTTHTTHHHHHHTTTHTTHHHHHTTTHHTHHHTTHTHHTTHHTTTTHTTHTTTHHHTHHTTHTTHHTTTTHHTTTHHHHHTTTTHHHTHTHHHTTTTTHTHTHTHHTHTTHHHHTTHTTTHTTHHHTHTHTTHHHHTHHTHTHTHHTTTHHHTHTTHHTTHTTHTTTTHHHHHTHHHHTTTHHHHTTHHHHHTHHTHTTHTTHHHTTHTHTTTTTHTTTTTHHHTTTHTTHTHTHHHTHHTHTTHHHTHTHTTTTTTHTTHHHHTHHHHHHHTHHTTTHH'",
      "\nDuring handling of the above exception, another exception occurred:\n",
      "\u001b[1;31mValueError\u001b[0m                                Traceback (most recent call last)",
      "\u001b[1;32m~\\Anaconda3\\lib\\site-packages\\pandas\\core\\nanops.py\u001b[0m in \u001b[0;36m_ensure_numeric\u001b[1;34m(x)\u001b[0m\n\u001b[0;32m   1306\u001b[0m             \u001b[1;32mtry\u001b[0m\u001b[1;33m:\u001b[0m\u001b[1;33m\u001b[0m\u001b[1;33m\u001b[0m\u001b[0m\n\u001b[1;32m-> 1307\u001b[1;33m                 \u001b[0mx\u001b[0m \u001b[1;33m=\u001b[0m \u001b[0mcomplex\u001b[0m\u001b[1;33m(\u001b[0m\u001b[0mx\u001b[0m\u001b[1;33m)\u001b[0m\u001b[1;33m\u001b[0m\u001b[1;33m\u001b[0m\u001b[0m\n\u001b[0m\u001b[0;32m   1308\u001b[0m             \u001b[1;32mexcept\u001b[0m \u001b[0mException\u001b[0m\u001b[1;33m:\u001b[0m\u001b[1;33m\u001b[0m\u001b[1;33m\u001b[0m\u001b[0m\n",
      "\u001b[1;31mValueError\u001b[0m: complex() arg is a malformed string",
      "\nDuring handling of the above exception, another exception occurred:\n",
      "\u001b[1;31mTypeError\u001b[0m                                 Traceback (most recent call last)",
      "\u001b[1;32m<ipython-input-37-b665c6caa8d1>\u001b[0m in \u001b[0;36m<module>\u001b[1;34m\u001b[0m\n\u001b[1;32m----> 1\u001b[1;33m \u001b[0mobserved_faces_mean\u001b[0m \u001b[1;33m=\u001b[0m \u001b[0mpd\u001b[0m\u001b[1;33m.\u001b[0m\u001b[0mSeries\u001b[0m\u001b[1;33m(\u001b[0m\u001b[0malltosses\u001b[0m\u001b[1;33m)\u001b[0m\u001b[1;33m.\u001b[0m\u001b[0mmean\u001b[0m\u001b[1;33m(\u001b[0m\u001b[1;33m)\u001b[0m\u001b[1;33m\u001b[0m\u001b[1;33m\u001b[0m\u001b[0m\n\u001b[0m\u001b[0;32m      2\u001b[0m \u001b[0mobserved_faces_mean\u001b[0m\u001b[1;33m\u001b[0m\u001b[1;33m\u001b[0m\u001b[0m\n",
      "\u001b[1;32m~\\Anaconda3\\lib\\site-packages\\pandas\\core\\generic.py\u001b[0m in \u001b[0;36mstat_func\u001b[1;34m(self, axis, skipna, level, numeric_only, **kwargs)\u001b[0m\n\u001b[0;32m  11616\u001b[0m             \u001b[1;32mreturn\u001b[0m \u001b[0mself\u001b[0m\u001b[1;33m.\u001b[0m\u001b[0m_agg_by_level\u001b[0m\u001b[1;33m(\u001b[0m\u001b[0mname\u001b[0m\u001b[1;33m,\u001b[0m \u001b[0maxis\u001b[0m\u001b[1;33m=\u001b[0m\u001b[0maxis\u001b[0m\u001b[1;33m,\u001b[0m \u001b[0mlevel\u001b[0m\u001b[1;33m=\u001b[0m\u001b[0mlevel\u001b[0m\u001b[1;33m,\u001b[0m \u001b[0mskipna\u001b[0m\u001b[1;33m=\u001b[0m\u001b[0mskipna\u001b[0m\u001b[1;33m)\u001b[0m\u001b[1;33m\u001b[0m\u001b[1;33m\u001b[0m\u001b[0m\n\u001b[0;32m  11617\u001b[0m         return self._reduce(\n\u001b[1;32m> 11618\u001b[1;33m             \u001b[0mf\u001b[0m\u001b[1;33m,\u001b[0m \u001b[0mname\u001b[0m\u001b[1;33m,\u001b[0m \u001b[0maxis\u001b[0m\u001b[1;33m=\u001b[0m\u001b[0maxis\u001b[0m\u001b[1;33m,\u001b[0m \u001b[0mskipna\u001b[0m\u001b[1;33m=\u001b[0m\u001b[0mskipna\u001b[0m\u001b[1;33m,\u001b[0m \u001b[0mnumeric_only\u001b[0m\u001b[1;33m=\u001b[0m\u001b[0mnumeric_only\u001b[0m\u001b[1;33m\u001b[0m\u001b[1;33m\u001b[0m\u001b[0m\n\u001b[0m\u001b[0;32m  11619\u001b[0m         )\n\u001b[0;32m  11620\u001b[0m \u001b[1;33m\u001b[0m\u001b[0m\n",
      "\u001b[1;32m~\\Anaconda3\\lib\\site-packages\\pandas\\core\\series.py\u001b[0m in \u001b[0;36m_reduce\u001b[1;34m(self, op, name, axis, skipna, numeric_only, filter_type, **kwds)\u001b[0m\n\u001b[0;32m   4085\u001b[0m                 )\n\u001b[0;32m   4086\u001b[0m             \u001b[1;32mwith\u001b[0m \u001b[0mnp\u001b[0m\u001b[1;33m.\u001b[0m\u001b[0merrstate\u001b[0m\u001b[1;33m(\u001b[0m\u001b[0mall\u001b[0m\u001b[1;33m=\u001b[0m\u001b[1;34m\"ignore\"\u001b[0m\u001b[1;33m)\u001b[0m\u001b[1;33m:\u001b[0m\u001b[1;33m\u001b[0m\u001b[1;33m\u001b[0m\u001b[0m\n\u001b[1;32m-> 4087\u001b[1;33m                 \u001b[1;32mreturn\u001b[0m \u001b[0mop\u001b[0m\u001b[1;33m(\u001b[0m\u001b[0mdelegate\u001b[0m\u001b[1;33m,\u001b[0m \u001b[0mskipna\u001b[0m\u001b[1;33m=\u001b[0m\u001b[0mskipna\u001b[0m\u001b[1;33m,\u001b[0m \u001b[1;33m**\u001b[0m\u001b[0mkwds\u001b[0m\u001b[1;33m)\u001b[0m\u001b[1;33m\u001b[0m\u001b[1;33m\u001b[0m\u001b[0m\n\u001b[0m\u001b[0;32m   4088\u001b[0m \u001b[1;33m\u001b[0m\u001b[0m\n\u001b[0;32m   4089\u001b[0m         \u001b[1;31m# TODO(EA) dispatch to Index\u001b[0m\u001b[1;33m\u001b[0m\u001b[1;33m\u001b[0m\u001b[1;33m\u001b[0m\u001b[0m\n",
      "\u001b[1;32m~\\Anaconda3\\lib\\site-packages\\pandas\\core\\nanops.py\u001b[0m in \u001b[0;36m_f\u001b[1;34m(*args, **kwargs)\u001b[0m\n\u001b[0;32m     68\u001b[0m             \u001b[1;32mtry\u001b[0m\u001b[1;33m:\u001b[0m\u001b[1;33m\u001b[0m\u001b[1;33m\u001b[0m\u001b[0m\n\u001b[0;32m     69\u001b[0m                 \u001b[1;32mwith\u001b[0m \u001b[0mnp\u001b[0m\u001b[1;33m.\u001b[0m\u001b[0merrstate\u001b[0m\u001b[1;33m(\u001b[0m\u001b[0minvalid\u001b[0m\u001b[1;33m=\u001b[0m\u001b[1;34m\"ignore\"\u001b[0m\u001b[1;33m)\u001b[0m\u001b[1;33m:\u001b[0m\u001b[1;33m\u001b[0m\u001b[1;33m\u001b[0m\u001b[0m\n\u001b[1;32m---> 70\u001b[1;33m                     \u001b[1;32mreturn\u001b[0m \u001b[0mf\u001b[0m\u001b[1;33m(\u001b[0m\u001b[1;33m*\u001b[0m\u001b[0margs\u001b[0m\u001b[1;33m,\u001b[0m \u001b[1;33m**\u001b[0m\u001b[0mkwargs\u001b[0m\u001b[1;33m)\u001b[0m\u001b[1;33m\u001b[0m\u001b[1;33m\u001b[0m\u001b[0m\n\u001b[0m\u001b[0;32m     71\u001b[0m             \u001b[1;32mexcept\u001b[0m \u001b[0mValueError\u001b[0m \u001b[1;32mas\u001b[0m \u001b[0me\u001b[0m\u001b[1;33m:\u001b[0m\u001b[1;33m\u001b[0m\u001b[1;33m\u001b[0m\u001b[0m\n\u001b[0;32m     72\u001b[0m                 \u001b[1;31m# we want to transform an object array\u001b[0m\u001b[1;33m\u001b[0m\u001b[1;33m\u001b[0m\u001b[1;33m\u001b[0m\u001b[0m\n",
      "\u001b[1;32m~\\Anaconda3\\lib\\site-packages\\pandas\\core\\nanops.py\u001b[0m in \u001b[0;36mf\u001b[1;34m(values, axis, skipna, **kwds)\u001b[0m\n\u001b[0;32m    121\u001b[0m             \u001b[1;32mexcept\u001b[0m \u001b[0mException\u001b[0m\u001b[1;33m:\u001b[0m\u001b[1;33m\u001b[0m\u001b[1;33m\u001b[0m\u001b[0m\n\u001b[0;32m    122\u001b[0m                 \u001b[1;32mtry\u001b[0m\u001b[1;33m:\u001b[0m\u001b[1;33m\u001b[0m\u001b[1;33m\u001b[0m\u001b[0m\n\u001b[1;32m--> 123\u001b[1;33m                     \u001b[0mresult\u001b[0m \u001b[1;33m=\u001b[0m \u001b[0malt\u001b[0m\u001b[1;33m(\u001b[0m\u001b[0mvalues\u001b[0m\u001b[1;33m,\u001b[0m \u001b[0maxis\u001b[0m\u001b[1;33m=\u001b[0m\u001b[0maxis\u001b[0m\u001b[1;33m,\u001b[0m \u001b[0mskipna\u001b[0m\u001b[1;33m=\u001b[0m\u001b[0mskipna\u001b[0m\u001b[1;33m,\u001b[0m \u001b[1;33m**\u001b[0m\u001b[0mkwds\u001b[0m\u001b[1;33m)\u001b[0m\u001b[1;33m\u001b[0m\u001b[1;33m\u001b[0m\u001b[0m\n\u001b[0m\u001b[0;32m    124\u001b[0m                 \u001b[1;32mexcept\u001b[0m \u001b[0mValueError\u001b[0m \u001b[1;32mas\u001b[0m \u001b[0me\u001b[0m\u001b[1;33m:\u001b[0m\u001b[1;33m\u001b[0m\u001b[1;33m\u001b[0m\u001b[0m\n\u001b[0;32m    125\u001b[0m                     \u001b[1;31m# we want to transform an object array\u001b[0m\u001b[1;33m\u001b[0m\u001b[1;33m\u001b[0m\u001b[1;33m\u001b[0m\u001b[0m\n",
      "\u001b[1;32m~\\Anaconda3\\lib\\site-packages\\pandas\\core\\nanops.py\u001b[0m in \u001b[0;36mnanmean\u001b[1;34m(values, axis, skipna, mask)\u001b[0m\n\u001b[0;32m    549\u001b[0m         \u001b[0mdtype_count\u001b[0m \u001b[1;33m=\u001b[0m \u001b[0mdtype\u001b[0m\u001b[1;33m\u001b[0m\u001b[1;33m\u001b[0m\u001b[0m\n\u001b[0;32m    550\u001b[0m     \u001b[0mcount\u001b[0m \u001b[1;33m=\u001b[0m \u001b[0m_get_counts\u001b[0m\u001b[1;33m(\u001b[0m\u001b[0mvalues\u001b[0m\u001b[1;33m.\u001b[0m\u001b[0mshape\u001b[0m\u001b[1;33m,\u001b[0m \u001b[0mmask\u001b[0m\u001b[1;33m,\u001b[0m \u001b[0maxis\u001b[0m\u001b[1;33m,\u001b[0m \u001b[0mdtype\u001b[0m\u001b[1;33m=\u001b[0m\u001b[0mdtype_count\u001b[0m\u001b[1;33m)\u001b[0m\u001b[1;33m\u001b[0m\u001b[1;33m\u001b[0m\u001b[0m\n\u001b[1;32m--> 551\u001b[1;33m     \u001b[0mthe_sum\u001b[0m \u001b[1;33m=\u001b[0m \u001b[0m_ensure_numeric\u001b[0m\u001b[1;33m(\u001b[0m\u001b[0mvalues\u001b[0m\u001b[1;33m.\u001b[0m\u001b[0msum\u001b[0m\u001b[1;33m(\u001b[0m\u001b[0maxis\u001b[0m\u001b[1;33m,\u001b[0m \u001b[0mdtype\u001b[0m\u001b[1;33m=\u001b[0m\u001b[0mdtype_sum\u001b[0m\u001b[1;33m)\u001b[0m\u001b[1;33m)\u001b[0m\u001b[1;33m\u001b[0m\u001b[1;33m\u001b[0m\u001b[0m\n\u001b[0m\u001b[0;32m    552\u001b[0m \u001b[1;33m\u001b[0m\u001b[0m\n\u001b[0;32m    553\u001b[0m     \u001b[1;32mif\u001b[0m \u001b[0maxis\u001b[0m \u001b[1;32mis\u001b[0m \u001b[1;32mnot\u001b[0m \u001b[1;32mNone\u001b[0m \u001b[1;32mand\u001b[0m \u001b[0mgetattr\u001b[0m\u001b[1;33m(\u001b[0m\u001b[0mthe_sum\u001b[0m\u001b[1;33m,\u001b[0m \u001b[1;34m\"ndim\"\u001b[0m\u001b[1;33m,\u001b[0m \u001b[1;32mFalse\u001b[0m\u001b[1;33m)\u001b[0m\u001b[1;33m:\u001b[0m\u001b[1;33m\u001b[0m\u001b[1;33m\u001b[0m\u001b[0m\n",
      "\u001b[1;32m~\\Anaconda3\\lib\\site-packages\\pandas\\core\\nanops.py\u001b[0m in \u001b[0;36m_ensure_numeric\u001b[1;34m(x)\u001b[0m\n\u001b[0;32m   1308\u001b[0m             \u001b[1;32mexcept\u001b[0m \u001b[0mException\u001b[0m\u001b[1;33m:\u001b[0m\u001b[1;33m\u001b[0m\u001b[1;33m\u001b[0m\u001b[0m\n\u001b[0;32m   1309\u001b[0m                 raise TypeError(\n\u001b[1;32m-> 1310\u001b[1;33m                     \u001b[1;34m\"Could not convert {value!s} to numeric\"\u001b[0m\u001b[1;33m.\u001b[0m\u001b[0mformat\u001b[0m\u001b[1;33m(\u001b[0m\u001b[0mvalue\u001b[0m\u001b[1;33m=\u001b[0m\u001b[0mx\u001b[0m\u001b[1;33m)\u001b[0m\u001b[1;33m\u001b[0m\u001b[1;33m\u001b[0m\u001b[0m\n\u001b[0m\u001b[0;32m   1311\u001b[0m                 )\n\u001b[0;32m   1312\u001b[0m     \u001b[1;32mreturn\u001b[0m \u001b[0mx\u001b[0m\u001b[1;33m\u001b[0m\u001b[1;33m\u001b[0m\u001b[0m\n",
      "\u001b[1;31mTypeError\u001b[0m: Could not convert TTTTHTHHTHHTTHHHHTTHHHTHHTHTTHHHHHTHTTTTHHTTHHTHHTTTHTHHHTHTHHTTTHHHHTHHTTHTHTHHTHHTTHHTHTHTHHHHHHHTTHTHHTTTTTHHTHTTTTTHHTHHHTTHTHHTHHTTHHTHTHTHTHHHTTTTHTTHTTHTTHHHTHHTHTHTTHHHHHTTHHHHHTHHTHHTTHHTTTTTHTTHHHHHTTTTTTHHHTHTHHTTTTHTHTHHTTHTHHHHHHHTTHTTHTTTHHTTTHHTTHHHHHHTTTHTHHHHTHTHHTTTHHTHHTHTHTHHTHHTTHHHHHTTTTHTTHHTHTHHTHTHTHHHHHHTTTTTHTTHTTHHHTTHHTHTTHHTHHHTTTTTHHHTHTHTTTHHHHTTTTHTTTHTTTHHTHHHHTHTHHHTHHTHTTHTTTHTHHTTTHHHHHTTHHHTTHHTTTHHTTTTHHHHTHTTTHHHTTTHTHHTHHTHTHHHTHTHTTTHTHTHTTHTTTHHHTTHTTHHTTHHHTHHHHHTTTTHTTHTHHHHTTHHHTTTHHHHTTHHTTTTTHHTTTHHHTTTTTTHTHHTHHHHTHHHTHTHTTTTTTTHTTHHTHHHTHHTTTTTTHHTHTHHTTTTHTHTTTTHTHHHTTHHTTTHTHTTTHHTHHHTTTTHHHHHTTTHHHTTTHTHHTTTTHTHHHHHHTHHHTTHTHHHHHTHTHTTHHTHHTTHTHTHTHHTTHTTHHTHHTTHTTHHHHHHTTTHTTHHHHHTTTHHTHHHTTHTHHTTHHTTTTHTTHTTTHHHTHHTTHTTHHTTTTHHTTTHHHHHTTTTHHHTHTHHHTTTTTHTHTHTHHTHTTHHHHTTHTTTHTTHHHTHTHTTHHHHTHHTHTHTHHTTTHHHTHTTHHTTHTTHTTTTHHHHHTHHHHTTTHHHHTTHHHHHTHHTHTTHTTHHHTTHTHTTTTTHTTTTTHHHTTTHTTHTHTHHHTHHTHTTHHHTHTHTTTTTTHTTHHHHTHHHHHHHTHHTTTHH to numeric"
     ]
    }
   ],
   "source": [
    "observed_faces_mean = pd.Series(alltosses).mean()\n",
    "observed_faces_mean"
   ]
  },
  {
   "cell_type": "markdown",
   "metadata": {},
   "source": [
    "What statistical probability density profile might you match this distribution with?\n",
    "\n",
    "Answer: ???"
   ]
  },
  {
   "cell_type": "markdown",
   "metadata": {},
   "source": [
    "Now we ask ourselves: What is the probability of seeing results like this by ***chance***?\n",
    "\n",
    "### Question 2: Hypothesis testing: Is the apparent effect real, or is it due to chance?  \n",
    "\n",
    "To answer that question, we formulate two hypotheses: the **null hypothesis H0** is a model of the tosses if the histogram above is due to ***chance***. The **alternate hypothesis HA** is a model of a **crooked** (unfair) coin.\n",
    "\n",
    "Ideally we should compute the probability of seeing a this empirical histogram effect $E$ under ***both*** hypotheses; that is $P(E \\;|\\; H0)$ and $P(E \\;|\\; \\text{HA})$.  But formulating $HA$ is not always easy, so in conventional hypothesis testing, we just compute $P(E \\;|\\; H0)$, which is the **p-value**.  \n",
    "\n",
    "If the p-value is ***small***, we conclude that our somewhat skewed histogram is unlikely to have occurred by chance, which suggests that the coin is **crooked**.\n",
    "\n",
    "#### Step 1: Build the null hypothesis\n",
    "The first step is to get data from our observations and compute a test statistic. The result is some measure of the size of the effect, or **delta**. For example, if we were comparing the mean of two groups, delta is the **difference in the means**. Since we are comparing actual values with expected values, delta is a **chi-squared** statistic: a measure of the distance between the observed and expected values.\n",
    "\n",
    "#### Step 2: Build a model\n",
    "The next step is to build a model from our empirical observations and generate simulated data. Then we'll apply the test statistic to the simulated data.\n",
    "\n",
    "#### Step 3: How many times does the test statistic for the simulated data *exceed the delta*?\n",
    "The last step is the easiest: Count how many times the test statistic for the simulated data exceeds the delta from the null hypothesis simulation. That's the **p-value**!"
   ]
  },
  {
   "cell_type": "markdown",
   "metadata": {},
   "source": [
    "To compute a p-value, we have to choose a test statistic that measures how *unexpected* the histogram above is.  The **chi-squared** statistic is a reasonable choice: for each coinc toss we compare the expected frequency and the observed frequency and compute the sum of the squared relative differences.\n",
    "\n",
    "We have 2 sides to the coin, thus we expect the following frequency for each toss:"
   ]
  },
  {
   "cell_type": "code",
   "execution_count": 40,
   "metadata": {},
   "outputs": [
    {
     "data": {
      "text/plain": [
       "500.0"
      ]
     },
     "execution_count": 40,
     "metadata": {},
     "output_type": "execute_result"
    }
   ],
   "source": [
    "len(alltosses)/2"
   ]
  },
  {
   "cell_type": "code",
   "execution_count": 44,
   "metadata": {},
   "outputs": [
    {
     "data": {
      "text/plain": [
       "['T', 'T', 'T', 'T', 'H', 'T', 'H', 'H', 'T', 'H']"
      ]
     },
     "execution_count": 44,
     "metadata": {},
     "output_type": "execute_result"
    }
   ],
   "source": [
    "observed_tosses = [x for x in alltosses]\n",
    "observed_tosses[:10]"
   ]
  },
  {
   "cell_type": "markdown",
   "metadata": {},
   "source": [
    "Use a **list comprehension** to get a list of numbers, either 0 or 1, representing our observations. use 0 for `T` and ` for `H`:"
   ]
  },
  {
   "cell_type": "code",
   "execution_count": 43,
   "metadata": {},
   "outputs": [
    {
     "ename": "TypeError",
     "evalue": "'ellipsis' object is not subscriptable",
     "output_type": "error",
     "traceback": [
      "\u001b[1;31m---------------------------------------------------------------------------\u001b[0m",
      "\u001b[1;31mTypeError\u001b[0m                                 Traceback (most recent call last)",
      "\u001b[1;32m<ipython-input-43-70c139dfcbf5>\u001b[0m in \u001b[0;36m<module>\u001b[1;34m\u001b[0m\n\u001b[0;32m      1\u001b[0m \u001b[0mobserved_tosses_bin\u001b[0m \u001b[1;33m=\u001b[0m \u001b[1;33m...\u001b[0m\u001b[1;33m\u001b[0m\u001b[1;33m\u001b[0m\u001b[0m\n\u001b[1;32m----> 2\u001b[1;33m \u001b[0mobserved_tosses_bin\u001b[0m\u001b[1;33m[\u001b[0m\u001b[1;33m:\u001b[0m\u001b[1;36m10\u001b[0m\u001b[1;33m]\u001b[0m\u001b[1;33m\u001b[0m\u001b[1;33m\u001b[0m\u001b[0m\n\u001b[0m",
      "\u001b[1;31mTypeError\u001b[0m: 'ellipsis' object is not subscriptable"
     ]
    }
   ],
   "source": [
    "observed_tosses_bin = ...\n",
    "observed_tosses_bin[:10]"
   ]
  },
  {
   "cell_type": "markdown",
   "metadata": {},
   "source": [
    "Now we define a **Chi squared** statistic to measure the difference between an expected distribution and an observed one:"
   ]
  },
  {
   "cell_type": "code",
   "execution_count": 42,
   "metadata": {},
   "outputs": [
    {
     "ename": "NameError",
     "evalue": "name 'observed_tosses_bin' is not defined",
     "output_type": "error",
     "traceback": [
      "\u001b[1;31m---------------------------------------------------------------------------\u001b[0m",
      "\u001b[1;31mNameError\u001b[0m                                 Traceback (most recent call last)",
      "\u001b[1;32m<ipython-input-42-028cb1a28a5d>\u001b[0m in \u001b[0;36m<module>\u001b[1;34m\u001b[0m\n\u001b[0;32m      5\u001b[0m     \u001b[1;32mreturn\u001b[0m \u001b[0mnp\u001b[0m\u001b[1;33m.\u001b[0m\u001b[0mabs\u001b[0m\u001b[1;33m(\u001b[0m\u001b[0mtotal\u001b[0m \u001b[1;33m-\u001b[0m \u001b[0mexpected\u001b[0m\u001b[1;33m)\u001b[0m\u001b[1;33m\u001b[0m\u001b[1;33m\u001b[0m\u001b[0m\n\u001b[0;32m      6\u001b[0m \u001b[1;33m\u001b[0m\u001b[0m\n\u001b[1;32m----> 7\u001b[1;33m \u001b[0mChiSquared\u001b[0m\u001b[1;33m(\u001b[0m\u001b[0mobserved_tosses_bin\u001b[0m\u001b[1;33m,\u001b[0m \u001b[0mlen\u001b[0m\u001b[1;33m(\u001b[0m\u001b[0malltosses\u001b[0m\u001b[1;33m)\u001b[0m\u001b[1;33m/\u001b[0m\u001b[1;36m2\u001b[0m\u001b[1;33m)\u001b[0m\u001b[1;33m\u001b[0m\u001b[1;33m\u001b[0m\u001b[0m\n\u001b[0m",
      "\u001b[1;31mNameError\u001b[0m: name 'observed_tosses_bin' is not defined"
     ]
    }
   ],
   "source": [
    "def ChiSquared(observed, expected):\n",
    "    total = 0\n",
    "    for obs in observed:\n",
    "        total += obs\n",
    "    return np.abs(total - expected)\n",
    "\n",
    "ChiSquared(observed_tosses_bin, len(alltosses)/2)"
   ]
  },
  {
   "cell_type": "markdown",
   "metadata": {},
   "source": [
    "For the observed frequencies, the chi-squared statistic is 16.  By itself, this number doesn't mean anything.  We have to ***compare it*** to results from the **null hypothesis**.\n",
    "\n",
    "We may also need a chi statistic to compare draws from the null hypothesis with draws from the alternate hypothesis. Here it is:"
   ]
  },
  {
   "cell_type": "code",
   "execution_count": 1081,
   "metadata": {},
   "outputs": [],
   "source": [
    "def ChiSquared2(observed, expected):\n",
    "    total = 0\n",
    "    both = zip(observed, expected)\n",
    "    for obs, exp in zip(observed, expected):\n",
    "        total += np.abs(obs - exp)\n",
    "    return total"
   ]
  },
  {
   "cell_type": "markdown",
   "metadata": {},
   "source": [
    "Now we need code that generates *simulated* data. Let's do Bayesian estimation to simulate data with the same statistics as our empirical observations, and then also write a null hypothesis (fair data) simulator."
   ]
  },
  {
   "cell_type": "markdown",
   "metadata": {},
   "source": [
    "In the pymc3 simulation below, you will pick your data likelihood function from a list of statistical functions (pdfs). Make sure you pick the right one. My symbol for this function is `???`. Pick the right one and import it from `pymc3`.\n",
    "\n",
    "In Bayesian estimation, we *also* assign pdfs to the parameter(s). Use the [logistic]() function to assign a pdf to the first parameter of your ??? distribution, and a Normal distribution to the parameter itself. That is a very common practice for any binary variable in ML. We will use a large standard deviation (10) because we have no idea what the parametes should be. "
   ]
  },
  {
   "cell_type": "code",
   "execution_count": 1083,
   "metadata": {},
   "outputs": [],
   "source": [
    "from pymc3 import Model, Normal, ???\n",
    "import theano.tensor as T\n",
    "\n",
    "def logistic(l):\n",
    "    return 1 / (1 + T.exp(-l))\n",
    "\n",
    "with Model() as toss_model:\n",
    "    mu = Normal('mu', mu=0, sd=10)\n",
    "    \n",
    "with toss_model:\n",
    "    toss_like = ???('toss_like', p=logistic(mu), observed=observed_tosses_bin)"
   ]
  },
  {
   "cell_type": "markdown",
   "metadata": {},
   "source": [
    "And now we find a solution for `mu` using pymc3. We run for 1,000 timesteps and we hope we converge!"
   ]
  },
  {
   "cell_type": "code",
   "execution_count": 1084,
   "metadata": {},
   "outputs": [],
   "source": [
    "RANDOM_SEED = 42"
   ]
  },
  {
   "cell_type": "code",
   "execution_count": null,
   "metadata": {},
   "outputs": [],
   "source": [
    "from pymc3 import fit\n",
    "\n",
    "with toss_model: \n",
    "    toss_trace = fit(random_seed=RANDOM_SEED).sample(1000)"
   ]
  },
  {
   "cell_type": "markdown",
   "metadata": {},
   "source": [
    "We now plot the posterior distribution for `mu` in order to find its most likely value (the mean of the posterior):"
   ]
  },
  {
   "cell_type": "code",
   "execution_count": null,
   "metadata": {},
   "outputs": [],
   "source": [
    "from pymc3 import plot_posterior\n",
    "\n",
    "plot_posterior(toss_trace[100:], \n",
    "                varnames=['mu'],\n",
    "                color='#87ceeb');"
   ]
  },
  {
   "cell_type": "code",
   "execution_count": 1087,
   "metadata": {},
   "outputs": [
    {
     "data": {
      "text/plain": [
       "0.48100914005407436"
      ]
     },
     "execution_count": 1087,
     "metadata": {},
     "output_type": "execute_result"
    }
   ],
   "source": [
    "1 / (1 + np.exp(0.076))"
   ]
  },
  {
   "cell_type": "markdown",
   "metadata": {},
   "source": [
    "Now plot the *simulated* (fake) distribution of coin tosses, based on the statistics of the observed coin tosses. Make sure to import the *same* likelihood pdf you used from pymc3, but this time import it from `scipy.stats.distributions` (note: the captialization of the distribution in scipy may be different):"
   ]
  },
  {
   "cell_type": "code",
   "execution_count": null,
   "metadata": {},
   "outputs": [],
   "source": [
    "from scipy.stats.distributions import ???\n",
    "import numpy as np\n",
    "\n",
    "mu_posterior_mean = 1 / (1 + np.exp(?))\n",
    "\n",
    "pd.DataFrame(observed_tosses_bin).hist(normed=True)\n",
    "plt.plot(np.linspace(0, 1), ???.pmf(np.linspace(0, 1), mu_posterior_mean))"
   ]
  },
  {
   "cell_type": "markdown",
   "metadata": {},
   "source": [
    "Does it match the observed distribution?\n",
    "\n",
    "If it does, we are now ready to simulate, i.e. generate fake coin tosses. This is called **generating posterior predictive checks**:\n",
    "\n",
    "Posterior predictive checks (PPCs) *validate* your model: You generate data from the model using parameters from draws from the posterior. The `samples` parameter is how many of these simulations you want to run.\n",
    "\n",
    "Here is one way of doing it (deprecated):"
   ]
  },
  {
   "cell_type": "code",
   "execution_count": null,
   "metadata": {},
   "outputs": [],
   "source": [
    "from pymc3 import sample_ppc\n",
    "\n",
    "with toss_model:\n",
    "    toss_ppc = sample_ppc(toss_trace, samples=1)"
   ]
  },
  {
   "cell_type": "markdown",
   "metadata": {},
   "source": [
    "Here is another way (the preferred one):"
   ]
  },
  {
   "cell_type": "code",
   "execution_count": null,
   "metadata": {},
   "outputs": [],
   "source": [
    "from pymc3 import sample_posterior_predictive\n",
    "ppc = sample_posterior_predictive(toss_trace, samples=1, model=toss_model)"
   ]
  },
  {
   "cell_type": "code",
   "execution_count": 821,
   "metadata": {},
   "outputs": [
    {
     "data": {
      "text/plain": [
       "(1, 1000)"
      ]
     },
     "execution_count": 821,
     "metadata": {},
     "output_type": "execute_result"
    }
   ],
   "source": [
    "toss_ppc['toss_like'].shape"
   ]
  },
  {
   "cell_type": "code",
   "execution_count": 1091,
   "metadata": {},
   "outputs": [
    {
     "data": {
      "text/plain": [
       "array([0, 1, 0, 1, 1, 1, 0, 1, 0, 0, 1, 0, 1, 1, 1, 1, 1, 0, 0, 1])"
      ]
     },
     "execution_count": 1091,
     "metadata": {},
     "output_type": "execute_result"
    }
   ],
   "source": [
    "simulated_tosses = toss_ppc['toss_like'][0]\n",
    "simulated_tosses[:20]"
   ]
  },
  {
   "cell_type": "code",
   "execution_count": null,
   "metadata": {},
   "outputs": [],
   "source": [
    "faketosses = ''.join([str(int(x)) for x in simulated_tosses])\n",
    "faketosses"
   ]
  },
  {
   "cell_type": "code",
   "execution_count": 824,
   "metadata": {},
   "outputs": [
    {
     "data": {
      "text/plain": [
       "1000"
      ]
     },
     "execution_count": 824,
     "metadata": {},
     "output_type": "execute_result"
    }
   ],
   "source": [
    "len(faketosses)"
   ]
  },
  {
   "cell_type": "markdown",
   "metadata": {},
   "source": [
    "Now we can simulate our coin (i,e. simulate similar statistics to our heart's content):"
   ]
  },
  {
   "cell_type": "code",
   "execution_count": 1093,
   "metadata": {},
   "outputs": [],
   "source": [
    "def SimulateAlternateHypothesisCoin():\n",
    "    with toss_model:\n",
    "        toss_ppc = sample_ppc(toss_trace, samples=1)\n",
    "    simulated_tosses = toss_ppc['toss_like'][0]\n",
    "    return ''.join([str(int(x)) for x in simulated_tosses])"
   ]
  },
  {
   "cell_type": "markdown",
   "metadata": {},
   "source": [
    "And... find a way to simulate a **fair** coin so you get results in the same shape here below:"
   ]
  },
  {
   "cell_type": "code",
   "execution_count": 1094,
   "metadata": {},
   "outputs": [],
   "source": [
    "from random import randrange\n",
    "\n",
    "def SimulateNullHypothesisCoin(length):\n",
    "    tosses = ''\n",
    "    for i in range(length):\n",
    "        ...\n",
    "    return tosses"
   ]
  },
  {
   "cell_type": "markdown",
   "metadata": {},
   "source": [
    "How many `H`s do we get from the alternate hypothesis simulation, and from the null hypothesis simulation?"
   ]
  },
  {
   "cell_type": "code",
   "execution_count": null,
   "metadata": {},
   "outputs": [],
   "source": [
    "Counter(SimulateAlternateHypothesisCoin())['1']"
   ]
  },
  {
   "cell_type": "code",
   "execution_count": null,
   "metadata": {},
   "outputs": [],
   "source": [
    "Counter(SimulateNullHypothesisCoin(1000))['1']"
   ]
  },
  {
   "cell_type": "markdown",
   "metadata": {},
   "source": [
    "Now, we know that the expected frequency for each toss for a fair coin is 1000/2 = 500. This is how we can compare observation to null hypothesis. Although we may want to conclude that the p-value is low with the test below, ***there is still a possibility we got this result by chance***:"
   ]
  },
  {
   "cell_type": "code",
   "execution_count": 1098,
   "metadata": {},
   "outputs": [
    {
     "data": {
      "text/plain": [
       "16.0"
      ]
     },
     "execution_count": 1098,
     "metadata": {},
     "output_type": "execute_result"
    }
   ],
   "source": [
    "expected = 1000/2\n",
    "threshold = ChiSquared(observed_tosses_bin, expected)\n",
    "threshold"
   ]
  },
  {
   "cell_type": "markdown",
   "metadata": {},
   "source": [
    "This is for a null hypothesis simulation:"
   ]
  },
  {
   "cell_type": "code",
   "execution_count": null,
   "metadata": {},
   "outputs": [],
   "source": [
    "expected = 1000/2\n",
    "null_hypothesis_sim = SimulateNullHypothesisCoin(1000)\n",
    "null_hypothesis_sim_bin = [int(x) for x in null_hypothesis_sim]\n",
    "chi2 = ChiSquared(null_hypothesis_sim_bin, expected)\n",
    "chi2"
   ]
  },
  {
   "cell_type": "markdown",
   "metadata": {},
   "source": [
    "Let's get a p-value where we compare null hypothesis simulations to our empirical data:"
   ]
  },
  {
   "cell_type": "code",
   "execution_count": null,
   "metadata": {},
   "outputs": [],
   "source": [
    "count = 0.\n",
    "roll_size = 1000\n",
    "num_trials = 1000\n",
    "expected = 1000/2.\n",
    "\n",
    "# observed statistic:\n",
    "threshold = ChiSquared(observed_tosses_bin, expected)\n",
    "print(threshold)\n",
    "\n",
    "for _ in range(num_trials):\n",
    "    null_hypothesis_sim = SimulateNullHypothesisCoin(roll_size)\n",
    "    null_hypothesis_sim_bin = [int(x) for x in null_hypothesis_sim]\n",
    "    chi2 = ChiSquared(null_hypothesis_sim_bin, expected)\n",
    "    if chi2 >= threshold:\n",
    "        count += 1\n",
    "\n",
    "pvalue = count / num_trials\n",
    "print ('p-value', pvalue)"
   ]
  },
  {
   "cell_type": "markdown",
   "metadata": {},
   "source": [
    "If the the p-value is high, higher than the usual 95% Confidence interval, you cannot reject the null hypothesis!\n",
    "\n",
    "But our empirical experiment (real observations) threshold could very well have been generated ***by chance***!\n",
    "\n",
    "Here is a much more powerful and conclusive estimation of our **p-value**: We run a lot of null experiments ***and*** a lot of alternative hypothesis experiments, using our Bayesian model (instead of a single observation as above)! And we can ***count*** all times that our null experiment deviates from the expected threshold (*that is the null chi statistic*), and the times that our alternate hypothesis experiment deviates from the expected threshold (*that is the alternate hypothesis chi statistic*), and we can compare the two chi statistics! \n",
    "\n",
    "That tells us in how many universes we observe distributions *different* from the null hypothesis, and allows us to generate a *real* probability that our alternate hypothesis simulations (matching our empirical data) **statistically differ** from null hypothesis simulations!"
   ]
  },
  {
   "cell_type": "markdown",
   "metadata": {},
   "source": [
    "If the p-value is ***small***, you may conclude that the effect is ***unlikely to have occurred by chance***, which suggests that it is ***real***: The coin is crooked. If the p-value is ***high***, you cannot dismiss the null hypothesis and you need to conclude that the coin is fair and any skew in the statistics is due to *chance*."
   ]
  },
  {
   "cell_type": "code",
   "execution_count": null,
   "metadata": {},
   "outputs": [],
   "source": [
    "count = 0.\n",
    "roll_size = 1000\n",
    "num_trials = 1000\n",
    "expected = 1000 / 2.\n",
    "\n",
    "for _ in range(num_trials):\n",
    "    null_hypothesis_sim = SimulateNullHypothesisCoin(roll_size)\n",
    "    null_hypothesis_sim_bin = [int(x) for x in null_hypothesis_sim]\n",
    "    chi_null = ChiSquared(null_hypothesis_sim_bin, expected)\n",
    "    \n",
    "    alternate_hypothesis_sim = SimulateAlternateHypothesisCoin()\n",
    "    alternate_hypothesis_sim_bin = [int(x) for x in alternate_hypothesis_sim]\n",
    "    chi_alternate = ChiSquared(alternate_hypothesis_sim_bin, expected)\n",
    "\n",
    "    if chi_null >= chi_alternate:\n",
    "        count += 1\n",
    "\n",
    "pvalue = count / num_trials\n",
    "print ('p-value', pvalue)"
   ]
  },
  {
   "cell_type": "markdown",
   "metadata": {},
   "source": [
    "If your p-value is low, there is a *very small* possibility these skewed results are due to chance, so our coin is ***crooked***. If it's high, you cannot conclude and need to accept the null hypothesis.\n",
    "\n",
    "So, which is it?\n",
    "\n",
    "That's **hypothesis testing** in a nutshell. All of the classical frequentist tests you learn in classical (non-pythonized and MCMC-ized) statistics class are just ways to compute p-values *efficiently* when computation was expensive. Now that computation is fast and clever algorithms like Metropolis and NUTS are available, Bayesian estimation is the *preferred* way to do statistics, even to compute something like a p-value!"
   ]
  }
 ],
 "metadata": {
  "kernelspec": {
   "display_name": "Python 3",
   "language": "python",
   "name": "python3"
  },
  "language_info": {
   "codemirror_mode": {
    "name": "ipython",
    "version": 3
   },
   "file_extension": ".py",
   "mimetype": "text/x-python",
   "name": "python",
   "nbconvert_exporter": "python",
   "pygments_lexer": "ipython3",
   "version": "3.7.4"
  }
 },
 "nbformat": 4,
 "nbformat_minor": 2
}
