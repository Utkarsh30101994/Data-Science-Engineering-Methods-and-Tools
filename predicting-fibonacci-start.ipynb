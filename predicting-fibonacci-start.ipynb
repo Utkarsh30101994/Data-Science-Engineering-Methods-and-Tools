{
 "cells": [
  {
   "cell_type": "markdown",
   "metadata": {},
   "source": [
    "<div style=\"text-align: right\">INFO 6105 Data Sci Engineering Methods and Tools, Lecture 4</div>\n",
    "<div style=\"text-align: right\">Prof. Dino Konstantopoulos, 27 January 2020</div>\n",
    "\n",
    "# Math and the Scientific Method\n",
    "\n",
    "\n",
    "<br />\n",
    "<center>\n",
    "<img src=\"ipynb.images/john-stuart-mill.jpg\" width=400 />\n",
    "    John Stuart Mill (1806 - 1873)\n",
    "</center>"
   ]
  },
  {
   "cell_type": "markdown",
   "metadata": {},
   "source": [
    "# Fibonacci numbers\n",
    "\n",
    "What's the *interesting* feature of Fibonacci numbers? The *future* ***is*** encoded in the *past*!\n",
    "\n",
    "Please complete the fibonacci generator below:"
   ]
  },
  {
   "cell_type": "markdown",
   "metadata": {},
   "source": [
    "<div style=\"visibility: hidden\">\n",
    "    def fib(n):\n",
    "    a, b = 0, 1\n",
    "    for _ in range(n):\n",
    "        yield a\n",
    "        a, b = b, a + b\n",
    "</div>"
   ]
  },
  {
   "cell_type": "code",
   "execution_count": 1,
   "metadata": {},
   "outputs": [
    {
     "name": "stdout",
     "output_type": "stream",
     "text": [
      "[0, 1, 1, 2, 3, 5, 8, 13, 21, 34, 55, 89, 144, 233, 377, 610, 987, 1597, 2584, 4181, 6765, 10946, 17711, 28657, 46368, 75025, 121393, 196418, 317811, 514229, 832040, 1346269, 2178309, 3524578, 5702887, 9227465, 14930352, 24157817, 39088169, 63245986, 102334155, 165580141, 267914296, 433494437, 701408733, 1134903170, 1836311903, 2971215073, 4807526976, 7778742049, 12586269025, 20365011074, 32951280099, 53316291173, 86267571272, 139583862445, 225851433717, 365435296162, 591286729879, 956722026041, 1548008755920, 2504730781961, 4052739537881, 6557470319842, 10610209857723, 17167680177565, 27777890035288, 44945570212853, 72723460248141, 117669030460994, 190392490709135, 308061521170129, 498454011879264, 806515533049393, 1304969544928657, 2111485077978050, 3416454622906707, 5527939700884757, 8944394323791464, 14472334024676221]\n"
     ]
    }
   ],
   "source": [
    "def fib(n):\n",
    "    a, b = 0, 1\n",
    "    for _ in range(n):\n",
    "        yield a\n",
    "        a, b = b, a + b\n",
    "\n",
    "my_fibs = list(fib(80))\n",
    "print(my_fibs)"
   ]
  },
  {
   "cell_type": "code",
   "execution_count": 2,
   "metadata": {},
   "outputs": [
    {
     "data": {
      "text/plain": [
       "0                     0\n",
       "1                     1\n",
       "2                     1\n",
       "3                     2\n",
       "4                     3\n",
       "            ...        \n",
       "75     2111485077978050\n",
       "76     3416454622906707\n",
       "77     5527939700884757\n",
       "78     8944394323791464\n",
       "79    14472334024676221\n",
       "Length: 80, dtype: int64"
      ]
     },
     "execution_count": 2,
     "metadata": {},
     "output_type": "execute_result"
    }
   ],
   "source": [
    "import numpy as np\n",
    "import pandas as pd\n",
    "import matplotlib.pyplot as plt\n",
    "%matplotlib inline\n",
    "\n",
    "data = pd.Series(my_fibs)\n",
    "data"
   ]
  },
  {
   "cell_type": "code",
   "execution_count": 3,
   "metadata": {},
   "outputs": [
    {
     "data": {
      "text/plain": [
       "array([                0,                 1,                 1,\n",
       "                       2,                 3,                 5,\n",
       "                       8,                13,                21,\n",
       "                      34,                55,                89,\n",
       "                     144,               233,               377,\n",
       "                     610,               987,              1597,\n",
       "                    2584,              4181,              6765,\n",
       "                   10946,             17711,             28657,\n",
       "                   46368,             75025,            121393,\n",
       "                  196418,            317811,            514229,\n",
       "                  832040,           1346269,           2178309,\n",
       "                 3524578,           5702887,           9227465,\n",
       "                14930352,          24157817,          39088169,\n",
       "                63245986,         102334155,         165580141,\n",
       "               267914296,         433494437,         701408733,\n",
       "              1134903170,        1836311903,        2971215073,\n",
       "              4807526976,        7778742049,       12586269025,\n",
       "             20365011074,       32951280099,       53316291173,\n",
       "             86267571272,      139583862445,      225851433717,\n",
       "            365435296162,      591286729879,      956722026041,\n",
       "           1548008755920,     2504730781961,     4052739537881,\n",
       "           6557470319842,    10610209857723,    17167680177565,\n",
       "          27777890035288,    44945570212853,    72723460248141,\n",
       "         117669030460994,   190392490709135,   308061521170129,\n",
       "         498454011879264,   806515533049393,  1304969544928657,\n",
       "        2111485077978050,  3416454622906707,  5527939700884757,\n",
       "        8944394323791464, 14472334024676221], dtype=int64)"
      ]
     },
     "execution_count": 3,
     "metadata": {},
     "output_type": "execute_result"
    }
   ],
   "source": [
    "data.values"
   ]
  },
  {
   "cell_type": "code",
   "execution_count": 4,
   "metadata": {},
   "outputs": [
    {
     "data": {
      "text/html": [
       "<div>\n",
       "<style scoped>\n",
       "    .dataframe tbody tr th:only-of-type {\n",
       "        vertical-align: middle;\n",
       "    }\n",
       "\n",
       "    .dataframe tbody tr th {\n",
       "        vertical-align: top;\n",
       "    }\n",
       "\n",
       "    .dataframe thead th {\n",
       "        text-align: right;\n",
       "    }\n",
       "</style>\n",
       "<table border=\"1\" class=\"dataframe\">\n",
       "  <thead>\n",
       "    <tr style=\"text-align: right;\">\n",
       "      <th></th>\n",
       "      <th>Fibonacci</th>\n",
       "    </tr>\n",
       "  </thead>\n",
       "  <tbody>\n",
       "    <tr>\n",
       "      <td>0</td>\n",
       "      <td>0</td>\n",
       "    </tr>\n",
       "    <tr>\n",
       "      <td>1</td>\n",
       "      <td>1</td>\n",
       "    </tr>\n",
       "    <tr>\n",
       "      <td>2</td>\n",
       "      <td>1</td>\n",
       "    </tr>\n",
       "    <tr>\n",
       "      <td>3</td>\n",
       "      <td>2</td>\n",
       "    </tr>\n",
       "    <tr>\n",
       "      <td>4</td>\n",
       "      <td>3</td>\n",
       "    </tr>\n",
       "    <tr>\n",
       "      <td>...</td>\n",
       "      <td>...</td>\n",
       "    </tr>\n",
       "    <tr>\n",
       "      <td>75</td>\n",
       "      <td>2111485077978050</td>\n",
       "    </tr>\n",
       "    <tr>\n",
       "      <td>76</td>\n",
       "      <td>3416454622906707</td>\n",
       "    </tr>\n",
       "    <tr>\n",
       "      <td>77</td>\n",
       "      <td>5527939700884757</td>\n",
       "    </tr>\n",
       "    <tr>\n",
       "      <td>78</td>\n",
       "      <td>8944394323791464</td>\n",
       "    </tr>\n",
       "    <tr>\n",
       "      <td>79</td>\n",
       "      <td>14472334024676221</td>\n",
       "    </tr>\n",
       "  </tbody>\n",
       "</table>\n",
       "<p>80 rows × 1 columns</p>\n",
       "</div>"
      ],
      "text/plain": [
       "            Fibonacci\n",
       "0                   0\n",
       "1                   1\n",
       "2                   1\n",
       "3                   2\n",
       "4                   3\n",
       "..                ...\n",
       "75   2111485077978050\n",
       "76   3416454622906707\n",
       "77   5527939700884757\n",
       "78   8944394323791464\n",
       "79  14472334024676221\n",
       "\n",
       "[80 rows x 1 columns]"
      ]
     },
     "execution_count": 4,
     "metadata": {},
     "output_type": "execute_result"
    }
   ],
   "source": [
    "data2 = pd.DataFrame(my_fibs, columns = ['Fibonacci'])\n",
    "data2"
   ]
  },
  {
   "cell_type": "code",
   "execution_count": 5,
   "metadata": {},
   "outputs": [
    {
     "data": {
      "text/plain": [
       "array([[                0],\n",
       "       [                1],\n",
       "       [                1],\n",
       "       [                2],\n",
       "       [                3],\n",
       "       [                5],\n",
       "       [                8],\n",
       "       [               13],\n",
       "       [               21],\n",
       "       [               34],\n",
       "       [               55],\n",
       "       [               89],\n",
       "       [              144],\n",
       "       [              233],\n",
       "       [              377],\n",
       "       [              610],\n",
       "       [              987],\n",
       "       [             1597],\n",
       "       [             2584],\n",
       "       [             4181],\n",
       "       [             6765],\n",
       "       [            10946],\n",
       "       [            17711],\n",
       "       [            28657],\n",
       "       [            46368],\n",
       "       [            75025],\n",
       "       [           121393],\n",
       "       [           196418],\n",
       "       [           317811],\n",
       "       [           514229],\n",
       "       [           832040],\n",
       "       [          1346269],\n",
       "       [          2178309],\n",
       "       [          3524578],\n",
       "       [          5702887],\n",
       "       [          9227465],\n",
       "       [         14930352],\n",
       "       [         24157817],\n",
       "       [         39088169],\n",
       "       [         63245986],\n",
       "       [        102334155],\n",
       "       [        165580141],\n",
       "       [        267914296],\n",
       "       [        433494437],\n",
       "       [        701408733],\n",
       "       [       1134903170],\n",
       "       [       1836311903],\n",
       "       [       2971215073],\n",
       "       [       4807526976],\n",
       "       [       7778742049],\n",
       "       [      12586269025],\n",
       "       [      20365011074],\n",
       "       [      32951280099],\n",
       "       [      53316291173],\n",
       "       [      86267571272],\n",
       "       [     139583862445],\n",
       "       [     225851433717],\n",
       "       [     365435296162],\n",
       "       [     591286729879],\n",
       "       [     956722026041],\n",
       "       [    1548008755920],\n",
       "       [    2504730781961],\n",
       "       [    4052739537881],\n",
       "       [    6557470319842],\n",
       "       [   10610209857723],\n",
       "       [   17167680177565],\n",
       "       [   27777890035288],\n",
       "       [   44945570212853],\n",
       "       [   72723460248141],\n",
       "       [  117669030460994],\n",
       "       [  190392490709135],\n",
       "       [  308061521170129],\n",
       "       [  498454011879264],\n",
       "       [  806515533049393],\n",
       "       [ 1304969544928657],\n",
       "       [ 2111485077978050],\n",
       "       [ 3416454622906707],\n",
       "       [ 5527939700884757],\n",
       "       [ 8944394323791464],\n",
       "       [14472334024676221]], dtype=int64)"
      ]
     },
     "execution_count": 5,
     "metadata": {},
     "output_type": "execute_result"
    }
   ],
   "source": [
    "data2.values"
   ]
  },
  {
   "cell_type": "code",
   "execution_count": 6,
   "metadata": {},
   "outputs": [
    {
     "data": {
      "image/png": "[encoded data removed]",
      "text/plain": [
       "<Figure size 1224x576 with 1 Axes>"
      ]
     },
     "metadata": {
      "needs_background": "light"
     },
     "output_type": "display_data"
    }
   ],
   "source": [
    "plt.figure(figsize=(17, 8))\n",
    "plt.plot(data2.values)\n",
    "plt.title('Fibonacci numbers up to fib(80)')\n",
    "plt.ylabel('Fib')\n",
    "plt.xlabel('Integers')\n",
    "plt.grid(True)"
   ]
  },
  {
   "cell_type": "markdown",
   "metadata": {},
   "source": [
    "Let's *normalize*: Computers *hate* big numbers, but they love *very small* numbers:"
   ]
  },
  {
   "cell_type": "code",
   "execution_count": 7,
   "metadata": {},
   "outputs": [],
   "source": [
    "from sklearn.preprocessing import MinMaxScaler\n",
    "sc = MinMaxScaler()\n",
    "data3 = sc.fit_transform(data2)"
   ]
  },
  {
   "cell_type": "code",
   "execution_count": 8,
   "metadata": {},
   "outputs": [
    {
     "data": {
      "image/png": "[encoded data removed]",
      "text/plain": [
       "<Figure size 1224x576 with 1 Axes>"
      ]
     },
     "metadata": {
      "needs_background": "light"
     },
     "output_type": "display_data"
    }
   ],
   "source": [
    "plt.figure(figsize=(17, 8))\n",
    "plt.plot(data3)\n",
    "plt.title('Fibonacci numbers up to fib(80), normalized')\n",
    "plt.ylabel('Fib')\n",
    "plt.xlabel('Integers')\n",
    "plt.grid(True)"
   ]
  },
  {
   "cell_type": "markdown",
   "metadata": {},
   "source": [
    "Now that our data is normalized, let's return it to a pandas DataFrame:"
   ]
  },
  {
   "cell_type": "code",
   "execution_count": 9,
   "metadata": {},
   "outputs": [
    {
     "data": {
      "text/html": [
       "<div>\n",
       "<style scoped>\n",
       "    .dataframe tbody tr th:only-of-type {\n",
       "        vertical-align: middle;\n",
       "    }\n",
       "\n",
       "    .dataframe tbody tr th {\n",
       "        vertical-align: top;\n",
       "    }\n",
       "\n",
       "    .dataframe thead th {\n",
       "        text-align: right;\n",
       "    }\n",
       "</style>\n",
       "<table border=\"1\" class=\"dataframe\">\n",
       "  <thead>\n",
       "    <tr style=\"text-align: right;\">\n",
       "      <th></th>\n",
       "      <th>Fibonacci</th>\n",
       "    </tr>\n",
       "  </thead>\n",
       "  <tbody>\n",
       "    <tr>\n",
       "      <td>0</td>\n",
       "      <td>0.000000e+00</td>\n",
       "    </tr>\n",
       "    <tr>\n",
       "      <td>1</td>\n",
       "      <td>6.909735e-17</td>\n",
       "    </tr>\n",
       "    <tr>\n",
       "      <td>2</td>\n",
       "      <td>6.909735e-17</td>\n",
       "    </tr>\n",
       "    <tr>\n",
       "      <td>3</td>\n",
       "      <td>1.381947e-16</td>\n",
       "    </tr>\n",
       "    <tr>\n",
       "      <td>4</td>\n",
       "      <td>2.072921e-16</td>\n",
       "    </tr>\n",
       "    <tr>\n",
       "      <td>...</td>\n",
       "      <td>...</td>\n",
       "    </tr>\n",
       "    <tr>\n",
       "      <td>75</td>\n",
       "      <td>1.458980e-01</td>\n",
       "    </tr>\n",
       "    <tr>\n",
       "      <td>76</td>\n",
       "      <td>2.360680e-01</td>\n",
       "    </tr>\n",
       "    <tr>\n",
       "      <td>77</td>\n",
       "      <td>3.819660e-01</td>\n",
       "    </tr>\n",
       "    <tr>\n",
       "      <td>78</td>\n",
       "      <td>6.180340e-01</td>\n",
       "    </tr>\n",
       "    <tr>\n",
       "      <td>79</td>\n",
       "      <td>1.000000e+00</td>\n",
       "    </tr>\n",
       "  </tbody>\n",
       "</table>\n",
       "<p>80 rows × 1 columns</p>\n",
       "</div>"
      ],
      "text/plain": [
       "       Fibonacci\n",
       "0   0.000000e+00\n",
       "1   6.909735e-17\n",
       "2   6.909735e-17\n",
       "3   1.381947e-16\n",
       "4   2.072921e-16\n",
       "..           ...\n",
       "75  1.458980e-01\n",
       "76  2.360680e-01\n",
       "77  3.819660e-01\n",
       "78  6.180340e-01\n",
       "79  1.000000e+00\n",
       "\n",
       "[80 rows x 1 columns]"
      ]
     },
     "execution_count": 9,
     "metadata": {},
     "output_type": "execute_result"
    }
   ],
   "source": [
    "data4 = pd.DataFrame(data3, columns=data2.columns, index=data2.index)\n",
    "data4"
   ]
  },
  {
   "cell_type": "markdown",
   "metadata": {},
   "source": [
    "For convenience:"
   ]
  },
  {
   "cell_type": "markdown",
   "metadata": {},
   "source": [
    "# Using a random training/test split"
   ]
  },
  {
   "cell_type": "code",
   "execution_count": 10,
   "metadata": {},
   "outputs": [
    {
     "data": {
      "text/html": [
       "<div>\n",
       "<style scoped>\n",
       "    .dataframe tbody tr th:only-of-type {\n",
       "        vertical-align: middle;\n",
       "    }\n",
       "\n",
       "    .dataframe tbody tr th {\n",
       "        vertical-align: top;\n",
       "    }\n",
       "\n",
       "    .dataframe thead th {\n",
       "        text-align: right;\n",
       "    }\n",
       "</style>\n",
       "<table border=\"1\" class=\"dataframe\">\n",
       "  <thead>\n",
       "    <tr style=\"text-align: right;\">\n",
       "      <th></th>\n",
       "      <th>Fibonacci</th>\n",
       "    </tr>\n",
       "  </thead>\n",
       "  <tbody>\n",
       "    <tr>\n",
       "      <td>0</td>\n",
       "      <td>0</td>\n",
       "    </tr>\n",
       "    <tr>\n",
       "      <td>1</td>\n",
       "      <td>1</td>\n",
       "    </tr>\n",
       "    <tr>\n",
       "      <td>2</td>\n",
       "      <td>1</td>\n",
       "    </tr>\n",
       "    <tr>\n",
       "      <td>3</td>\n",
       "      <td>2</td>\n",
       "    </tr>\n",
       "    <tr>\n",
       "      <td>4</td>\n",
       "      <td>3</td>\n",
       "    </tr>\n",
       "    <tr>\n",
       "      <td>...</td>\n",
       "      <td>...</td>\n",
       "    </tr>\n",
       "    <tr>\n",
       "      <td>75</td>\n",
       "      <td>2111485077978050</td>\n",
       "    </tr>\n",
       "    <tr>\n",
       "      <td>76</td>\n",
       "      <td>3416454622906707</td>\n",
       "    </tr>\n",
       "    <tr>\n",
       "      <td>77</td>\n",
       "      <td>5527939700884757</td>\n",
       "    </tr>\n",
       "    <tr>\n",
       "      <td>78</td>\n",
       "      <td>8944394323791464</td>\n",
       "    </tr>\n",
       "    <tr>\n",
       "      <td>79</td>\n",
       "      <td>14472334024676221</td>\n",
       "    </tr>\n",
       "  </tbody>\n",
       "</table>\n",
       "<p>80 rows × 1 columns</p>\n",
       "</div>"
      ],
      "text/plain": [
       "            Fibonacci\n",
       "0                   0\n",
       "1                   1\n",
       "2                   1\n",
       "3                   2\n",
       "4                   3\n",
       "..                ...\n",
       "75   2111485077978050\n",
       "76   3416454622906707\n",
       "77   5527939700884757\n",
       "78   8944394323791464\n",
       "79  14472334024676221\n",
       "\n",
       "[80 rows x 1 columns]"
      ]
     },
     "execution_count": 10,
     "metadata": {},
     "output_type": "execute_result"
    }
   ],
   "source": [
    "data2 = pd.DataFrame(my_fibs, columns = ['Fibonacci'])\n",
    "data2"
   ]
  },
  {
   "cell_type": "code",
   "execution_count": 11,
   "metadata": {},
   "outputs": [
    {
     "data": {
      "text/plain": [
       "<matplotlib.axes._subplots.AxesSubplot at 0x1c6f7561288>"
      ]
     },
     "execution_count": 11,
     "metadata": {},
     "output_type": "execute_result"
    },
    {
     "data": {
      "image/png": "[encoded data removed]",
      "text/plain": [
       "<Figure size 432x288 with 1 Axes>"
      ]
     },
     "metadata": {
      "needs_background": "light"
     },
     "output_type": "display_data"
    }
   ],
   "source": [
    "data2.plot()"
   ]
  },
  {
   "cell_type": "markdown",
   "metadata": {},
   "source": [
    "Run ***only one*** of the following two cells:\n",
    "\n",
    "Run this cell to work with potentially ***huge*** numbers:"
   ]
  },
  {
   "cell_type": "code",
   "execution_count": 12,
   "metadata": {},
   "outputs": [],
   "source": [
    "data5 = data2"
   ]
  },
  {
   "cell_type": "markdown",
   "metadata": {},
   "source": [
    "Run this cell to work with ***small*** numbers:"
   ]
  },
  {
   "cell_type": "code",
   "execution_count": 20,
   "metadata": {},
   "outputs": [],
   "source": [
    "data5 = data3"
   ]
  },
  {
   "cell_type": "code",
   "execution_count": 21,
   "metadata": {},
   "outputs": [
    {
     "data": {
      "text/plain": [
       "array([[0.00000000e+00],\n",
       "       [6.90973549e-17],\n",
       "       [6.90973549e-17],\n",
       "       [1.38194710e-16],\n",
       "       [2.07292065e-16],\n",
       "       [3.45486774e-16],\n",
       "       [5.52778839e-16],\n",
       "       [8.98265613e-16],\n",
       "       [1.45104445e-15],\n",
       "       [2.34931007e-15],\n",
       "       [3.80035452e-15],\n",
       "       [6.14966458e-15],\n",
       "       [9.95001910e-15],\n",
       "       [1.60996837e-14],\n",
       "       [2.60497028e-14],\n",
       "       [4.21493865e-14],\n",
       "       [6.81990893e-14],\n",
       "       [1.10348476e-13],\n",
       "       [1.78547565e-13],\n",
       "       [2.88896041e-13],\n",
       "       [4.67443606e-13],\n",
       "       [7.56339646e-13],\n",
       "       [1.22378325e-12],\n",
       "       [1.98012290e-12],\n",
       "       [3.20390615e-12],\n",
       "       [5.18402905e-12],\n",
       "       [8.38793520e-12],\n",
       "       [1.35719643e-11],\n",
       "       [2.19598995e-11],\n",
       "       [3.55318637e-11],\n",
       "       [5.74917632e-11],\n",
       "       [9.30236269e-11],\n",
       "       [1.50515390e-10],\n",
       "       [2.43539017e-10],\n",
       "       [3.94054407e-10],\n",
       "       [6.37593424e-10],\n",
       "       [1.03164783e-09],\n",
       "       [1.66924125e-09],\n",
       "       [2.70088908e-09],\n",
       "       [4.37013034e-09],\n",
       "       [7.07101942e-09],\n",
       "       [1.14411498e-08],\n",
       "       [1.85121692e-08],\n",
       "       [2.99533190e-08],\n",
       "       [4.84654881e-08],\n",
       "       [7.84188071e-08],\n",
       "       [1.26884295e-07],\n",
       "       [2.05303102e-07],\n",
       "       [3.32187398e-07],\n",
       "       [5.37490500e-07],\n",
       "       [8.69677897e-07],\n",
       "       [1.40716840e-06],\n",
       "       [2.27684629e-06],\n",
       "       [3.68401469e-06],\n",
       "       [5.96086099e-06],\n",
       "       [9.64487568e-06],\n",
       "       [1.56057367e-05],\n",
       "       [2.52506123e-05],\n",
       "       [4.08563490e-05],\n",
       "       [6.61069614e-05],\n",
       "       [1.06963310e-04],\n",
       "       [1.73070272e-04],\n",
       "       [2.80033582e-04],\n",
       "       [4.53103854e-04],\n",
       "       [7.33137436e-04],\n",
       "       [1.18624129e-03],\n",
       "       [1.91937873e-03],\n",
       "       [3.10562002e-03],\n",
       "       [5.02499874e-03],\n",
       "       [8.13061876e-03],\n",
       "       [1.31556175e-02],\n",
       "       [2.12862363e-02],\n",
       "       [3.44418537e-02],\n",
       "       [5.57280900e-02],\n",
       "       [9.01699437e-02],\n",
       "       [1.45898034e-01],\n",
       "       [2.36067977e-01],\n",
       "       [3.81966011e-01],\n",
       "       [6.18033989e-01],\n",
       "       [1.00000000e+00]])"
      ]
     },
     "execution_count": 21,
     "metadata": {},
     "output_type": "execute_result"
    }
   ],
   "source": [
    "data5"
   ]
  },
  {
   "cell_type": "markdown",
   "metadata": {},
   "source": [
    "You may have to convert to a pandas **dataframe** if you picked the 2nd option:"
   ]
  },
  {
   "cell_type": "code",
   "execution_count": 22,
   "metadata": {},
   "outputs": [],
   "source": [
    "data5 = pd.DataFrame(data5, columns=['Fibonacci'], index=data2.index)"
   ]
  },
  {
   "cell_type": "code",
   "execution_count": 16,
   "metadata": {},
   "outputs": [
    {
     "data": {
      "text/html": [
       "<div>\n",
       "<style scoped>\n",
       "    .dataframe tbody tr th:only-of-type {\n",
       "        vertical-align: middle;\n",
       "    }\n",
       "\n",
       "    .dataframe tbody tr th {\n",
       "        vertical-align: top;\n",
       "    }\n",
       "\n",
       "    .dataframe thead th {\n",
       "        text-align: right;\n",
       "    }\n",
       "</style>\n",
       "<table border=\"1\" class=\"dataframe\">\n",
       "  <thead>\n",
       "    <tr style=\"text-align: right;\">\n",
       "      <th></th>\n",
       "      <th>Fibonacci</th>\n",
       "    </tr>\n",
       "  </thead>\n",
       "  <tbody>\n",
       "    <tr>\n",
       "      <td>0</td>\n",
       "      <td>0.000000e+00</td>\n",
       "    </tr>\n",
       "    <tr>\n",
       "      <td>1</td>\n",
       "      <td>6.909735e-17</td>\n",
       "    </tr>\n",
       "    <tr>\n",
       "      <td>2</td>\n",
       "      <td>6.909735e-17</td>\n",
       "    </tr>\n",
       "    <tr>\n",
       "      <td>3</td>\n",
       "      <td>1.381947e-16</td>\n",
       "    </tr>\n",
       "    <tr>\n",
       "      <td>4</td>\n",
       "      <td>2.072921e-16</td>\n",
       "    </tr>\n",
       "    <tr>\n",
       "      <td>...</td>\n",
       "      <td>...</td>\n",
       "    </tr>\n",
       "    <tr>\n",
       "      <td>75</td>\n",
       "      <td>1.458980e-01</td>\n",
       "    </tr>\n",
       "    <tr>\n",
       "      <td>76</td>\n",
       "      <td>2.360680e-01</td>\n",
       "    </tr>\n",
       "    <tr>\n",
       "      <td>77</td>\n",
       "      <td>3.819660e-01</td>\n",
       "    </tr>\n",
       "    <tr>\n",
       "      <td>78</td>\n",
       "      <td>6.180340e-01</td>\n",
       "    </tr>\n",
       "    <tr>\n",
       "      <td>79</td>\n",
       "      <td>1.000000e+00</td>\n",
       "    </tr>\n",
       "  </tbody>\n",
       "</table>\n",
       "<p>80 rows × 1 columns</p>\n",
       "</div>"
      ],
      "text/plain": [
       "       Fibonacci\n",
       "0   0.000000e+00\n",
       "1   6.909735e-17\n",
       "2   6.909735e-17\n",
       "3   1.381947e-16\n",
       "4   2.072921e-16\n",
       "..           ...\n",
       "75  1.458980e-01\n",
       "76  2.360680e-01\n",
       "77  3.819660e-01\n",
       "78  6.180340e-01\n",
       "79  1.000000e+00\n",
       "\n",
       "[80 rows x 1 columns]"
      ]
     },
     "execution_count": 16,
     "metadata": {},
     "output_type": "execute_result"
    }
   ],
   "source": [
    "data5"
   ]
  },
  {
   "cell_type": "markdown",
   "metadata": {},
   "source": [
    "I only need the previous ***two*** values to evaluate the next value, but just for kicks, to see if the model correctly picks the right columns, i'll also add the the previous ***three*** values:"
   ]
  },
  {
   "cell_type": "code",
   "execution_count": 23,
   "metadata": {},
   "outputs": [],
   "source": [
    "#for s in range(1,10):\n",
    "for s in range(1,4):\n",
    "    data5['Fibonacci_{}'.format(s)] = data5['Fibonacci'].shift(s)"
   ]
  },
  {
   "cell_type": "code",
   "execution_count": 18,
   "metadata": {},
   "outputs": [
    {
     "data": {
      "text/html": [
       "<div>\n",
       "<style scoped>\n",
       "    .dataframe tbody tr th:only-of-type {\n",
       "        vertical-align: middle;\n",
       "    }\n",
       "\n",
       "    .dataframe tbody tr th {\n",
       "        vertical-align: top;\n",
       "    }\n",
       "\n",
       "    .dataframe thead th {\n",
       "        text-align: right;\n",
       "    }\n",
       "</style>\n",
       "<table border=\"1\" class=\"dataframe\">\n",
       "  <thead>\n",
       "    <tr style=\"text-align: right;\">\n",
       "      <th></th>\n",
       "      <th>Fibonacci</th>\n",
       "      <th>Fibonacci_1</th>\n",
       "      <th>Fibonacci_2</th>\n",
       "      <th>Fibonacci_3</th>\n",
       "    </tr>\n",
       "  </thead>\n",
       "  <tbody>\n",
       "    <tr>\n",
       "      <td>0</td>\n",
       "      <td>0.000000e+00</td>\n",
       "      <td>NaN</td>\n",
       "      <td>NaN</td>\n",
       "      <td>NaN</td>\n",
       "    </tr>\n",
       "    <tr>\n",
       "      <td>1</td>\n",
       "      <td>6.909735e-17</td>\n",
       "      <td>0.000000e+00</td>\n",
       "      <td>NaN</td>\n",
       "      <td>NaN</td>\n",
       "    </tr>\n",
       "    <tr>\n",
       "      <td>2</td>\n",
       "      <td>6.909735e-17</td>\n",
       "      <td>6.909735e-17</td>\n",
       "      <td>0.000000e+00</td>\n",
       "      <td>NaN</td>\n",
       "    </tr>\n",
       "    <tr>\n",
       "      <td>3</td>\n",
       "      <td>1.381947e-16</td>\n",
       "      <td>6.909735e-17</td>\n",
       "      <td>6.909735e-17</td>\n",
       "      <td>0.000000e+00</td>\n",
       "    </tr>\n",
       "    <tr>\n",
       "      <td>4</td>\n",
       "      <td>2.072921e-16</td>\n",
       "      <td>1.381947e-16</td>\n",
       "      <td>6.909735e-17</td>\n",
       "      <td>6.909735e-17</td>\n",
       "    </tr>\n",
       "    <tr>\n",
       "      <td>...</td>\n",
       "      <td>...</td>\n",
       "      <td>...</td>\n",
       "      <td>...</td>\n",
       "      <td>...</td>\n",
       "    </tr>\n",
       "    <tr>\n",
       "      <td>75</td>\n",
       "      <td>1.458980e-01</td>\n",
       "      <td>9.016994e-02</td>\n",
       "      <td>5.572809e-02</td>\n",
       "      <td>3.444185e-02</td>\n",
       "    </tr>\n",
       "    <tr>\n",
       "      <td>76</td>\n",
       "      <td>2.360680e-01</td>\n",
       "      <td>1.458980e-01</td>\n",
       "      <td>9.016994e-02</td>\n",
       "      <td>5.572809e-02</td>\n",
       "    </tr>\n",
       "    <tr>\n",
       "      <td>77</td>\n",
       "      <td>3.819660e-01</td>\n",
       "      <td>2.360680e-01</td>\n",
       "      <td>1.458980e-01</td>\n",
       "      <td>9.016994e-02</td>\n",
       "    </tr>\n",
       "    <tr>\n",
       "      <td>78</td>\n",
       "      <td>6.180340e-01</td>\n",
       "      <td>3.819660e-01</td>\n",
       "      <td>2.360680e-01</td>\n",
       "      <td>1.458980e-01</td>\n",
       "    </tr>\n",
       "    <tr>\n",
       "      <td>79</td>\n",
       "      <td>1.000000e+00</td>\n",
       "      <td>6.180340e-01</td>\n",
       "      <td>3.819660e-01</td>\n",
       "      <td>2.360680e-01</td>\n",
       "    </tr>\n",
       "  </tbody>\n",
       "</table>\n",
       "<p>80 rows × 4 columns</p>\n",
       "</div>"
      ],
      "text/plain": [
       "       Fibonacci   Fibonacci_1   Fibonacci_2   Fibonacci_3\n",
       "0   0.000000e+00           NaN           NaN           NaN\n",
       "1   6.909735e-17  0.000000e+00           NaN           NaN\n",
       "2   6.909735e-17  6.909735e-17  0.000000e+00           NaN\n",
       "3   1.381947e-16  6.909735e-17  6.909735e-17  0.000000e+00\n",
       "4   2.072921e-16  1.381947e-16  6.909735e-17  6.909735e-17\n",
       "..           ...           ...           ...           ...\n",
       "75  1.458980e-01  9.016994e-02  5.572809e-02  3.444185e-02\n",
       "76  2.360680e-01  1.458980e-01  9.016994e-02  5.572809e-02\n",
       "77  3.819660e-01  2.360680e-01  1.458980e-01  9.016994e-02\n",
       "78  6.180340e-01  3.819660e-01  2.360680e-01  1.458980e-01\n",
       "79  1.000000e+00  6.180340e-01  3.819660e-01  2.360680e-01\n",
       "\n",
       "[80 rows x 4 columns]"
      ]
     },
     "execution_count": 18,
     "metadata": {},
     "output_type": "execute_result"
    }
   ],
   "source": [
    "data5"
   ]
  },
  {
   "cell_type": "markdown",
   "metadata": {},
   "source": [
    "Verify:"
   ]
  },
  {
   "cell_type": "code",
   "execution_count": 19,
   "metadata": {},
   "outputs": [
    {
     "data": {
      "text/plain": [
       "0              NaN\n",
       "1              NaN\n",
       "2     0.000000e+00\n",
       "3     0.000000e+00\n",
       "4     0.000000e+00\n",
       "          ...     \n",
       "75    1.387779e-17\n",
       "76   -1.387779e-17\n",
       "77    0.000000e+00\n",
       "78   -2.775558e-17\n",
       "79   -1.110223e-16\n",
       "Length: 80, dtype: float64"
      ]
     },
     "execution_count": 19,
     "metadata": {},
     "output_type": "execute_result"
    }
   ],
   "source": [
    "data5['Fibonacci'] - data5['Fibonacci_1'] - data5['Fibonacci_2']"
   ]
  },
  {
   "cell_type": "markdown",
   "metadata": {},
   "source": [
    "Oops! What's that *last* row saying??!\n",
    "\n",
    "Let's get rid of it!"
   ]
  },
  {
   "cell_type": "code",
   "execution_count": 24,
   "metadata": {},
   "outputs": [
    {
     "data": {
      "text/html": [
       "<div>\n",
       "<style scoped>\n",
       "    .dataframe tbody tr th:only-of-type {\n",
       "        vertical-align: middle;\n",
       "    }\n",
       "\n",
       "    .dataframe tbody tr th {\n",
       "        vertical-align: top;\n",
       "    }\n",
       "\n",
       "    .dataframe thead th {\n",
       "        text-align: right;\n",
       "    }\n",
       "</style>\n",
       "<table border=\"1\" class=\"dataframe\">\n",
       "  <thead>\n",
       "    <tr style=\"text-align: right;\">\n",
       "      <th></th>\n",
       "      <th>Fibonacci</th>\n",
       "      <th>Fibonacci_1</th>\n",
       "      <th>Fibonacci_2</th>\n",
       "      <th>Fibonacci_3</th>\n",
       "    </tr>\n",
       "  </thead>\n",
       "  <tbody>\n",
       "    <tr>\n",
       "      <td>0</td>\n",
       "      <td>0.000000e+00</td>\n",
       "      <td>NaN</td>\n",
       "      <td>NaN</td>\n",
       "      <td>NaN</td>\n",
       "    </tr>\n",
       "    <tr>\n",
       "      <td>1</td>\n",
       "      <td>6.909735e-17</td>\n",
       "      <td>0.000000e+00</td>\n",
       "      <td>NaN</td>\n",
       "      <td>NaN</td>\n",
       "    </tr>\n",
       "    <tr>\n",
       "      <td>2</td>\n",
       "      <td>6.909735e-17</td>\n",
       "      <td>6.909735e-17</td>\n",
       "      <td>0.000000e+00</td>\n",
       "      <td>NaN</td>\n",
       "    </tr>\n",
       "    <tr>\n",
       "      <td>3</td>\n",
       "      <td>1.381947e-16</td>\n",
       "      <td>6.909735e-17</td>\n",
       "      <td>6.909735e-17</td>\n",
       "      <td>0.000000e+00</td>\n",
       "    </tr>\n",
       "    <tr>\n",
       "      <td>4</td>\n",
       "      <td>2.072921e-16</td>\n",
       "      <td>1.381947e-16</td>\n",
       "      <td>6.909735e-17</td>\n",
       "      <td>6.909735e-17</td>\n",
       "    </tr>\n",
       "    <tr>\n",
       "      <td>...</td>\n",
       "      <td>...</td>\n",
       "      <td>...</td>\n",
       "      <td>...</td>\n",
       "      <td>...</td>\n",
       "    </tr>\n",
       "    <tr>\n",
       "      <td>74</td>\n",
       "      <td>9.016994e-02</td>\n",
       "      <td>5.572809e-02</td>\n",
       "      <td>3.444185e-02</td>\n",
       "      <td>2.128624e-02</td>\n",
       "    </tr>\n",
       "    <tr>\n",
       "      <td>75</td>\n",
       "      <td>1.458980e-01</td>\n",
       "      <td>9.016994e-02</td>\n",
       "      <td>5.572809e-02</td>\n",
       "      <td>3.444185e-02</td>\n",
       "    </tr>\n",
       "    <tr>\n",
       "      <td>76</td>\n",
       "      <td>2.360680e-01</td>\n",
       "      <td>1.458980e-01</td>\n",
       "      <td>9.016994e-02</td>\n",
       "      <td>5.572809e-02</td>\n",
       "    </tr>\n",
       "    <tr>\n",
       "      <td>77</td>\n",
       "      <td>3.819660e-01</td>\n",
       "      <td>2.360680e-01</td>\n",
       "      <td>1.458980e-01</td>\n",
       "      <td>9.016994e-02</td>\n",
       "    </tr>\n",
       "    <tr>\n",
       "      <td>78</td>\n",
       "      <td>6.180340e-01</td>\n",
       "      <td>3.819660e-01</td>\n",
       "      <td>2.360680e-01</td>\n",
       "      <td>1.458980e-01</td>\n",
       "    </tr>\n",
       "  </tbody>\n",
       "</table>\n",
       "<p>79 rows × 4 columns</p>\n",
       "</div>"
      ],
      "text/plain": [
       "       Fibonacci   Fibonacci_1   Fibonacci_2   Fibonacci_3\n",
       "0   0.000000e+00           NaN           NaN           NaN\n",
       "1   6.909735e-17  0.000000e+00           NaN           NaN\n",
       "2   6.909735e-17  6.909735e-17  0.000000e+00           NaN\n",
       "3   1.381947e-16  6.909735e-17  6.909735e-17  0.000000e+00\n",
       "4   2.072921e-16  1.381947e-16  6.909735e-17  6.909735e-17\n",
       "..           ...           ...           ...           ...\n",
       "74  9.016994e-02  5.572809e-02  3.444185e-02  2.128624e-02\n",
       "75  1.458980e-01  9.016994e-02  5.572809e-02  3.444185e-02\n",
       "76  2.360680e-01  1.458980e-01  9.016994e-02  5.572809e-02\n",
       "77  3.819660e-01  2.360680e-01  1.458980e-01  9.016994e-02\n",
       "78  6.180340e-01  3.819660e-01  2.360680e-01  1.458980e-01\n",
       "\n",
       "[79 rows x 4 columns]"
      ]
     },
     "execution_count": 24,
     "metadata": {},
     "output_type": "execute_result"
    }
   ],
   "source": [
    "data5 = data5[:-1]\n",
    "data5"
   ]
  },
  {
   "cell_type": "code",
   "execution_count": 25,
   "metadata": {},
   "outputs": [
    {
     "data": {
      "text/plain": [
       "0              NaN\n",
       "1              NaN\n",
       "2     0.000000e+00\n",
       "3     0.000000e+00\n",
       "4     0.000000e+00\n",
       "          ...     \n",
       "74   -6.938894e-18\n",
       "75    1.387779e-17\n",
       "76   -1.387779e-17\n",
       "77    0.000000e+00\n",
       "78   -2.775558e-17\n",
       "Length: 79, dtype: float64"
      ]
     },
     "execution_count": 25,
     "metadata": {},
     "output_type": "execute_result"
    }
   ],
   "source": [
    "data5['Fibonacci'] - data5['Fibonacci_1'] - data5['Fibonacci_2']"
   ]
  },
  {
   "cell_type": "code",
   "execution_count": 26,
   "metadata": {},
   "outputs": [],
   "source": [
    "X = data5.dropna().drop('Fibonacci', axis=1)\n",
    "y = data5.dropna().drop(['Fibonacci_'+str(i) for i in range(1,4)], axis=1)"
   ]
  },
  {
   "cell_type": "code",
   "execution_count": 27,
   "metadata": {},
   "outputs": [
    {
     "data": {
      "text/html": [
       "<div>\n",
       "<style scoped>\n",
       "    .dataframe tbody tr th:only-of-type {\n",
       "        vertical-align: middle;\n",
       "    }\n",
       "\n",
       "    .dataframe tbody tr th {\n",
       "        vertical-align: top;\n",
       "    }\n",
       "\n",
       "    .dataframe thead th {\n",
       "        text-align: right;\n",
       "    }\n",
       "</style>\n",
       "<table border=\"1\" class=\"dataframe\">\n",
       "  <thead>\n",
       "    <tr style=\"text-align: right;\">\n",
       "      <th></th>\n",
       "      <th>Fibonacci_1</th>\n",
       "      <th>Fibonacci_2</th>\n",
       "      <th>Fibonacci_3</th>\n",
       "    </tr>\n",
       "  </thead>\n",
       "  <tbody>\n",
       "    <tr>\n",
       "      <td>3</td>\n",
       "      <td>6.909735e-17</td>\n",
       "      <td>6.909735e-17</td>\n",
       "      <td>0.000000e+00</td>\n",
       "    </tr>\n",
       "    <tr>\n",
       "      <td>4</td>\n",
       "      <td>1.381947e-16</td>\n",
       "      <td>6.909735e-17</td>\n",
       "      <td>6.909735e-17</td>\n",
       "    </tr>\n",
       "    <tr>\n",
       "      <td>5</td>\n",
       "      <td>2.072921e-16</td>\n",
       "      <td>1.381947e-16</td>\n",
       "      <td>6.909735e-17</td>\n",
       "    </tr>\n",
       "    <tr>\n",
       "      <td>6</td>\n",
       "      <td>3.454868e-16</td>\n",
       "      <td>2.072921e-16</td>\n",
       "      <td>1.381947e-16</td>\n",
       "    </tr>\n",
       "    <tr>\n",
       "      <td>7</td>\n",
       "      <td>5.527788e-16</td>\n",
       "      <td>3.454868e-16</td>\n",
       "      <td>2.072921e-16</td>\n",
       "    </tr>\n",
       "    <tr>\n",
       "      <td>...</td>\n",
       "      <td>...</td>\n",
       "      <td>...</td>\n",
       "      <td>...</td>\n",
       "    </tr>\n",
       "    <tr>\n",
       "      <td>74</td>\n",
       "      <td>5.572809e-02</td>\n",
       "      <td>3.444185e-02</td>\n",
       "      <td>2.128624e-02</td>\n",
       "    </tr>\n",
       "    <tr>\n",
       "      <td>75</td>\n",
       "      <td>9.016994e-02</td>\n",
       "      <td>5.572809e-02</td>\n",
       "      <td>3.444185e-02</td>\n",
       "    </tr>\n",
       "    <tr>\n",
       "      <td>76</td>\n",
       "      <td>1.458980e-01</td>\n",
       "      <td>9.016994e-02</td>\n",
       "      <td>5.572809e-02</td>\n",
       "    </tr>\n",
       "    <tr>\n",
       "      <td>77</td>\n",
       "      <td>2.360680e-01</td>\n",
       "      <td>1.458980e-01</td>\n",
       "      <td>9.016994e-02</td>\n",
       "    </tr>\n",
       "    <tr>\n",
       "      <td>78</td>\n",
       "      <td>3.819660e-01</td>\n",
       "      <td>2.360680e-01</td>\n",
       "      <td>1.458980e-01</td>\n",
       "    </tr>\n",
       "  </tbody>\n",
       "</table>\n",
       "<p>76 rows × 3 columns</p>\n",
       "</div>"
      ],
      "text/plain": [
       "     Fibonacci_1   Fibonacci_2   Fibonacci_3\n",
       "3   6.909735e-17  6.909735e-17  0.000000e+00\n",
       "4   1.381947e-16  6.909735e-17  6.909735e-17\n",
       "5   2.072921e-16  1.381947e-16  6.909735e-17\n",
       "6   3.454868e-16  2.072921e-16  1.381947e-16\n",
       "7   5.527788e-16  3.454868e-16  2.072921e-16\n",
       "..           ...           ...           ...\n",
       "74  5.572809e-02  3.444185e-02  2.128624e-02\n",
       "75  9.016994e-02  5.572809e-02  3.444185e-02\n",
       "76  1.458980e-01  9.016994e-02  5.572809e-02\n",
       "77  2.360680e-01  1.458980e-01  9.016994e-02\n",
       "78  3.819660e-01  2.360680e-01  1.458980e-01\n",
       "\n",
       "[76 rows x 3 columns]"
      ]
     },
     "execution_count": 27,
     "metadata": {},
     "output_type": "execute_result"
    }
   ],
   "source": [
    "X"
   ]
  },
  {
   "cell_type": "code",
   "execution_count": 28,
   "metadata": {},
   "outputs": [
    {
     "data": {
      "text/html": [
       "<div>\n",
       "<style scoped>\n",
       "    .dataframe tbody tr th:only-of-type {\n",
       "        vertical-align: middle;\n",
       "    }\n",
       "\n",
       "    .dataframe tbody tr th {\n",
       "        vertical-align: top;\n",
       "    }\n",
       "\n",
       "    .dataframe thead th {\n",
       "        text-align: right;\n",
       "    }\n",
       "</style>\n",
       "<table border=\"1\" class=\"dataframe\">\n",
       "  <thead>\n",
       "    <tr style=\"text-align: right;\">\n",
       "      <th></th>\n",
       "      <th>Fibonacci</th>\n",
       "    </tr>\n",
       "  </thead>\n",
       "  <tbody>\n",
       "    <tr>\n",
       "      <td>3</td>\n",
       "      <td>1.381947e-16</td>\n",
       "    </tr>\n",
       "    <tr>\n",
       "      <td>4</td>\n",
       "      <td>2.072921e-16</td>\n",
       "    </tr>\n",
       "    <tr>\n",
       "      <td>5</td>\n",
       "      <td>3.454868e-16</td>\n",
       "    </tr>\n",
       "    <tr>\n",
       "      <td>6</td>\n",
       "      <td>5.527788e-16</td>\n",
       "    </tr>\n",
       "    <tr>\n",
       "      <td>7</td>\n",
       "      <td>8.982656e-16</td>\n",
       "    </tr>\n",
       "    <tr>\n",
       "      <td>...</td>\n",
       "      <td>...</td>\n",
       "    </tr>\n",
       "    <tr>\n",
       "      <td>74</td>\n",
       "      <td>9.016994e-02</td>\n",
       "    </tr>\n",
       "    <tr>\n",
       "      <td>75</td>\n",
       "      <td>1.458980e-01</td>\n",
       "    </tr>\n",
       "    <tr>\n",
       "      <td>76</td>\n",
       "      <td>2.360680e-01</td>\n",
       "    </tr>\n",
       "    <tr>\n",
       "      <td>77</td>\n",
       "      <td>3.819660e-01</td>\n",
       "    </tr>\n",
       "    <tr>\n",
       "      <td>78</td>\n",
       "      <td>6.180340e-01</td>\n",
       "    </tr>\n",
       "  </tbody>\n",
       "</table>\n",
       "<p>76 rows × 1 columns</p>\n",
       "</div>"
      ],
      "text/plain": [
       "       Fibonacci\n",
       "3   1.381947e-16\n",
       "4   2.072921e-16\n",
       "5   3.454868e-16\n",
       "6   5.527788e-16\n",
       "7   8.982656e-16\n",
       "..           ...\n",
       "74  9.016994e-02\n",
       "75  1.458980e-01\n",
       "76  2.360680e-01\n",
       "77  3.819660e-01\n",
       "78  6.180340e-01\n",
       "\n",
       "[76 rows x 1 columns]"
      ]
     },
     "execution_count": 28,
     "metadata": {},
     "output_type": "execute_result"
    }
   ],
   "source": [
    "y"
   ]
  },
  {
   "cell_type": "code",
   "execution_count": 29,
   "metadata": {},
   "outputs": [],
   "source": [
    "from sklearn.model_selection import train_test_split\n",
    "X_train, X_test, y_train, y_test = train_test_split(X, y, random_state=42)"
   ]
  },
  {
   "cell_type": "code",
   "execution_count": 30,
   "metadata": {},
   "outputs": [],
   "source": [
    "from sklearn.ensemble import RandomForestRegressor\n",
    "from sklearn import metrics"
   ]
  },
  {
   "cell_type": "code",
   "execution_count": 31,
   "metadata": {},
   "outputs": [],
   "source": [
    "# Create a model \n",
    "rf_model = RandomForestRegressor()"
   ]
  },
  {
   "cell_type": "code",
   "execution_count": 32,
   "metadata": {},
   "outputs": [
    {
     "name": "stderr",
     "output_type": "stream",
     "text": [
      "C:\\Users\\Utkarsh\\Anaconda3\\lib\\site-packages\\sklearn\\ensemble\\forest.py:245: FutureWarning: The default value of n_estimators will change from 10 in version 0.20 to 100 in 0.22.\n",
      "  \"10 in version 0.20 to 100 in 0.22.\", FutureWarning)\n",
      "C:\\Users\\Utkarsh\\Anaconda3\\lib\\site-packages\\ipykernel_launcher.py:2: DataConversionWarning: A column-vector y was passed when a 1d array was expected. Please change the shape of y to (n_samples,), for example using ravel().\n",
      "  \n"
     ]
    },
    {
     "data": {
      "text/plain": [
       "RandomForestRegressor(bootstrap=True, criterion='mse', max_depth=None,\n",
       "                      max_features='auto', max_leaf_nodes=None,\n",
       "                      min_impurity_decrease=0.0, min_impurity_split=None,\n",
       "                      min_samples_leaf=1, min_samples_split=2,\n",
       "                      min_weight_fraction_leaf=0.0, n_estimators=10,\n",
       "                      n_jobs=None, oob_score=False, random_state=None,\n",
       "                      verbose=0, warm_start=False)"
      ]
     },
     "execution_count": 32,
     "metadata": {},
     "output_type": "execute_result"
    }
   ],
   "source": [
    "# Train the model\n",
    "rf_model.fit(X_train, y_train)"
   ]
  },
  {
   "cell_type": "code",
   "execution_count": 33,
   "metadata": {},
   "outputs": [
    {
     "data": {
      "text/plain": [
       "0.8815193159353805"
      ]
     },
     "execution_count": 33,
     "metadata": {},
     "output_type": "execute_result"
    }
   ],
   "source": [
    "# Get R2 measure (indicator of accuracy 1 is perfect, 0 is horrible)\n",
    "rf_model.score(X_test, y_test)"
   ]
  },
  {
   "cell_type": "markdown",
   "metadata": {},
   "source": [
    "pretty good!\n",
    "\n",
    "Which columns did the algorithm pick to determine the target variable?"
   ]
  },
  {
   "cell_type": "code",
   "execution_count": 34,
   "metadata": {},
   "outputs": [
    {
     "data": {
      "text/plain": [
       "[('Fibonacci_2', 0.7342498244853394),\n",
       " ('Fibonacci_3', 0.14148925766938655),\n",
       " ('Fibonacci_1', 0.124260917845274)]"
      ]
     },
     "execution_count": 34,
     "metadata": {},
     "output_type": "execute_result"
    }
   ],
   "source": [
    "sorted(zip(X.columns, rf_model.feature_importances_),\n",
    "        key=lambda x: x[1], reverse=True)"
   ]
  },
  {
   "cell_type": "markdown",
   "metadata": {},
   "source": [
    "The algorithm correctly determined that the previous and next-to-previous columns are the right ones to prioritize!"
   ]
  },
  {
   "cell_type": "code",
   "execution_count": 35,
   "metadata": {},
   "outputs": [],
   "source": [
    "y_pred = rf_model.predict(X_test)"
   ]
  },
  {
   "cell_type": "code",
   "execution_count": 36,
   "metadata": {},
   "outputs": [
    {
     "data": {
      "text/plain": [
       "numpy.ndarray"
      ]
     },
     "execution_count": 36,
     "metadata": {},
     "output_type": "execute_result"
    }
   ],
   "source": [
    "type(y_pred)"
   ]
  },
  {
   "cell_type": "code",
   "execution_count": 37,
   "metadata": {},
   "outputs": [
    {
     "data": {
      "text/plain": [
       "array([4.73530579e-05, 4.73530579e-05, 4.73530579e-05, 4.73530579e-05,\n",
       "       4.73530579e-05, 4.73530579e-05, 2.74974763e-03, 4.73530579e-05,\n",
       "       4.73530579e-05, 4.73530579e-05, 1.02592424e-02, 3.71916014e-02,\n",
       "       4.73530579e-05, 4.73530579e-05, 4.73530579e-05, 4.73530579e-05,\n",
       "       4.73530579e-05, 4.73530579e-05, 4.73530579e-05])"
      ]
     },
     "execution_count": 37,
     "metadata": {},
     "output_type": "execute_result"
    }
   ],
   "source": [
    "y_pred"
   ]
  },
  {
   "cell_type": "code",
   "execution_count": 38,
   "metadata": {},
   "outputs": [
    {
     "data": {
      "text/plain": [
       "pandas.core.frame.DataFrame"
      ]
     },
     "execution_count": 38,
     "metadata": {},
     "output_type": "execute_result"
    }
   ],
   "source": [
    "type(y_test)"
   ]
  },
  {
   "cell_type": "code",
   "execution_count": 39,
   "metadata": {},
   "outputs": [
    {
     "data": {
      "text/html": [
       "<div>\n",
       "<style scoped>\n",
       "    .dataframe tbody tr th:only-of-type {\n",
       "        vertical-align: middle;\n",
       "    }\n",
       "\n",
       "    .dataframe tbody tr th {\n",
       "        vertical-align: top;\n",
       "    }\n",
       "\n",
       "    .dataframe thead th {\n",
       "        text-align: right;\n",
       "    }\n",
       "</style>\n",
       "<table border=\"1\" class=\"dataframe\">\n",
       "  <thead>\n",
       "    <tr style=\"text-align: right;\">\n",
       "      <th></th>\n",
       "      <th>Fibonacci</th>\n",
       "    </tr>\n",
       "  </thead>\n",
       "  <tbody>\n",
       "    <tr>\n",
       "      <td>7</td>\n",
       "      <td>8.982656e-16</td>\n",
       "    </tr>\n",
       "    <tr>\n",
       "      <td>38</td>\n",
       "      <td>2.700889e-09</td>\n",
       "    </tr>\n",
       "    <tr>\n",
       "      <td>13</td>\n",
       "      <td>1.609968e-14</td>\n",
       "    </tr>\n",
       "    <tr>\n",
       "      <td>3</td>\n",
       "      <td>1.381947e-16</td>\n",
       "    </tr>\n",
       "    <tr>\n",
       "      <td>48</td>\n",
       "      <td>3.321874e-07</td>\n",
       "    </tr>\n",
       "    <tr>\n",
       "      <td>50</td>\n",
       "      <td>8.696779e-07</td>\n",
       "    </tr>\n",
       "    <tr>\n",
       "      <td>68</td>\n",
       "      <td>5.024999e-03</td>\n",
       "    </tr>\n",
       "    <tr>\n",
       "      <td>56</td>\n",
       "      <td>1.560574e-05</td>\n",
       "    </tr>\n",
       "    <tr>\n",
       "      <td>53</td>\n",
       "      <td>3.684015e-06</td>\n",
       "    </tr>\n",
       "    <tr>\n",
       "      <td>31</td>\n",
       "      <td>9.302363e-11</td>\n",
       "    </tr>\n",
       "    <tr>\n",
       "      <td>70</td>\n",
       "      <td>1.315562e-02</td>\n",
       "    </tr>\n",
       "    <tr>\n",
       "      <td>73</td>\n",
       "      <td>5.572809e-02</td>\n",
       "    </tr>\n",
       "    <tr>\n",
       "      <td>21</td>\n",
       "      <td>7.563396e-13</td>\n",
       "    </tr>\n",
       "    <tr>\n",
       "      <td>15</td>\n",
       "      <td>4.214939e-14</td>\n",
       "    </tr>\n",
       "    <tr>\n",
       "      <td>61</td>\n",
       "      <td>1.730703e-04</td>\n",
       "    </tr>\n",
       "    <tr>\n",
       "      <td>36</td>\n",
       "      <td>1.031648e-09</td>\n",
       "    </tr>\n",
       "    <tr>\n",
       "      <td>12</td>\n",
       "      <td>9.950019e-15</td>\n",
       "    </tr>\n",
       "    <tr>\n",
       "      <td>8</td>\n",
       "      <td>1.451044e-15</td>\n",
       "    </tr>\n",
       "    <tr>\n",
       "      <td>37</td>\n",
       "      <td>1.669241e-09</td>\n",
       "    </tr>\n",
       "  </tbody>\n",
       "</table>\n",
       "</div>"
      ],
      "text/plain": [
       "       Fibonacci\n",
       "7   8.982656e-16\n",
       "38  2.700889e-09\n",
       "13  1.609968e-14\n",
       "3   1.381947e-16\n",
       "48  3.321874e-07\n",
       "50  8.696779e-07\n",
       "68  5.024999e-03\n",
       "56  1.560574e-05\n",
       "53  3.684015e-06\n",
       "31  9.302363e-11\n",
       "70  1.315562e-02\n",
       "73  5.572809e-02\n",
       "21  7.563396e-13\n",
       "15  4.214939e-14\n",
       "61  1.730703e-04\n",
       "36  1.031648e-09\n",
       "12  9.950019e-15\n",
       "8   1.451044e-15\n",
       "37  1.669241e-09"
      ]
     },
     "execution_count": 39,
     "metadata": {},
     "output_type": "execute_result"
    }
   ],
   "source": [
    "y_test"
   ]
  },
  {
   "cell_type": "code",
   "execution_count": 40,
   "metadata": {},
   "outputs": [],
   "source": [
    "y_pred_df = pd.DataFrame(y_pred, columns=['Fibonacci'], index=y_test.index)"
   ]
  },
  {
   "cell_type": "code",
   "execution_count": 41,
   "metadata": {},
   "outputs": [
    {
     "data": {
      "text/html": [
       "<div>\n",
       "<style scoped>\n",
       "    .dataframe tbody tr th:only-of-type {\n",
       "        vertical-align: middle;\n",
       "    }\n",
       "\n",
       "    .dataframe tbody tr th {\n",
       "        vertical-align: top;\n",
       "    }\n",
       "\n",
       "    .dataframe thead th {\n",
       "        text-align: right;\n",
       "    }\n",
       "</style>\n",
       "<table border=\"1\" class=\"dataframe\">\n",
       "  <thead>\n",
       "    <tr style=\"text-align: right;\">\n",
       "      <th></th>\n",
       "      <th>Fibonacci</th>\n",
       "    </tr>\n",
       "  </thead>\n",
       "  <tbody>\n",
       "    <tr>\n",
       "      <td>7</td>\n",
       "      <td>0.000047</td>\n",
       "    </tr>\n",
       "    <tr>\n",
       "      <td>38</td>\n",
       "      <td>0.000047</td>\n",
       "    </tr>\n",
       "    <tr>\n",
       "      <td>13</td>\n",
       "      <td>0.000047</td>\n",
       "    </tr>\n",
       "    <tr>\n",
       "      <td>3</td>\n",
       "      <td>0.000047</td>\n",
       "    </tr>\n",
       "    <tr>\n",
       "      <td>48</td>\n",
       "      <td>0.000047</td>\n",
       "    </tr>\n",
       "    <tr>\n",
       "      <td>50</td>\n",
       "      <td>0.000047</td>\n",
       "    </tr>\n",
       "    <tr>\n",
       "      <td>68</td>\n",
       "      <td>0.002750</td>\n",
       "    </tr>\n",
       "    <tr>\n",
       "      <td>56</td>\n",
       "      <td>0.000047</td>\n",
       "    </tr>\n",
       "    <tr>\n",
       "      <td>53</td>\n",
       "      <td>0.000047</td>\n",
       "    </tr>\n",
       "    <tr>\n",
       "      <td>31</td>\n",
       "      <td>0.000047</td>\n",
       "    </tr>\n",
       "    <tr>\n",
       "      <td>70</td>\n",
       "      <td>0.010259</td>\n",
       "    </tr>\n",
       "    <tr>\n",
       "      <td>73</td>\n",
       "      <td>0.037192</td>\n",
       "    </tr>\n",
       "    <tr>\n",
       "      <td>21</td>\n",
       "      <td>0.000047</td>\n",
       "    </tr>\n",
       "    <tr>\n",
       "      <td>15</td>\n",
       "      <td>0.000047</td>\n",
       "    </tr>\n",
       "    <tr>\n",
       "      <td>61</td>\n",
       "      <td>0.000047</td>\n",
       "    </tr>\n",
       "    <tr>\n",
       "      <td>36</td>\n",
       "      <td>0.000047</td>\n",
       "    </tr>\n",
       "    <tr>\n",
       "      <td>12</td>\n",
       "      <td>0.000047</td>\n",
       "    </tr>\n",
       "    <tr>\n",
       "      <td>8</td>\n",
       "      <td>0.000047</td>\n",
       "    </tr>\n",
       "    <tr>\n",
       "      <td>37</td>\n",
       "      <td>0.000047</td>\n",
       "    </tr>\n",
       "  </tbody>\n",
       "</table>\n",
       "</div>"
      ],
      "text/plain": [
       "    Fibonacci\n",
       "7    0.000047\n",
       "38   0.000047\n",
       "13   0.000047\n",
       "3    0.000047\n",
       "48   0.000047\n",
       "50   0.000047\n",
       "68   0.002750\n",
       "56   0.000047\n",
       "53   0.000047\n",
       "31   0.000047\n",
       "70   0.010259\n",
       "73   0.037192\n",
       "21   0.000047\n",
       "15   0.000047\n",
       "61   0.000047\n",
       "36   0.000047\n",
       "12   0.000047\n",
       "8    0.000047\n",
       "37   0.000047"
      ]
     },
     "execution_count": 41,
     "metadata": {},
     "output_type": "execute_result"
    }
   ],
   "source": [
    "y_pred_df"
   ]
  },
  {
   "cell_type": "code",
   "execution_count": 42,
   "metadata": {},
   "outputs": [
    {
     "data": {
      "text/plain": [
       "[<matplotlib.lines.Line2D at 0x1c6f7d992c8>]"
      ]
     },
     "execution_count": 42,
     "metadata": {},
     "output_type": "execute_result"
    },
    {
     "data": {
      "image/png": "[encoded data removed]",
      "text/plain": [
       "<Figure size 432x288 with 1 Axes>"
      ]
     },
     "metadata": {
      "needs_background": "light"
     },
     "output_type": "display_data"
    }
   ],
   "source": [
    "plt.plot(y_test.values)\n",
    "plt.plot(y_pred)"
   ]
  },
  {
   "cell_type": "markdown",
   "metadata": {},
   "source": [
    "# ML is Function Approximation Theory\n",
    "\n",
    "Sometimes **linear**, sometimes **non-linear**, depending on the algorithm!\n",
    "\n",
    "Let's prove this."
   ]
  },
  {
   "cell_type": "code",
   "execution_count": 43,
   "metadata": {},
   "outputs": [
    {
     "data": {
      "text/plain": [
       "<matplotlib.axes._subplots.AxesSubplot at 0x1c6f7ded408>"
      ]
     },
     "execution_count": 43,
     "metadata": {},
     "output_type": "execute_result"
    },
    {
     "data": {
      "image/png": "[encoded data removed]",
      "text/plain": [
       "<Figure size 432x288 with 1 Axes>"
      ]
     },
     "metadata": {
      "needs_background": "light"
     },
     "output_type": "display_data"
    }
   ],
   "source": [
    "import numpy as np\n",
    "import pandas as pd\n",
    "x = np.random.uniform(low=0.5, high=20, size=(1000,))\n",
    "y = np.random.uniform(low=0.5, high=20, size=(1000,))\n",
    "df = pd.DataFrame({'x':x, 'y':y})\n",
    "df.plot('x', 'y', kind='scatter')"
   ]
  },
  {
   "cell_type": "code",
   "execution_count": 44,
   "metadata": {},
   "outputs": [
    {
     "data": {
      "text/html": [
       "<div>\n",
       "<style scoped>\n",
       "    .dataframe tbody tr th:only-of-type {\n",
       "        vertical-align: middle;\n",
       "    }\n",
       "\n",
       "    .dataframe tbody tr th {\n",
       "        vertical-align: top;\n",
       "    }\n",
       "\n",
       "    .dataframe thead th {\n",
       "        text-align: right;\n",
       "    }\n",
       "</style>\n",
       "<table border=\"1\" class=\"dataframe\">\n",
       "  <thead>\n",
       "    <tr style=\"text-align: right;\">\n",
       "      <th></th>\n",
       "      <th>x</th>\n",
       "      <th>y</th>\n",
       "    </tr>\n",
       "  </thead>\n",
       "  <tbody>\n",
       "    <tr>\n",
       "      <td>0</td>\n",
       "      <td>16.010807</td>\n",
       "      <td>11.505606</td>\n",
       "    </tr>\n",
       "    <tr>\n",
       "      <td>1</td>\n",
       "      <td>8.050832</td>\n",
       "      <td>9.477142</td>\n",
       "    </tr>\n",
       "    <tr>\n",
       "      <td>2</td>\n",
       "      <td>15.212219</td>\n",
       "      <td>2.632143</td>\n",
       "    </tr>\n",
       "    <tr>\n",
       "      <td>3</td>\n",
       "      <td>11.577329</td>\n",
       "      <td>9.375987</td>\n",
       "    </tr>\n",
       "    <tr>\n",
       "      <td>4</td>\n",
       "      <td>19.623480</td>\n",
       "      <td>8.890712</td>\n",
       "    </tr>\n",
       "  </tbody>\n",
       "</table>\n",
       "</div>"
      ],
      "text/plain": [
       "           x          y\n",
       "0  16.010807  11.505606\n",
       "1   8.050832   9.477142\n",
       "2  15.212219   2.632143\n",
       "3  11.577329   9.375987\n",
       "4  19.623480   8.890712"
      ]
     },
     "execution_count": 44,
     "metadata": {},
     "output_type": "execute_result"
    }
   ],
   "source": [
    "df.head()"
   ]
  },
  {
   "cell_type": "code",
   "execution_count": 45,
   "metadata": {},
   "outputs": [
    {
     "data": {
      "text/html": [
       "<div>\n",
       "<style scoped>\n",
       "    .dataframe tbody tr th:only-of-type {\n",
       "        vertical-align: middle;\n",
       "    }\n",
       "\n",
       "    .dataframe tbody tr th {\n",
       "        vertical-align: top;\n",
       "    }\n",
       "\n",
       "    .dataframe thead th {\n",
       "        text-align: right;\n",
       "    }\n",
       "</style>\n",
       "<table border=\"1\" class=\"dataframe\">\n",
       "  <thead>\n",
       "    <tr style=\"text-align: right;\">\n",
       "      <th></th>\n",
       "      <th>x</th>\n",
       "      <th>y</th>\n",
       "      <th>z</th>\n",
       "    </tr>\n",
       "  </thead>\n",
       "  <tbody>\n",
       "    <tr>\n",
       "      <td>0</td>\n",
       "      <td>16.010807</td>\n",
       "      <td>11.505606</td>\n",
       "      <td>82.355155</td>\n",
       "    </tr>\n",
       "    <tr>\n",
       "      <td>1</td>\n",
       "      <td>8.050832</td>\n",
       "      <td>9.477142</td>\n",
       "      <td>42.149588</td>\n",
       "    </tr>\n",
       "    <tr>\n",
       "      <td>2</td>\n",
       "      <td>15.212219</td>\n",
       "      <td>2.632143</td>\n",
       "      <td>76.587525</td>\n",
       "    </tr>\n",
       "    <tr>\n",
       "      <td>3</td>\n",
       "      <td>11.577329</td>\n",
       "      <td>9.375987</td>\n",
       "      <td>59.761841</td>\n",
       "    </tr>\n",
       "    <tr>\n",
       "      <td>4</td>\n",
       "      <td>19.623480</td>\n",
       "      <td>8.890712</td>\n",
       "      <td>99.895541</td>\n",
       "    </tr>\n",
       "  </tbody>\n",
       "</table>\n",
       "</div>"
      ],
      "text/plain": [
       "           x          y          z\n",
       "0  16.010807  11.505606  82.355155\n",
       "1   8.050832   9.477142  42.149588\n",
       "2  15.212219   2.632143  76.587525\n",
       "3  11.577329   9.375987  59.761841\n",
       "4  19.623480   8.890712  99.895541"
      ]
     },
     "execution_count": 45,
     "metadata": {},
     "output_type": "execute_result"
    }
   ],
   "source": [
    "df['z'] = 5.* df['x'] + 0.2 * df['y']\n",
    "df.head()"
   ]
  },
  {
   "cell_type": "code",
   "execution_count": 46,
   "metadata": {},
   "outputs": [
    {
     "data": {
      "image/png": "[encoded data removed]",
      "text/plain": [
       "<Figure size 432x288 with 1 Axes>"
      ]
     },
     "metadata": {
      "needs_background": "light"
     },
     "output_type": "display_data"
    }
   ],
   "source": [
    "import matplotlib.pyplot as plt\n",
    "from mpl_toolkits.mplot3d import Axes3D\n",
    "\n",
    "threedee = plt.figure().gca(projection='3d')\n",
    "threedee.scatter(df['x'], df['y'], df['z'])\n",
    "threedee.set_xlabel('x')\n",
    "threedee.set_ylabel('y')\n",
    "threedee.set_zlabel('z')\n",
    "plt.show()"
   ]
  },
  {
   "cell_type": "code",
   "execution_count": 47,
   "metadata": {},
   "outputs": [],
   "source": [
    "X = df.dropna().drop('z', axis=1)\n",
    "y = df.dropna().drop(['x', 'y'], axis=1)"
   ]
  },
  {
   "cell_type": "code",
   "execution_count": 48,
   "metadata": {},
   "outputs": [
    {
     "data": {
      "text/html": [
       "<div>\n",
       "<style scoped>\n",
       "    .dataframe tbody tr th:only-of-type {\n",
       "        vertical-align: middle;\n",
       "    }\n",
       "\n",
       "    .dataframe tbody tr th {\n",
       "        vertical-align: top;\n",
       "    }\n",
       "\n",
       "    .dataframe thead th {\n",
       "        text-align: right;\n",
       "    }\n",
       "</style>\n",
       "<table border=\"1\" class=\"dataframe\">\n",
       "  <thead>\n",
       "    <tr style=\"text-align: right;\">\n",
       "      <th></th>\n",
       "      <th>x</th>\n",
       "      <th>y</th>\n",
       "    </tr>\n",
       "  </thead>\n",
       "  <tbody>\n",
       "    <tr>\n",
       "      <td>0</td>\n",
       "      <td>16.010807</td>\n",
       "      <td>11.505606</td>\n",
       "    </tr>\n",
       "    <tr>\n",
       "      <td>1</td>\n",
       "      <td>8.050832</td>\n",
       "      <td>9.477142</td>\n",
       "    </tr>\n",
       "    <tr>\n",
       "      <td>2</td>\n",
       "      <td>15.212219</td>\n",
       "      <td>2.632143</td>\n",
       "    </tr>\n",
       "    <tr>\n",
       "      <td>3</td>\n",
       "      <td>11.577329</td>\n",
       "      <td>9.375987</td>\n",
       "    </tr>\n",
       "    <tr>\n",
       "      <td>4</td>\n",
       "      <td>19.623480</td>\n",
       "      <td>8.890712</td>\n",
       "    </tr>\n",
       "    <tr>\n",
       "      <td>...</td>\n",
       "      <td>...</td>\n",
       "      <td>...</td>\n",
       "    </tr>\n",
       "    <tr>\n",
       "      <td>995</td>\n",
       "      <td>5.449939</td>\n",
       "      <td>9.185841</td>\n",
       "    </tr>\n",
       "    <tr>\n",
       "      <td>996</td>\n",
       "      <td>16.325151</td>\n",
       "      <td>5.526079</td>\n",
       "    </tr>\n",
       "    <tr>\n",
       "      <td>997</td>\n",
       "      <td>11.154802</td>\n",
       "      <td>3.752183</td>\n",
       "    </tr>\n",
       "    <tr>\n",
       "      <td>998</td>\n",
       "      <td>7.561579</td>\n",
       "      <td>1.106698</td>\n",
       "    </tr>\n",
       "    <tr>\n",
       "      <td>999</td>\n",
       "      <td>11.796774</td>\n",
       "      <td>13.325988</td>\n",
       "    </tr>\n",
       "  </tbody>\n",
       "</table>\n",
       "<p>1000 rows × 2 columns</p>\n",
       "</div>"
      ],
      "text/plain": [
       "             x          y\n",
       "0    16.010807  11.505606\n",
       "1     8.050832   9.477142\n",
       "2    15.212219   2.632143\n",
       "3    11.577329   9.375987\n",
       "4    19.623480   8.890712\n",
       "..         ...        ...\n",
       "995   5.449939   9.185841\n",
       "996  16.325151   5.526079\n",
       "997  11.154802   3.752183\n",
       "998   7.561579   1.106698\n",
       "999  11.796774  13.325988\n",
       "\n",
       "[1000 rows x 2 columns]"
      ]
     },
     "execution_count": 48,
     "metadata": {},
     "output_type": "execute_result"
    }
   ],
   "source": [
    "X"
   ]
  },
  {
   "cell_type": "code",
   "execution_count": 49,
   "metadata": {},
   "outputs": [
    {
     "data": {
      "text/html": [
       "<div>\n",
       "<style scoped>\n",
       "    .dataframe tbody tr th:only-of-type {\n",
       "        vertical-align: middle;\n",
       "    }\n",
       "\n",
       "    .dataframe tbody tr th {\n",
       "        vertical-align: top;\n",
       "    }\n",
       "\n",
       "    .dataframe thead th {\n",
       "        text-align: right;\n",
       "    }\n",
       "</style>\n",
       "<table border=\"1\" class=\"dataframe\">\n",
       "  <thead>\n",
       "    <tr style=\"text-align: right;\">\n",
       "      <th></th>\n",
       "      <th>z</th>\n",
       "    </tr>\n",
       "  </thead>\n",
       "  <tbody>\n",
       "    <tr>\n",
       "      <td>0</td>\n",
       "      <td>82.355155</td>\n",
       "    </tr>\n",
       "    <tr>\n",
       "      <td>1</td>\n",
       "      <td>42.149588</td>\n",
       "    </tr>\n",
       "    <tr>\n",
       "      <td>2</td>\n",
       "      <td>76.587525</td>\n",
       "    </tr>\n",
       "    <tr>\n",
       "      <td>3</td>\n",
       "      <td>59.761841</td>\n",
       "    </tr>\n",
       "    <tr>\n",
       "      <td>4</td>\n",
       "      <td>99.895541</td>\n",
       "    </tr>\n",
       "    <tr>\n",
       "      <td>...</td>\n",
       "      <td>...</td>\n",
       "    </tr>\n",
       "    <tr>\n",
       "      <td>995</td>\n",
       "      <td>29.086864</td>\n",
       "    </tr>\n",
       "    <tr>\n",
       "      <td>996</td>\n",
       "      <td>82.730969</td>\n",
       "    </tr>\n",
       "    <tr>\n",
       "      <td>997</td>\n",
       "      <td>56.524448</td>\n",
       "    </tr>\n",
       "    <tr>\n",
       "      <td>998</td>\n",
       "      <td>38.029233</td>\n",
       "    </tr>\n",
       "    <tr>\n",
       "      <td>999</td>\n",
       "      <td>61.649066</td>\n",
       "    </tr>\n",
       "  </tbody>\n",
       "</table>\n",
       "<p>1000 rows × 1 columns</p>\n",
       "</div>"
      ],
      "text/plain": [
       "             z\n",
       "0    82.355155\n",
       "1    42.149588\n",
       "2    76.587525\n",
       "3    59.761841\n",
       "4    99.895541\n",
       "..         ...\n",
       "995  29.086864\n",
       "996  82.730969\n",
       "997  56.524448\n",
       "998  38.029233\n",
       "999  61.649066\n",
       "\n",
       "[1000 rows x 1 columns]"
      ]
     },
     "execution_count": 49,
     "metadata": {},
     "output_type": "execute_result"
    }
   ],
   "source": [
    "y"
   ]
  },
  {
   "cell_type": "code",
   "execution_count": 50,
   "metadata": {},
   "outputs": [],
   "source": [
    "from sklearn.model_selection import train_test_split\n",
    "X_train, X_test, y_train, y_test = train_test_split(X, y, random_state=42)"
   ]
  },
  {
   "cell_type": "code",
   "execution_count": 51,
   "metadata": {},
   "outputs": [
    {
     "name": "stderr",
     "output_type": "stream",
     "text": [
      "C:\\Users\\Utkarsh\\Anaconda3\\lib\\site-packages\\sklearn\\ensemble\\forest.py:245: FutureWarning: The default value of n_estimators will change from 10 in version 0.20 to 100 in 0.22.\n",
      "  \"10 in version 0.20 to 100 in 0.22.\", FutureWarning)\n",
      "C:\\Users\\Utkarsh\\Anaconda3\\lib\\site-packages\\ipykernel_launcher.py:8: DataConversionWarning: A column-vector y was passed when a 1d array was expected. Please change the shape of y to (n_samples,), for example using ravel().\n",
      "  \n"
     ]
    },
    {
     "data": {
      "text/plain": [
       "0.9996131970437527"
      ]
     },
     "execution_count": 51,
     "metadata": {},
     "output_type": "execute_result"
    }
   ],
   "source": [
    "from sklearn.ensemble import RandomForestRegressor\n",
    "from sklearn import metrics\n",
    "\n",
    "# Create a model \n",
    "rf_model = RandomForestRegressor()\n",
    "\n",
    "# Train the model\n",
    "rf_model.fit(X_train, y_train)\n",
    "\n",
    "# Get R2 measure (indicator of accuracy 1 is perfect, 0 is horrible)\n",
    "rf_model.score(X_test, y_test)"
   ]
  },
  {
   "cell_type": "code",
   "execution_count": 52,
   "metadata": {},
   "outputs": [],
   "source": [
    "y_pred = rf_model.predict(X_test)"
   ]
  },
  {
   "cell_type": "code",
   "execution_count": 53,
   "metadata": {},
   "outputs": [
    {
     "data": {
      "text/plain": [
       "(250,)"
      ]
     },
     "execution_count": 53,
     "metadata": {},
     "output_type": "execute_result"
    }
   ],
   "source": [
    "y_pred.shape"
   ]
  },
  {
   "cell_type": "code",
   "execution_count": 54,
   "metadata": {},
   "outputs": [
    {
     "data": {
      "text/plain": [
       "(250, 1)"
      ]
     },
     "execution_count": 54,
     "metadata": {},
     "output_type": "execute_result"
    }
   ],
   "source": [
    "y_test.shape"
   ]
  },
  {
   "cell_type": "code",
   "execution_count": 55,
   "metadata": {},
   "outputs": [
    {
     "data": {
      "text/plain": [
       "<matplotlib.axes._subplots.AxesSubplot at 0x1c6f7942508>"
      ]
     },
     "execution_count": 55,
     "metadata": {},
     "output_type": "execute_result"
    },
    {
     "data": {
      "image/png": "[encoded data removed]",
      "text/plain": [
       "<Figure size 432x288 with 1 Axes>"
      ]
     },
     "metadata": {
      "needs_background": "light"
     },
     "output_type": "display_data"
    }
   ],
   "source": [
    "dfv = pd.DataFrame({'y_test':np.squeeze(y_test).values, 'y_pred':y_pred})\n",
    "dfv.plot('y_test', 'y_pred', kind='scatter')"
   ]
  },
  {
   "cell_type": "markdown",
   "metadata": {},
   "source": [
    "Convinced?\n",
    "\n",
    "Now let's try something (mildly) non-linear!"
   ]
  },
  {
   "cell_type": "code",
   "execution_count": 56,
   "metadata": {},
   "outputs": [
    {
     "data": {
      "text/html": [
       "<div>\n",
       "<style scoped>\n",
       "    .dataframe tbody tr th:only-of-type {\n",
       "        vertical-align: middle;\n",
       "    }\n",
       "\n",
       "    .dataframe tbody tr th {\n",
       "        vertical-align: top;\n",
       "    }\n",
       "\n",
       "    .dataframe thead th {\n",
       "        text-align: right;\n",
       "    }\n",
       "</style>\n",
       "<table border=\"1\" class=\"dataframe\">\n",
       "  <thead>\n",
       "    <tr style=\"text-align: right;\">\n",
       "      <th></th>\n",
       "      <th>x</th>\n",
       "      <th>y</th>\n",
       "      <th>z</th>\n",
       "    </tr>\n",
       "  </thead>\n",
       "  <tbody>\n",
       "    <tr>\n",
       "      <td>0</td>\n",
       "      <td>16.010807</td>\n",
       "      <td>11.505606</td>\n",
       "      <td>1586.349734</td>\n",
       "    </tr>\n",
       "    <tr>\n",
       "      <td>1</td>\n",
       "      <td>8.050832</td>\n",
       "      <td>9.477142</td>\n",
       "      <td>494.319696</td>\n",
       "    </tr>\n",
       "    <tr>\n",
       "      <td>2</td>\n",
       "      <td>15.212219</td>\n",
       "      <td>2.632143</td>\n",
       "      <td>1160.705276</td>\n",
       "    </tr>\n",
       "    <tr>\n",
       "      <td>3</td>\n",
       "      <td>11.577329</td>\n",
       "      <td>9.375987</td>\n",
       "      <td>835.019686</td>\n",
       "    </tr>\n",
       "    <tr>\n",
       "      <td>4</td>\n",
       "      <td>19.623480</td>\n",
       "      <td>8.890712</td>\n",
       "      <td>2065.957600</td>\n",
       "    </tr>\n",
       "  </tbody>\n",
       "</table>\n",
       "</div>"
      ],
      "text/plain": [
       "           x          y            z\n",
       "0  16.010807  11.505606  1586.349734\n",
       "1   8.050832   9.477142   494.319696\n",
       "2  15.212219   2.632143  1160.705276\n",
       "3  11.577329   9.375987   835.019686\n",
       "4  19.623480   8.890712  2065.957600"
      ]
     },
     "execution_count": 56,
     "metadata": {},
     "output_type": "execute_result"
    }
   ],
   "source": [
    "df['z'] = 5.* df['x']**2 + 0.2 * df['y']**3 \n",
    "df.head()"
   ]
  },
  {
   "cell_type": "code",
   "execution_count": 57,
   "metadata": {},
   "outputs": [
    {
     "data": {
      "image/png": "[encoded data removed]",
      "text/plain": [
       "<Figure size 432x288 with 1 Axes>"
      ]
     },
     "metadata": {
      "needs_background": "light"
     },
     "output_type": "display_data"
    }
   ],
   "source": [
    "threedee = plt.figure().gca(projection='3d')\n",
    "threedee.scatter(df['x'], df['y'], df['z'])\n",
    "threedee.set_xlabel('x')\n",
    "threedee.set_ylabel('y')\n",
    "threedee.set_zlabel('z')\n",
    "plt.show()"
   ]
  },
  {
   "cell_type": "code",
   "execution_count": 58,
   "metadata": {},
   "outputs": [],
   "source": [
    "X = df.dropna().drop('z', axis=1)\n",
    "y = df.dropna().drop(['x', 'y'], axis=1)"
   ]
  },
  {
   "cell_type": "code",
   "execution_count": 59,
   "metadata": {},
   "outputs": [
    {
     "data": {
      "text/html": [
       "<div>\n",
       "<style scoped>\n",
       "    .dataframe tbody tr th:only-of-type {\n",
       "        vertical-align: middle;\n",
       "    }\n",
       "\n",
       "    .dataframe tbody tr th {\n",
       "        vertical-align: top;\n",
       "    }\n",
       "\n",
       "    .dataframe thead th {\n",
       "        text-align: right;\n",
       "    }\n",
       "</style>\n",
       "<table border=\"1\" class=\"dataframe\">\n",
       "  <thead>\n",
       "    <tr style=\"text-align: right;\">\n",
       "      <th></th>\n",
       "      <th>x</th>\n",
       "      <th>y</th>\n",
       "    </tr>\n",
       "  </thead>\n",
       "  <tbody>\n",
       "    <tr>\n",
       "      <td>0</td>\n",
       "      <td>16.010807</td>\n",
       "      <td>11.505606</td>\n",
       "    </tr>\n",
       "    <tr>\n",
       "      <td>1</td>\n",
       "      <td>8.050832</td>\n",
       "      <td>9.477142</td>\n",
       "    </tr>\n",
       "    <tr>\n",
       "      <td>2</td>\n",
       "      <td>15.212219</td>\n",
       "      <td>2.632143</td>\n",
       "    </tr>\n",
       "    <tr>\n",
       "      <td>3</td>\n",
       "      <td>11.577329</td>\n",
       "      <td>9.375987</td>\n",
       "    </tr>\n",
       "    <tr>\n",
       "      <td>4</td>\n",
       "      <td>19.623480</td>\n",
       "      <td>8.890712</td>\n",
       "    </tr>\n",
       "    <tr>\n",
       "      <td>...</td>\n",
       "      <td>...</td>\n",
       "      <td>...</td>\n",
       "    </tr>\n",
       "    <tr>\n",
       "      <td>995</td>\n",
       "      <td>5.449939</td>\n",
       "      <td>9.185841</td>\n",
       "    </tr>\n",
       "    <tr>\n",
       "      <td>996</td>\n",
       "      <td>16.325151</td>\n",
       "      <td>5.526079</td>\n",
       "    </tr>\n",
       "    <tr>\n",
       "      <td>997</td>\n",
       "      <td>11.154802</td>\n",
       "      <td>3.752183</td>\n",
       "    </tr>\n",
       "    <tr>\n",
       "      <td>998</td>\n",
       "      <td>7.561579</td>\n",
       "      <td>1.106698</td>\n",
       "    </tr>\n",
       "    <tr>\n",
       "      <td>999</td>\n",
       "      <td>11.796774</td>\n",
       "      <td>13.325988</td>\n",
       "    </tr>\n",
       "  </tbody>\n",
       "</table>\n",
       "<p>1000 rows × 2 columns</p>\n",
       "</div>"
      ],
      "text/plain": [
       "             x          y\n",
       "0    16.010807  11.505606\n",
       "1     8.050832   9.477142\n",
       "2    15.212219   2.632143\n",
       "3    11.577329   9.375987\n",
       "4    19.623480   8.890712\n",
       "..         ...        ...\n",
       "995   5.449939   9.185841\n",
       "996  16.325151   5.526079\n",
       "997  11.154802   3.752183\n",
       "998   7.561579   1.106698\n",
       "999  11.796774  13.325988\n",
       "\n",
       "[1000 rows x 2 columns]"
      ]
     },
     "execution_count": 59,
     "metadata": {},
     "output_type": "execute_result"
    }
   ],
   "source": [
    "X"
   ]
  },
  {
   "cell_type": "code",
   "execution_count": 60,
   "metadata": {},
   "outputs": [
    {
     "data": {
      "text/html": [
       "<div>\n",
       "<style scoped>\n",
       "    .dataframe tbody tr th:only-of-type {\n",
       "        vertical-align: middle;\n",
       "    }\n",
       "\n",
       "    .dataframe tbody tr th {\n",
       "        vertical-align: top;\n",
       "    }\n",
       "\n",
       "    .dataframe thead th {\n",
       "        text-align: right;\n",
       "    }\n",
       "</style>\n",
       "<table border=\"1\" class=\"dataframe\">\n",
       "  <thead>\n",
       "    <tr style=\"text-align: right;\">\n",
       "      <th></th>\n",
       "      <th>z</th>\n",
       "    </tr>\n",
       "  </thead>\n",
       "  <tbody>\n",
       "    <tr>\n",
       "      <td>0</td>\n",
       "      <td>1586.349734</td>\n",
       "    </tr>\n",
       "    <tr>\n",
       "      <td>1</td>\n",
       "      <td>494.319696</td>\n",
       "    </tr>\n",
       "    <tr>\n",
       "      <td>2</td>\n",
       "      <td>1160.705276</td>\n",
       "    </tr>\n",
       "    <tr>\n",
       "      <td>3</td>\n",
       "      <td>835.019686</td>\n",
       "    </tr>\n",
       "    <tr>\n",
       "      <td>4</td>\n",
       "      <td>2065.957600</td>\n",
       "    </tr>\n",
       "    <tr>\n",
       "      <td>...</td>\n",
       "      <td>...</td>\n",
       "    </tr>\n",
       "    <tr>\n",
       "      <td>995</td>\n",
       "      <td>303.528824</td>\n",
       "    </tr>\n",
       "    <tr>\n",
       "      <td>996</td>\n",
       "      <td>1366.303310</td>\n",
       "    </tr>\n",
       "    <tr>\n",
       "      <td>997</td>\n",
       "      <td>632.713379</td>\n",
       "    </tr>\n",
       "    <tr>\n",
       "      <td>998</td>\n",
       "      <td>286.158457</td>\n",
       "    </tr>\n",
       "    <tr>\n",
       "      <td>999</td>\n",
       "      <td>1169.110331</td>\n",
       "    </tr>\n",
       "  </tbody>\n",
       "</table>\n",
       "<p>1000 rows × 1 columns</p>\n",
       "</div>"
      ],
      "text/plain": [
       "               z\n",
       "0    1586.349734\n",
       "1     494.319696\n",
       "2    1160.705276\n",
       "3     835.019686\n",
       "4    2065.957600\n",
       "..           ...\n",
       "995   303.528824\n",
       "996  1366.303310\n",
       "997   632.713379\n",
       "998   286.158457\n",
       "999  1169.110331\n",
       "\n",
       "[1000 rows x 1 columns]"
      ]
     },
     "execution_count": 60,
     "metadata": {},
     "output_type": "execute_result"
    }
   ],
   "source": [
    "y"
   ]
  },
  {
   "cell_type": "code",
   "execution_count": 61,
   "metadata": {},
   "outputs": [],
   "source": [
    "from sklearn.model_selection import train_test_split\n",
    "X_train, X_test, y_train, y_test = train_test_split(X, y, random_state=42)"
   ]
  },
  {
   "cell_type": "code",
   "execution_count": 62,
   "metadata": {},
   "outputs": [
    {
     "name": "stderr",
     "output_type": "stream",
     "text": [
      "C:\\Users\\Utkarsh\\Anaconda3\\lib\\site-packages\\sklearn\\ensemble\\forest.py:245: FutureWarning: The default value of n_estimators will change from 10 in version 0.20 to 100 in 0.22.\n",
      "  \"10 in version 0.20 to 100 in 0.22.\", FutureWarning)\n",
      "C:\\Users\\Utkarsh\\Anaconda3\\lib\\site-packages\\ipykernel_launcher.py:8: DataConversionWarning: A column-vector y was passed when a 1d array was expected. Please change the shape of y to (n_samples,), for example using ravel().\n",
      "  \n"
     ]
    },
    {
     "data": {
      "text/plain": [
       "0.9960629065971434"
      ]
     },
     "execution_count": 62,
     "metadata": {},
     "output_type": "execute_result"
    }
   ],
   "source": [
    "from sklearn.ensemble import RandomForestRegressor\n",
    "from sklearn import metrics\n",
    "\n",
    "# Create a model \n",
    "rf_model = RandomForestRegressor()\n",
    "\n",
    "# Train the model\n",
    "rf_model.fit(X_train, y_train)\n",
    "\n",
    "# Get R2 measure (indicator of accuracy 1 is perfect, 0 is horrible)\n",
    "rf_model.score(X_test, y_test)"
   ]
  },
  {
   "cell_type": "code",
   "execution_count": 63,
   "metadata": {},
   "outputs": [
    {
     "data": {
      "text/plain": [
       "<matplotlib.axes._subplots.AxesSubplot at 0x1c6f7e72b88>"
      ]
     },
     "execution_count": 63,
     "metadata": {},
     "output_type": "execute_result"
    },
    {
     "data": {
      "image/png": "[encoded data removed]",
      "text/plain": [
       "<Figure size 432x288 with 1 Axes>"
      ]
     },
     "metadata": {
      "needs_background": "light"
     },
     "output_type": "display_data"
    }
   ],
   "source": [
    "y_pred = rf_model.predict(X_test)\n",
    "dfv = pd.DataFrame({'y_test':np.squeeze(y_test).values, 'y_pred':y_pred})\n",
    "dfv.plot('y_test', 'y_pred', kind='scatter')"
   ]
  },
  {
   "cell_type": "markdown",
   "metadata": {},
   "source": [
    "Now let's try something *highly* non-linear!"
   ]
  },
  {
   "cell_type": "code",
   "execution_count": 64,
   "metadata": {},
   "outputs": [
    {
     "data": {
      "text/plain": [
       "<matplotlib.axes._subplots.AxesSubplot at 0x1c6f7ee4848>"
      ]
     },
     "execution_count": 64,
     "metadata": {},
     "output_type": "execute_result"
    },
    {
     "data": {
      "image/png": "[encoded data removed]",
      "text/plain": [
       "<Figure size 432x288 with 1 Axes>"
      ]
     },
     "metadata": {
      "needs_background": "light"
     },
     "output_type": "display_data"
    }
   ],
   "source": [
    "#x = np.linspace(-10,10,1000)\n",
    "#y = np.linspace(-10,10,1000)\n",
    "x = np.random.uniform(low=-10, high=10, size=(1000,))\n",
    "y = np.random.uniform(low=-10, high=10, size=(1000,))\n",
    "df = pd.DataFrame({'x':x, 'y':y})\n",
    "df.plot('x', 'y', kind='scatter')"
   ]
  },
  {
   "cell_type": "code",
   "execution_count": 65,
   "metadata": {},
   "outputs": [
    {
     "data": {
      "text/html": [
       "<div>\n",
       "<style scoped>\n",
       "    .dataframe tbody tr th:only-of-type {\n",
       "        vertical-align: middle;\n",
       "    }\n",
       "\n",
       "    .dataframe tbody tr th {\n",
       "        vertical-align: top;\n",
       "    }\n",
       "\n",
       "    .dataframe thead th {\n",
       "        text-align: right;\n",
       "    }\n",
       "</style>\n",
       "<table border=\"1\" class=\"dataframe\">\n",
       "  <thead>\n",
       "    <tr style=\"text-align: right;\">\n",
       "      <th></th>\n",
       "      <th>x</th>\n",
       "      <th>y</th>\n",
       "      <th>z</th>\n",
       "    </tr>\n",
       "  </thead>\n",
       "  <tbody>\n",
       "    <tr>\n",
       "      <td>0</td>\n",
       "      <td>-5.075791</td>\n",
       "      <td>-4.922318</td>\n",
       "      <td>104.965512</td>\n",
       "    </tr>\n",
       "    <tr>\n",
       "      <td>1</td>\n",
       "      <td>-9.571041</td>\n",
       "      <td>9.614444</td>\n",
       "      <td>635.771222</td>\n",
       "    </tr>\n",
       "    <tr>\n",
       "      <td>2</td>\n",
       "      <td>6.312828</td>\n",
       "      <td>-2.149062</td>\n",
       "      <td>197.273896</td>\n",
       "    </tr>\n",
       "    <tr>\n",
       "      <td>3</td>\n",
       "      <td>9.051945</td>\n",
       "      <td>-8.855345</td>\n",
       "      <td>270.806425</td>\n",
       "    </tr>\n",
       "    <tr>\n",
       "      <td>4</td>\n",
       "      <td>8.614668</td>\n",
       "      <td>4.665907</td>\n",
       "      <td>391.378504</td>\n",
       "    </tr>\n",
       "  </tbody>\n",
       "</table>\n",
       "</div>"
      ],
      "text/plain": [
       "          x         y           z\n",
       "0 -5.075791 -4.922318  104.965512\n",
       "1 -9.571041  9.614444  635.771222\n",
       "2  6.312828 -2.149062  197.273896\n",
       "3  9.051945 -8.855345  270.806425\n",
       "4  8.614668  4.665907  391.378504"
      ]
     },
     "execution_count": 65,
     "metadata": {},
     "output_type": "execute_result"
    }
   ],
   "source": [
    "df['z'] = 5.* df['x']**2 + 0.2 * df['y']**3 \n",
    "df.head()"
   ]
  },
  {
   "cell_type": "code",
   "execution_count": 66,
   "metadata": {},
   "outputs": [
    {
     "data": {
      "image/png": "[encoded data removed]",
      "text/plain": [
       "<Figure size 432x288 with 1 Axes>"
      ]
     },
     "metadata": {
      "needs_background": "light"
     },
     "output_type": "display_data"
    }
   ],
   "source": [
    "threedee = plt.figure().gca(projection='3d')\n",
    "threedee.scatter(df['x'], df['y'], df['z'])\n",
    "threedee.set_xlabel('x')\n",
    "threedee.set_ylabel('y')\n",
    "threedee.set_zlabel('z')\n",
    "plt.show()"
   ]
  },
  {
   "cell_type": "code",
   "execution_count": 67,
   "metadata": {},
   "outputs": [],
   "source": [
    "X = df.dropna().drop('z', axis=1)\n",
    "y = df.dropna().drop(['x', 'y'], axis=1)"
   ]
  },
  {
   "cell_type": "code",
   "execution_count": 68,
   "metadata": {},
   "outputs": [],
   "source": [
    "from sklearn.model_selection import train_test_split\n",
    "X_train, X_test, y_train, y_test = train_test_split(X, y, random_state=42)"
   ]
  },
  {
   "cell_type": "code",
   "execution_count": 69,
   "metadata": {},
   "outputs": [
    {
     "name": "stderr",
     "output_type": "stream",
     "text": [
      "C:\\Users\\Utkarsh\\Anaconda3\\lib\\site-packages\\sklearn\\ensemble\\forest.py:245: FutureWarning: The default value of n_estimators will change from 10 in version 0.20 to 100 in 0.22.\n",
      "  \"10 in version 0.20 to 100 in 0.22.\", FutureWarning)\n",
      "C:\\Users\\Utkarsh\\Anaconda3\\lib\\site-packages\\ipykernel_launcher.py:8: DataConversionWarning: A column-vector y was passed when a 1d array was expected. Please change the shape of y to (n_samples,), for example using ravel().\n",
      "  \n"
     ]
    },
    {
     "data": {
      "text/plain": [
       "0.9934489550519344"
      ]
     },
     "execution_count": 69,
     "metadata": {},
     "output_type": "execute_result"
    }
   ],
   "source": [
    "from sklearn.ensemble import RandomForestRegressor\n",
    "from sklearn import metrics\n",
    "\n",
    "# Create a model \n",
    "rf_model = RandomForestRegressor()\n",
    "\n",
    "# Train the model\n",
    "rf_model.fit(X_train, y_train)\n",
    "\n",
    "# Get R2 measure (indicator of accuracy 1 is perfect, 0 is horrible)\n",
    "rf_model.score(X_test, y_test)"
   ]
  },
  {
   "cell_type": "code",
   "execution_count": null,
   "metadata": {},
   "outputs": [],
   "source": [
    "y_pred = rf_model.predict(X_test)\n",
    "dfv = pd.DataFrame({'y_test':np.squeeze(y_test).values, 'y_pred':y_pred})\n",
    "dfv.plot('y_test', 'y_pred', kind='scatter')"
   ]
  },
  {
   "cell_type": "markdown",
   "metadata": {},
   "source": [
    "Still good!\n",
    "\n",
    "So regression forests (decision trees) pick up on **non-linear** relationships, too!\n",
    "\n",
    "Or do they?"
   ]
  },
  {
   "cell_type": "markdown",
   "metadata": {},
   "source": [
    "# A different split\n",
    "\n",
    "What if we do not use `sklearn`'s train/test split, and instead use our own to predict **intervals** instead of isolated datapoints (e.g. the *future* from the *past*)?"
   ]
  },
  {
   "cell_type": "code",
   "execution_count": 113,
   "metadata": {},
   "outputs": [
    {
     "data": {
      "text/plain": [
       "<matplotlib.axes._subplots.AxesSubplot at 0x1c6f7a031c8>"
      ]
     },
     "execution_count": 113,
     "metadata": {},
     "output_type": "execute_result"
    },
    {
     "data": {
      "image/png": "[encoded data removed]",
      "text/plain": [
       "<Figure size 432x288 with 1 Axes>"
      ]
     },
     "metadata": {
      "needs_background": "light"
     },
     "output_type": "display_data"
    }
   ],
   "source": [
    "import numpy as np\n",
    "import pandas as pd\n",
    "\n",
    "x = np.random.uniform(low=-10, high=10, size=(10000,))\n",
    "y = np.random.uniform(low=-10, high=10, size=(10000,))\n",
    "df = pd.DataFrame({'x':x, 'y':y})\n",
    "df.plot('x', 'y', kind='scatter')"
   ]
  },
  {
   "cell_type": "code",
   "execution_count": 114,
   "metadata": {},
   "outputs": [
    {
     "data": {
      "text/html": [
       "<div>\n",
       "<style scoped>\n",
       "    .dataframe tbody tr th:only-of-type {\n",
       "        vertical-align: middle;\n",
       "    }\n",
       "\n",
       "    .dataframe tbody tr th {\n",
       "        vertical-align: top;\n",
       "    }\n",
       "\n",
       "    .dataframe thead th {\n",
       "        text-align: right;\n",
       "    }\n",
       "</style>\n",
       "<table border=\"1\" class=\"dataframe\">\n",
       "  <thead>\n",
       "    <tr style=\"text-align: right;\">\n",
       "      <th></th>\n",
       "      <th>x</th>\n",
       "      <th>y</th>\n",
       "      <th>z</th>\n",
       "    </tr>\n",
       "  </thead>\n",
       "  <tbody>\n",
       "    <tr>\n",
       "      <td>0</td>\n",
       "      <td>-0.113052</td>\n",
       "      <td>4.576738</td>\n",
       "      <td>19.237255</td>\n",
       "    </tr>\n",
       "    <tr>\n",
       "      <td>1</td>\n",
       "      <td>8.110767</td>\n",
       "      <td>-2.908468</td>\n",
       "      <td>324.002063</td>\n",
       "    </tr>\n",
       "    <tr>\n",
       "      <td>2</td>\n",
       "      <td>6.671968</td>\n",
       "      <td>5.143933</td>\n",
       "      <td>249.797503</td>\n",
       "    </tr>\n",
       "    <tr>\n",
       "      <td>3</td>\n",
       "      <td>0.655402</td>\n",
       "      <td>4.741924</td>\n",
       "      <td>23.472988</td>\n",
       "    </tr>\n",
       "    <tr>\n",
       "      <td>4</td>\n",
       "      <td>-2.018113</td>\n",
       "      <td>-0.909728</td>\n",
       "      <td>20.213314</td>\n",
       "    </tr>\n",
       "  </tbody>\n",
       "</table>\n",
       "</div>"
      ],
      "text/plain": [
       "          x         y           z\n",
       "0 -0.113052  4.576738   19.237255\n",
       "1  8.110767 -2.908468  324.002063\n",
       "2  6.671968  5.143933  249.797503\n",
       "3  0.655402  4.741924   23.472988\n",
       "4 -2.018113 -0.909728   20.213314"
      ]
     },
     "execution_count": 114,
     "metadata": {},
     "output_type": "execute_result"
    }
   ],
   "source": [
    "df['z'] = (5.* df['x']**2 + 0.2 * df['y']**3)\n",
    "df.head()"
   ]
  },
  {
   "cell_type": "code",
   "execution_count": 115,
   "metadata": {},
   "outputs": [
    {
     "data": {
      "image/png": "[encoded data removed]",
      "text/plain": [
       "<Figure size 432x288 with 1 Axes>"
      ]
     },
     "metadata": {
      "needs_background": "light"
     },
     "output_type": "display_data"
    }
   ],
   "source": [
    "import matplotlib.pyplot as plt\n",
    "from mpl_toolkits.mplot3d import Axes3D\n",
    "\n",
    "threedee = plt.figure().gca(projection='3d')\n",
    "threedee.scatter(df['x'], df['y'], df['z'])\n",
    "threedee.set_xlabel('x')\n",
    "threedee.set_ylabel('y')\n",
    "threedee.set_zlabel('z')\n",
    "plt.show()"
   ]
  },
  {
   "cell_type": "code",
   "execution_count": 116,
   "metadata": {},
   "outputs": [],
   "source": [
    "X = df.dropna().drop('z', axis=1)\n",
    "y = df.dropna().drop(['x', 'y'], axis=1)"
   ]
  },
  {
   "cell_type": "code",
   "execution_count": 117,
   "metadata": {},
   "outputs": [
    {
     "data": {
      "text/plain": [
       "(10000, 2)"
      ]
     },
     "execution_count": 117,
     "metadata": {},
     "output_type": "execute_result"
    }
   ],
   "source": [
    "X.shape"
   ]
  },
  {
   "cell_type": "markdown",
   "metadata": {},
   "source": [
    "Let's use the interval \\[0, 800\\] as the *past* (to train with), and \\[800, 1000\\] as the *future* (to predict or test the training):"
   ]
  },
  {
   "cell_type": "code",
   "execution_count": 118,
   "metadata": {},
   "outputs": [],
   "source": [
    "y_train = y[:800]\n",
    "y_test = y[800:]"
   ]
  },
  {
   "cell_type": "code",
   "execution_count": 119,
   "metadata": {},
   "outputs": [
    {
     "data": {
      "text/html": [
       "<div>\n",
       "<style scoped>\n",
       "    .dataframe tbody tr th:only-of-type {\n",
       "        vertical-align: middle;\n",
       "    }\n",
       "\n",
       "    .dataframe tbody tr th {\n",
       "        vertical-align: top;\n",
       "    }\n",
       "\n",
       "    .dataframe thead th {\n",
       "        text-align: right;\n",
       "    }\n",
       "</style>\n",
       "<table border=\"1\" class=\"dataframe\">\n",
       "  <thead>\n",
       "    <tr style=\"text-align: right;\">\n",
       "      <th></th>\n",
       "      <th>z</th>\n",
       "    </tr>\n",
       "  </thead>\n",
       "  <tbody>\n",
       "    <tr>\n",
       "      <td>0</td>\n",
       "      <td>19.237255</td>\n",
       "    </tr>\n",
       "    <tr>\n",
       "      <td>1</td>\n",
       "      <td>324.002063</td>\n",
       "    </tr>\n",
       "    <tr>\n",
       "      <td>2</td>\n",
       "      <td>249.797503</td>\n",
       "    </tr>\n",
       "    <tr>\n",
       "      <td>3</td>\n",
       "      <td>23.472988</td>\n",
       "    </tr>\n",
       "    <tr>\n",
       "      <td>4</td>\n",
       "      <td>20.213314</td>\n",
       "    </tr>\n",
       "    <tr>\n",
       "      <td>...</td>\n",
       "      <td>...</td>\n",
       "    </tr>\n",
       "    <tr>\n",
       "      <td>795</td>\n",
       "      <td>3.792294</td>\n",
       "    </tr>\n",
       "    <tr>\n",
       "      <td>796</td>\n",
       "      <td>250.670094</td>\n",
       "    </tr>\n",
       "    <tr>\n",
       "      <td>797</td>\n",
       "      <td>528.736482</td>\n",
       "    </tr>\n",
       "    <tr>\n",
       "      <td>798</td>\n",
       "      <td>418.748232</td>\n",
       "    </tr>\n",
       "    <tr>\n",
       "      <td>799</td>\n",
       "      <td>286.014767</td>\n",
       "    </tr>\n",
       "  </tbody>\n",
       "</table>\n",
       "<p>800 rows × 1 columns</p>\n",
       "</div>"
      ],
      "text/plain": [
       "              z\n",
       "0     19.237255\n",
       "1    324.002063\n",
       "2    249.797503\n",
       "3     23.472988\n",
       "4     20.213314\n",
       "..          ...\n",
       "795    3.792294\n",
       "796  250.670094\n",
       "797  528.736482\n",
       "798  418.748232\n",
       "799  286.014767\n",
       "\n",
       "[800 rows x 1 columns]"
      ]
     },
     "execution_count": 119,
     "metadata": {},
     "output_type": "execute_result"
    }
   ],
   "source": [
    "y_train"
   ]
  },
  {
   "cell_type": "code",
   "execution_count": 120,
   "metadata": {},
   "outputs": [
    {
     "data": {
      "text/html": [
       "<div>\n",
       "<style scoped>\n",
       "    .dataframe tbody tr th:only-of-type {\n",
       "        vertical-align: middle;\n",
       "    }\n",
       "\n",
       "    .dataframe tbody tr th {\n",
       "        vertical-align: top;\n",
       "    }\n",
       "\n",
       "    .dataframe thead th {\n",
       "        text-align: right;\n",
       "    }\n",
       "</style>\n",
       "<table border=\"1\" class=\"dataframe\">\n",
       "  <thead>\n",
       "    <tr style=\"text-align: right;\">\n",
       "      <th></th>\n",
       "      <th>z</th>\n",
       "    </tr>\n",
       "  </thead>\n",
       "  <tbody>\n",
       "    <tr>\n",
       "      <td>800</td>\n",
       "      <td>73.502714</td>\n",
       "    </tr>\n",
       "    <tr>\n",
       "      <td>801</td>\n",
       "      <td>200.303369</td>\n",
       "    </tr>\n",
       "    <tr>\n",
       "      <td>802</td>\n",
       "      <td>14.423720</td>\n",
       "    </tr>\n",
       "    <tr>\n",
       "      <td>803</td>\n",
       "      <td>140.911215</td>\n",
       "    </tr>\n",
       "    <tr>\n",
       "      <td>804</td>\n",
       "      <td>470.998816</td>\n",
       "    </tr>\n",
       "    <tr>\n",
       "      <td>...</td>\n",
       "      <td>...</td>\n",
       "    </tr>\n",
       "    <tr>\n",
       "      <td>9995</td>\n",
       "      <td>151.378331</td>\n",
       "    </tr>\n",
       "    <tr>\n",
       "      <td>9996</td>\n",
       "      <td>220.924203</td>\n",
       "    </tr>\n",
       "    <tr>\n",
       "      <td>9997</td>\n",
       "      <td>317.014183</td>\n",
       "    </tr>\n",
       "    <tr>\n",
       "      <td>9998</td>\n",
       "      <td>310.306461</td>\n",
       "    </tr>\n",
       "    <tr>\n",
       "      <td>9999</td>\n",
       "      <td>492.209432</td>\n",
       "    </tr>\n",
       "  </tbody>\n",
       "</table>\n",
       "<p>9200 rows × 1 columns</p>\n",
       "</div>"
      ],
      "text/plain": [
       "               z\n",
       "800    73.502714\n",
       "801   200.303369\n",
       "802    14.423720\n",
       "803   140.911215\n",
       "804   470.998816\n",
       "...          ...\n",
       "9995  151.378331\n",
       "9996  220.924203\n",
       "9997  317.014183\n",
       "9998  310.306461\n",
       "9999  492.209432\n",
       "\n",
       "[9200 rows x 1 columns]"
      ]
     },
     "execution_count": 120,
     "metadata": {},
     "output_type": "execute_result"
    }
   ],
   "source": [
    "y_test"
   ]
  },
  {
   "cell_type": "code",
   "execution_count": 121,
   "metadata": {},
   "outputs": [],
   "source": [
    "X_train = X.drop(X.index[800:])\n",
    "X_test = X.drop(X.index[0:800])"
   ]
  },
  {
   "cell_type": "code",
   "execution_count": 122,
   "metadata": {},
   "outputs": [
    {
     "data": {
      "text/html": [
       "<div>\n",
       "<style scoped>\n",
       "    .dataframe tbody tr th:only-of-type {\n",
       "        vertical-align: middle;\n",
       "    }\n",
       "\n",
       "    .dataframe tbody tr th {\n",
       "        vertical-align: top;\n",
       "    }\n",
       "\n",
       "    .dataframe thead th {\n",
       "        text-align: right;\n",
       "    }\n",
       "</style>\n",
       "<table border=\"1\" class=\"dataframe\">\n",
       "  <thead>\n",
       "    <tr style=\"text-align: right;\">\n",
       "      <th></th>\n",
       "      <th>x</th>\n",
       "      <th>y</th>\n",
       "    </tr>\n",
       "  </thead>\n",
       "  <tbody>\n",
       "    <tr>\n",
       "      <td>0</td>\n",
       "      <td>-0.113052</td>\n",
       "      <td>4.576738</td>\n",
       "    </tr>\n",
       "    <tr>\n",
       "      <td>1</td>\n",
       "      <td>8.110767</td>\n",
       "      <td>-2.908468</td>\n",
       "    </tr>\n",
       "    <tr>\n",
       "      <td>2</td>\n",
       "      <td>6.671968</td>\n",
       "      <td>5.143933</td>\n",
       "    </tr>\n",
       "    <tr>\n",
       "      <td>3</td>\n",
       "      <td>0.655402</td>\n",
       "      <td>4.741924</td>\n",
       "    </tr>\n",
       "    <tr>\n",
       "      <td>4</td>\n",
       "      <td>-2.018113</td>\n",
       "      <td>-0.909728</td>\n",
       "    </tr>\n",
       "    <tr>\n",
       "      <td>...</td>\n",
       "      <td>...</td>\n",
       "      <td>...</td>\n",
       "    </tr>\n",
       "    <tr>\n",
       "      <td>795</td>\n",
       "      <td>-1.036657</td>\n",
       "      <td>-1.992048</td>\n",
       "    </tr>\n",
       "    <tr>\n",
       "      <td>796</td>\n",
       "      <td>8.266723</td>\n",
       "      <td>-7.692032</td>\n",
       "    </tr>\n",
       "    <tr>\n",
       "      <td>797</td>\n",
       "      <td>9.420822</td>\n",
       "      <td>7.517797</td>\n",
       "    </tr>\n",
       "    <tr>\n",
       "      <td>798</td>\n",
       "      <td>-8.869243</td>\n",
       "      <td>5.028560</td>\n",
       "    </tr>\n",
       "    <tr>\n",
       "      <td>799</td>\n",
       "      <td>-7.563277</td>\n",
       "      <td>-0.174084</td>\n",
       "    </tr>\n",
       "  </tbody>\n",
       "</table>\n",
       "<p>800 rows × 2 columns</p>\n",
       "</div>"
      ],
      "text/plain": [
       "            x         y\n",
       "0   -0.113052  4.576738\n",
       "1    8.110767 -2.908468\n",
       "2    6.671968  5.143933\n",
       "3    0.655402  4.741924\n",
       "4   -2.018113 -0.909728\n",
       "..        ...       ...\n",
       "795 -1.036657 -1.992048\n",
       "796  8.266723 -7.692032\n",
       "797  9.420822  7.517797\n",
       "798 -8.869243  5.028560\n",
       "799 -7.563277 -0.174084\n",
       "\n",
       "[800 rows x 2 columns]"
      ]
     },
     "execution_count": 122,
     "metadata": {},
     "output_type": "execute_result"
    }
   ],
   "source": [
    "X_train"
   ]
  },
  {
   "cell_type": "code",
   "execution_count": 123,
   "metadata": {},
   "outputs": [
    {
     "data": {
      "text/html": [
       "<div>\n",
       "<style scoped>\n",
       "    .dataframe tbody tr th:only-of-type {\n",
       "        vertical-align: middle;\n",
       "    }\n",
       "\n",
       "    .dataframe tbody tr th {\n",
       "        vertical-align: top;\n",
       "    }\n",
       "\n",
       "    .dataframe thead th {\n",
       "        text-align: right;\n",
       "    }\n",
       "</style>\n",
       "<table border=\"1\" class=\"dataframe\">\n",
       "  <thead>\n",
       "    <tr style=\"text-align: right;\">\n",
       "      <th></th>\n",
       "      <th>x</th>\n",
       "      <th>y</th>\n",
       "    </tr>\n",
       "  </thead>\n",
       "  <tbody>\n",
       "    <tr>\n",
       "      <td>800</td>\n",
       "      <td>-3.834113</td>\n",
       "      <td>0.145120</td>\n",
       "    </tr>\n",
       "    <tr>\n",
       "      <td>801</td>\n",
       "      <td>6.593369</td>\n",
       "      <td>-4.401929</td>\n",
       "    </tr>\n",
       "    <tr>\n",
       "      <td>802</td>\n",
       "      <td>1.849866</td>\n",
       "      <td>-2.377070</td>\n",
       "    </tr>\n",
       "    <tr>\n",
       "      <td>803</td>\n",
       "      <td>4.521157</td>\n",
       "      <td>5.784327</td>\n",
       "    </tr>\n",
       "    <tr>\n",
       "      <td>804</td>\n",
       "      <td>-9.697421</td>\n",
       "      <td>1.586733</td>\n",
       "    </tr>\n",
       "    <tr>\n",
       "      <td>...</td>\n",
       "      <td>...</td>\n",
       "      <td>...</td>\n",
       "    </tr>\n",
       "    <tr>\n",
       "      <td>9995</td>\n",
       "      <td>-5.090774</td>\n",
       "      <td>4.776743</td>\n",
       "    </tr>\n",
       "    <tr>\n",
       "      <td>9996</td>\n",
       "      <td>-6.987184</td>\n",
       "      <td>-4.875563</td>\n",
       "    </tr>\n",
       "    <tr>\n",
       "      <td>9997</td>\n",
       "      <td>9.394163</td>\n",
       "      <td>-8.532456</td>\n",
       "    </tr>\n",
       "    <tr>\n",
       "      <td>9998</td>\n",
       "      <td>-7.181884</td>\n",
       "      <td>6.399202</td>\n",
       "    </tr>\n",
       "    <tr>\n",
       "      <td>9999</td>\n",
       "      <td>-9.920857</td>\n",
       "      <td>0.773140</td>\n",
       "    </tr>\n",
       "  </tbody>\n",
       "</table>\n",
       "<p>9200 rows × 2 columns</p>\n",
       "</div>"
      ],
      "text/plain": [
       "             x         y\n",
       "800  -3.834113  0.145120\n",
       "801   6.593369 -4.401929\n",
       "802   1.849866 -2.377070\n",
       "803   4.521157  5.784327\n",
       "804  -9.697421  1.586733\n",
       "...        ...       ...\n",
       "9995 -5.090774  4.776743\n",
       "9996 -6.987184 -4.875563\n",
       "9997  9.394163 -8.532456\n",
       "9998 -7.181884  6.399202\n",
       "9999 -9.920857  0.773140\n",
       "\n",
       "[9200 rows x 2 columns]"
      ]
     },
     "execution_count": 123,
     "metadata": {},
     "output_type": "execute_result"
    }
   ],
   "source": [
    "X_test"
   ]
  },
  {
   "cell_type": "code",
   "execution_count": 124,
   "metadata": {},
   "outputs": [
    {
     "name": "stderr",
     "output_type": "stream",
     "text": [
      "C:\\Users\\Utkarsh\\Anaconda3\\lib\\site-packages\\sklearn\\ensemble\\forest.py:245: FutureWarning: The default value of n_estimators will change from 10 in version 0.20 to 100 in 0.22.\n",
      "  \"10 in version 0.20 to 100 in 0.22.\", FutureWarning)\n",
      "C:\\Users\\Utkarsh\\Anaconda3\\lib\\site-packages\\ipykernel_launcher.py:8: DataConversionWarning: A column-vector y was passed when a 1d array was expected. Please change the shape of y to (n_samples,), for example using ravel().\n",
      "  \n"
     ]
    },
    {
     "data": {
      "text/plain": [
       "0.991937219795865"
      ]
     },
     "execution_count": 124,
     "metadata": {},
     "output_type": "execute_result"
    }
   ],
   "source": [
    "from sklearn.ensemble import RandomForestRegressor\n",
    "from sklearn import metrics\n",
    "\n",
    "# Create a model \n",
    "rf_model = RandomForestRegressor()\n",
    "\n",
    "# Train the model\n",
    "rf_model.fit(X_train, y_train)\n",
    "\n",
    "# Get R2 measure (indicator of accuracy 1 is perfect, 0 is horrible)\n",
    "rf_model.score(X_test, y_test)"
   ]
  },
  {
   "cell_type": "code",
   "execution_count": 125,
   "metadata": {},
   "outputs": [
    {
     "data": {
      "text/plain": [
       "<matplotlib.axes._subplots.AxesSubplot at 0x1c6f78c4bc8>"
      ]
     },
     "execution_count": 125,
     "metadata": {},
     "output_type": "execute_result"
    },
    {
     "data": {
      "image/png": "[encoded data removed]",
      "text/plain": [
       "<Figure size 432x288 with 1 Axes>"
      ]
     },
     "metadata": {
      "needs_background": "light"
     },
     "output_type": "display_data"
    }
   ],
   "source": [
    "y_pred = rf_model.predict(X_test)\n",
    "dfv = pd.DataFrame({'y_test':np.squeeze(y_test).values, 'y_pred':y_pred})\n",
    "dfv.plot('y_test', 'y_pred', kind='scatter')"
   ]
  },
  {
   "cell_type": "markdown",
   "metadata": {},
   "source": [
    "Yahhhh! Still great prediction! So it's not like we're predicting individual datapoints because of smoothness and good linear approximations. We are predicting entire intervals (\\[800, \\1000\\])!"
   ]
  },
  {
   "cell_type": "markdown",
   "metadata": {},
   "source": [
    "# More wildly non-linear\n",
    "\n",
    "Really, can ML algorithms pick up *all* non-linearities? How about we use the same non-linear `z = f(x,y)` as right above, except let's *wiggle* the hell out of it with trigonometric functions!\n",
    "\n",
    "<br />\n",
    "<center>\n",
    "<img src=\"ipynb.images/shar-pei.jpg\" width=400 />\n",
    "Shar-Pei breed\n",
    "</center>"
   ]
  },
  {
   "cell_type": "code",
   "execution_count": 126,
   "metadata": {},
   "outputs": [
    {
     "data": {
      "text/html": [
       "<div>\n",
       "<style scoped>\n",
       "    .dataframe tbody tr th:only-of-type {\n",
       "        vertical-align: middle;\n",
       "    }\n",
       "\n",
       "    .dataframe tbody tr th {\n",
       "        vertical-align: top;\n",
       "    }\n",
       "\n",
       "    .dataframe thead th {\n",
       "        text-align: right;\n",
       "    }\n",
       "</style>\n",
       "<table border=\"1\" class=\"dataframe\">\n",
       "  <thead>\n",
       "    <tr style=\"text-align: right;\">\n",
       "      <th></th>\n",
       "      <th>x</th>\n",
       "      <th>y</th>\n",
       "      <th>z</th>\n",
       "    </tr>\n",
       "  </thead>\n",
       "  <tbody>\n",
       "    <tr>\n",
       "      <td>0</td>\n",
       "      <td>-0.113052</td>\n",
       "      <td>4.576738</td>\n",
       "      <td>0.293486</td>\n",
       "    </tr>\n",
       "    <tr>\n",
       "      <td>1</td>\n",
       "      <td>8.110767</td>\n",
       "      <td>-2.908468</td>\n",
       "      <td>-304.901392</td>\n",
       "    </tr>\n",
       "    <tr>\n",
       "      <td>2</td>\n",
       "      <td>6.671968</td>\n",
       "      <td>5.143933</td>\n",
       "      <td>39.605787</td>\n",
       "    </tr>\n",
       "    <tr>\n",
       "      <td>3</td>\n",
       "      <td>0.655402</td>\n",
       "      <td>4.741924</td>\n",
       "      <td>0.422475</td>\n",
       "    </tr>\n",
       "    <tr>\n",
       "      <td>4</td>\n",
       "      <td>-2.018113</td>\n",
       "      <td>-0.909728</td>\n",
       "      <td>-11.189152</td>\n",
       "    </tr>\n",
       "  </tbody>\n",
       "</table>\n",
       "</div>"
      ],
      "text/plain": [
       "          x         y           z\n",
       "0 -0.113052  4.576738    0.293486\n",
       "1  8.110767 -2.908468 -304.901392\n",
       "2  6.671968  5.143933   39.605787\n",
       "3  0.655402  4.741924    0.422475\n",
       "4 -2.018113 -0.909728  -11.189152"
      ]
     },
     "execution_count": 126,
     "metadata": {},
     "output_type": "execute_result"
    }
   ],
   "source": [
    "df['z'] = (5.* df['x']**2 + 0.2 * df['y']**3) * np.sin(df['x']) * np.cos(df['y'])\n",
    "df.head()"
   ]
  },
  {
   "cell_type": "code",
   "execution_count": 127,
   "metadata": {},
   "outputs": [
    {
     "data": {
      "image/png": "[encoded data removed]",
      "text/plain": [
       "<Figure size 432x288 with 1 Axes>"
      ]
     },
     "metadata": {
      "needs_background": "light"
     },
     "output_type": "display_data"
    }
   ],
   "source": [
    "import matplotlib.pyplot as plt\n",
    "from mpl_toolkits.mplot3d import Axes3D\n",
    "\n",
    "threedee = plt.figure().gca(projection='3d')\n",
    "threedee.scatter(df['x'], df['y'], df['z'])\n",
    "threedee.set_xlabel('x')\n",
    "threedee.set_ylabel('y')\n",
    "threedee.set_zlabel('z')\n",
    "plt.show()"
   ]
  },
  {
   "cell_type": "code",
   "execution_count": 128,
   "metadata": {},
   "outputs": [],
   "source": [
    "X = df.dropna().drop('z', axis=1)\n",
    "y = df.dropna().drop(['x', 'y'], axis=1)"
   ]
  },
  {
   "cell_type": "markdown",
   "metadata": {},
   "source": [
    "Let's try *both* types of splits! Run one ***or the other*** cell below, *not both*! Then come back, and run the other one."
   ]
  },
  {
   "cell_type": "code",
   "execution_count": 133,
   "metadata": {},
   "outputs": [],
   "source": [
    "y_train = y[:800]\n",
    "y_test = y[800:]\n",
    "X_train = X.drop(X.index[800:])\n",
    "X_test = X.drop(X.index[0:800])"
   ]
  },
  {
   "cell_type": "code",
   "execution_count": 135,
   "metadata": {},
   "outputs": [],
   "source": [
    "from sklearn.model_selection import train_test_split\n",
    "X_train, X_test, y_train, y_test = train_test_split(X, y, random_state=42)"
   ]
  },
  {
   "cell_type": "code",
   "execution_count": 136,
   "metadata": {},
   "outputs": [
    {
     "name": "stderr",
     "output_type": "stream",
     "text": [
      "C:\\Users\\Utkarsh\\Anaconda3\\lib\\site-packages\\sklearn\\ensemble\\forest.py:245: FutureWarning: The default value of n_estimators will change from 10 in version 0.20 to 100 in 0.22.\n",
      "  \"10 in version 0.20 to 100 in 0.22.\", FutureWarning)\n",
      "C:\\Users\\Utkarsh\\Anaconda3\\lib\\site-packages\\ipykernel_launcher.py:8: DataConversionWarning: A column-vector y was passed when a 1d array was expected. Please change the shape of y to (n_samples,), for example using ravel().\n",
      "  \n"
     ]
    },
    {
     "data": {
      "text/plain": [
       "0.9735627339831624"
      ]
     },
     "execution_count": 136,
     "metadata": {},
     "output_type": "execute_result"
    }
   ],
   "source": [
    "from sklearn.ensemble import RandomForestRegressor\n",
    "from sklearn import metrics\n",
    "\n",
    "# Create a model \n",
    "rf_model = RandomForestRegressor()\n",
    "\n",
    "# Train the model\n",
    "rf_model.fit(X_train, y_train)\n",
    "\n",
    "# Get R2 measure (indicator of accuracy 1 is perfect, 0 is horrible)\n",
    "rf_model.score(X_test, y_test)"
   ]
  },
  {
   "cell_type": "code",
   "execution_count": 132,
   "metadata": {},
   "outputs": [
    {
     "data": {
      "text/plain": [
       "<matplotlib.axes._subplots.AxesSubplot at 0x1c6f92cc588>"
      ]
     },
     "execution_count": 132,
     "metadata": {},
     "output_type": "execute_result"
    },
    {
     "data": {
      "image/png": "[encoded data removed]",
      "text/plain": [
       "<Figure size 432x288 with 1 Axes>"
      ]
     },
     "metadata": {
      "needs_background": "light"
     },
     "output_type": "display_data"
    }
   ],
   "source": [
    "y_pred = rf_model.predict(X_test)\n",
    "dfv = pd.DataFrame({'y_test':np.squeeze(y_test).values, 'y_pred':y_pred})\n",
    "dfv.plot('y_test', 'y_pred', kind='scatter')"
   ]
  },
  {
   "cell_type": "markdown",
   "metadata": {},
   "source": [
    "Ohhh. Not that good anymore, right?\n",
    "\n",
    "<br />\n",
    "<center>\n",
    "<img src=\"ipynb.images/home-alone.jpg\" width=400 />\n",
    "</center>\n",
    "\n",
    "# Conclusion\n",
    "\n",
    "ML algorithms are *guaranteed* to work when there is a *linear relationship* between the independent variables ($X$) and the dependent variable ($y$), and they may even work on *some* non-linear relationships between $X$ and $y$. But if the non-linearity is *too strong*, they may fail quite dramatically, and you need to work hard to be able to model it. And when there *is no relationship*, as in attempting to predict the future from the past, they are *guaranteed to fail*.\n",
    "\n",
    "In other words, it's what's professor told you:\n",
    "\n",
    ">Machine Learning is (linear) function approximation theory\n",
    "\n",
    "And that is what your brain does as well! Your brain's reasoning nucleus is made out of high-dimensional *surfaces* that capture the *models* that you've built to subsume your life'e *experiences*. But like our [Shar-pei](https://en.wikipedia.org/wiki/Shar_Pei) data above, your models may *fail* you when the experience becomes highly non-linear! \n",
    "\n",
    "So now that you know how *easy* it is to make mistakes my dear students, you can officially consider yourself *indoctrinated* to Western's civilization [scientific approach]((https://partiallyexaminedlife.com/2015/03/06/science-technology-and-society-ii-j-s-mill-on-scientific-method/)), best described by [John Stuart Mill](https://en.wikipedia.org/wiki/John_Stuart_Mill).\n",
    "\n",
    ">**The Scientific Approach**: In A System of Logic (1843) Mill proposed what has since become the standard description of a scientific explanation, called the Covering Law Model. According to Mill, science is concerned with the discovery of regular patterns in experience (laws), and a scientific explanation of a fact is one that fixes its relationship to such laws. As we gain experience in detecting these laws, we observe that certain features of investigation are more conducive to discovery than others. We might, in other words, propose a law about the discovery of laws – the Scientific Method. This method is, simply, to use inference and inductive reason to create a set of hypotheses, and then to use deductive reason to derive from them likely consequences. We then perform an experiment, and on that basis we eliminate or revise our theories until we arrive at the true explanation."
   ]
  },
  {
   "cell_type": "markdown",
   "metadata": {},
   "source": [
    "# Quiz\n",
    "\n",
    "Can you change one thing from the problem above to make the prediction *successful*, assuming ***you cannot change the `z` equation***?"
   ]
  },
  {
   "cell_type": "markdown",
   "metadata": {},
   "source": [
    "<br />\n",
    "<center>\n",
    "<img src=\"ipynb.images/funny-fish.gif\" width=400 />\n",
    "    The End\n",
    "</center>"
   ]
  }
 ],
 "metadata": {
  "kernelspec": {
   "display_name": "Python 3",
   "language": "python",
   "name": "python3"
  },
  "language_info": {
   "codemirror_mode": {
    "name": "ipython",
    "version": 3
   },
   "file_extension": ".py",
   "mimetype": "text/x-python",
   "name": "python",
   "nbconvert_exporter": "python",
   "pygments_lexer": "ipython3",
   "version": "3.7.4"
  }
 },
 "nbformat": 4,
 "nbformat_minor": 2
}
